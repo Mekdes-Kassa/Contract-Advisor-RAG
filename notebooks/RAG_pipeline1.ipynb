{
  "nbformat": 4,
  "nbformat_minor": 0,
  "metadata": {
    "colab": {
      "provenance": [],
      "collapsed_sections": [
        "fbsP3U29VMDK",
        "VHvhBrOHVUgR",
        "_3ftYDBCV1qy"
      ]
    },
    "kernelspec": {
      "name": "python3",
      "display_name": "Python 3"
    },
    "language_info": {
      "name": "python"
    },
    "widgets": {
      "application/vnd.jupyter.widget-state+json": {
        "00932825ff8547d9b2819006fc22ff11": {
          "model_module": "@jupyter-widgets/controls",
          "model_name": "HBoxModel",
          "model_module_version": "1.5.0",
          "state": {
            "_dom_classes": [],
            "_model_module": "@jupyter-widgets/controls",
            "_model_module_version": "1.5.0",
            "_model_name": "HBoxModel",
            "_view_count": null,
            "_view_module": "@jupyter-widgets/controls",
            "_view_module_version": "1.5.0",
            "_view_name": "HBoxView",
            "box_style": "",
            "children": [
              "IPY_MODEL_167571b1dc1a49c0b3a72fad6f5a05b5",
              "IPY_MODEL_8db6cc01606444958c681fbd0f4ecb62",
              "IPY_MODEL_08833e4844ca4367aea1311b7b0c3422"
            ],
            "layout": "IPY_MODEL_8f145404aeea4df595493b06b3968576"
          }
        },
        "167571b1dc1a49c0b3a72fad6f5a05b5": {
          "model_module": "@jupyter-widgets/controls",
          "model_name": "HTMLModel",
          "model_module_version": "1.5.0",
          "state": {
            "_dom_classes": [],
            "_model_module": "@jupyter-widgets/controls",
            "_model_module_version": "1.5.0",
            "_model_name": "HTMLModel",
            "_view_count": null,
            "_view_module": "@jupyter-widgets/controls",
            "_view_module_version": "1.5.0",
            "_view_name": "HTMLView",
            "description": "",
            "description_tooltip": null,
            "layout": "IPY_MODEL_5ea0131f95ca44d88cea3e2c05c52652",
            "placeholder": "​",
            "style": "IPY_MODEL_751a0524b7ff4922b7a5768def7093a0",
            "value": "Creating CSV from Arrow format: 100%"
          }
        },
        "8db6cc01606444958c681fbd0f4ecb62": {
          "model_module": "@jupyter-widgets/controls",
          "model_name": "FloatProgressModel",
          "model_module_version": "1.5.0",
          "state": {
            "_dom_classes": [],
            "_model_module": "@jupyter-widgets/controls",
            "_model_module_version": "1.5.0",
            "_model_name": "FloatProgressModel",
            "_view_count": null,
            "_view_module": "@jupyter-widgets/controls",
            "_view_module_version": "1.5.0",
            "_view_name": "ProgressView",
            "bar_style": "success",
            "description": "",
            "description_tooltip": null,
            "layout": "IPY_MODEL_ddb6c689f01d46a1b5c720f61a37ddac",
            "max": 1,
            "min": 0,
            "orientation": "horizontal",
            "style": "IPY_MODEL_8d4036004abe4b70ae7ffd8290ac01db",
            "value": 1
          }
        },
        "08833e4844ca4367aea1311b7b0c3422": {
          "model_module": "@jupyter-widgets/controls",
          "model_name": "HTMLModel",
          "model_module_version": "1.5.0",
          "state": {
            "_dom_classes": [],
            "_model_module": "@jupyter-widgets/controls",
            "_model_module_version": "1.5.0",
            "_model_name": "HTMLModel",
            "_view_count": null,
            "_view_module": "@jupyter-widgets/controls",
            "_view_module_version": "1.5.0",
            "_view_name": "HTMLView",
            "description": "",
            "description_tooltip": null,
            "layout": "IPY_MODEL_19c3ebbbaaac4f61b96af9f71048abee",
            "placeholder": "​",
            "style": "IPY_MODEL_26563490c3f945bfa7be50abfb4aae80",
            "value": " 1/1 [00:00&lt;00:00, 25.95ba/s]"
          }
        },
        "8f145404aeea4df595493b06b3968576": {
          "model_module": "@jupyter-widgets/base",
          "model_name": "LayoutModel",
          "model_module_version": "1.2.0",
          "state": {
            "_model_module": "@jupyter-widgets/base",
            "_model_module_version": "1.2.0",
            "_model_name": "LayoutModel",
            "_view_count": null,
            "_view_module": "@jupyter-widgets/base",
            "_view_module_version": "1.2.0",
            "_view_name": "LayoutView",
            "align_content": null,
            "align_items": null,
            "align_self": null,
            "border": null,
            "bottom": null,
            "display": null,
            "flex": null,
            "flex_flow": null,
            "grid_area": null,
            "grid_auto_columns": null,
            "grid_auto_flow": null,
            "grid_auto_rows": null,
            "grid_column": null,
            "grid_gap": null,
            "grid_row": null,
            "grid_template_areas": null,
            "grid_template_columns": null,
            "grid_template_rows": null,
            "height": null,
            "justify_content": null,
            "justify_items": null,
            "left": null,
            "margin": null,
            "max_height": null,
            "max_width": null,
            "min_height": null,
            "min_width": null,
            "object_fit": null,
            "object_position": null,
            "order": null,
            "overflow": null,
            "overflow_x": null,
            "overflow_y": null,
            "padding": null,
            "right": null,
            "top": null,
            "visibility": null,
            "width": null
          }
        },
        "5ea0131f95ca44d88cea3e2c05c52652": {
          "model_module": "@jupyter-widgets/base",
          "model_name": "LayoutModel",
          "model_module_version": "1.2.0",
          "state": {
            "_model_module": "@jupyter-widgets/base",
            "_model_module_version": "1.2.0",
            "_model_name": "LayoutModel",
            "_view_count": null,
            "_view_module": "@jupyter-widgets/base",
            "_view_module_version": "1.2.0",
            "_view_name": "LayoutView",
            "align_content": null,
            "align_items": null,
            "align_self": null,
            "border": null,
            "bottom": null,
            "display": null,
            "flex": null,
            "flex_flow": null,
            "grid_area": null,
            "grid_auto_columns": null,
            "grid_auto_flow": null,
            "grid_auto_rows": null,
            "grid_column": null,
            "grid_gap": null,
            "grid_row": null,
            "grid_template_areas": null,
            "grid_template_columns": null,
            "grid_template_rows": null,
            "height": null,
            "justify_content": null,
            "justify_items": null,
            "left": null,
            "margin": null,
            "max_height": null,
            "max_width": null,
            "min_height": null,
            "min_width": null,
            "object_fit": null,
            "object_position": null,
            "order": null,
            "overflow": null,
            "overflow_x": null,
            "overflow_y": null,
            "padding": null,
            "right": null,
            "top": null,
            "visibility": null,
            "width": null
          }
        },
        "751a0524b7ff4922b7a5768def7093a0": {
          "model_module": "@jupyter-widgets/controls",
          "model_name": "DescriptionStyleModel",
          "model_module_version": "1.5.0",
          "state": {
            "_model_module": "@jupyter-widgets/controls",
            "_model_module_version": "1.5.0",
            "_model_name": "DescriptionStyleModel",
            "_view_count": null,
            "_view_module": "@jupyter-widgets/base",
            "_view_module_version": "1.2.0",
            "_view_name": "StyleView",
            "description_width": ""
          }
        },
        "ddb6c689f01d46a1b5c720f61a37ddac": {
          "model_module": "@jupyter-widgets/base",
          "model_name": "LayoutModel",
          "model_module_version": "1.2.0",
          "state": {
            "_model_module": "@jupyter-widgets/base",
            "_model_module_version": "1.2.0",
            "_model_name": "LayoutModel",
            "_view_count": null,
            "_view_module": "@jupyter-widgets/base",
            "_view_module_version": "1.2.0",
            "_view_name": "LayoutView",
            "align_content": null,
            "align_items": null,
            "align_self": null,
            "border": null,
            "bottom": null,
            "display": null,
            "flex": null,
            "flex_flow": null,
            "grid_area": null,
            "grid_auto_columns": null,
            "grid_auto_flow": null,
            "grid_auto_rows": null,
            "grid_column": null,
            "grid_gap": null,
            "grid_row": null,
            "grid_template_areas": null,
            "grid_template_columns": null,
            "grid_template_rows": null,
            "height": null,
            "justify_content": null,
            "justify_items": null,
            "left": null,
            "margin": null,
            "max_height": null,
            "max_width": null,
            "min_height": null,
            "min_width": null,
            "object_fit": null,
            "object_position": null,
            "order": null,
            "overflow": null,
            "overflow_x": null,
            "overflow_y": null,
            "padding": null,
            "right": null,
            "top": null,
            "visibility": null,
            "width": null
          }
        },
        "8d4036004abe4b70ae7ffd8290ac01db": {
          "model_module": "@jupyter-widgets/controls",
          "model_name": "ProgressStyleModel",
          "model_module_version": "1.5.0",
          "state": {
            "_model_module": "@jupyter-widgets/controls",
            "_model_module_version": "1.5.0",
            "_model_name": "ProgressStyleModel",
            "_view_count": null,
            "_view_module": "@jupyter-widgets/base",
            "_view_module_version": "1.2.0",
            "_view_name": "StyleView",
            "bar_color": null,
            "description_width": ""
          }
        },
        "19c3ebbbaaac4f61b96af9f71048abee": {
          "model_module": "@jupyter-widgets/base",
          "model_name": "LayoutModel",
          "model_module_version": "1.2.0",
          "state": {
            "_model_module": "@jupyter-widgets/base",
            "_model_module_version": "1.2.0",
            "_model_name": "LayoutModel",
            "_view_count": null,
            "_view_module": "@jupyter-widgets/base",
            "_view_module_version": "1.2.0",
            "_view_name": "LayoutView",
            "align_content": null,
            "align_items": null,
            "align_self": null,
            "border": null,
            "bottom": null,
            "display": null,
            "flex": null,
            "flex_flow": null,
            "grid_area": null,
            "grid_auto_columns": null,
            "grid_auto_flow": null,
            "grid_auto_rows": null,
            "grid_column": null,
            "grid_gap": null,
            "grid_row": null,
            "grid_template_areas": null,
            "grid_template_columns": null,
            "grid_template_rows": null,
            "height": null,
            "justify_content": null,
            "justify_items": null,
            "left": null,
            "margin": null,
            "max_height": null,
            "max_width": null,
            "min_height": null,
            "min_width": null,
            "object_fit": null,
            "object_position": null,
            "order": null,
            "overflow": null,
            "overflow_x": null,
            "overflow_y": null,
            "padding": null,
            "right": null,
            "top": null,
            "visibility": null,
            "width": null
          }
        },
        "26563490c3f945bfa7be50abfb4aae80": {
          "model_module": "@jupyter-widgets/controls",
          "model_name": "DescriptionStyleModel",
          "model_module_version": "1.5.0",
          "state": {
            "_model_module": "@jupyter-widgets/controls",
            "_model_module_version": "1.5.0",
            "_model_name": "DescriptionStyleModel",
            "_view_count": null,
            "_view_module": "@jupyter-widgets/base",
            "_view_module_version": "1.2.0",
            "_view_name": "StyleView",
            "description_width": ""
          }
        },
        "6cb9b94de4da442fbf0040f5f15c1368": {
          "model_module": "@jupyter-widgets/controls",
          "model_name": "HBoxModel",
          "model_module_version": "1.5.0",
          "state": {
            "_dom_classes": [],
            "_model_module": "@jupyter-widgets/controls",
            "_model_module_version": "1.5.0",
            "_model_name": "HBoxModel",
            "_view_count": null,
            "_view_module": "@jupyter-widgets/controls",
            "_view_module_version": "1.5.0",
            "_view_name": "HBoxView",
            "box_style": "",
            "children": [
              "IPY_MODEL_44ce2fdd4a4b4404a5574ed6f56ea0c7",
              "IPY_MODEL_d49f43ae30be44078570816a0348ed9f",
              "IPY_MODEL_b5e29547a0d54d3a9f8d20a5a679d7cd"
            ],
            "layout": "IPY_MODEL_a0cc073b05e142d189884ef0e252dcb0"
          }
        },
        "44ce2fdd4a4b4404a5574ed6f56ea0c7": {
          "model_module": "@jupyter-widgets/controls",
          "model_name": "HTMLModel",
          "model_module_version": "1.5.0",
          "state": {
            "_dom_classes": [],
            "_model_module": "@jupyter-widgets/controls",
            "_model_module_version": "1.5.0",
            "_model_name": "HTMLModel",
            "_view_count": null,
            "_view_module": "@jupyter-widgets/controls",
            "_view_module_version": "1.5.0",
            "_view_name": "HTMLView",
            "description": "",
            "description_tooltip": null,
            "layout": "IPY_MODEL_2e097e33d3394642980cb18d858aad04",
            "placeholder": "​",
            "style": "IPY_MODEL_774db141320a48bd8745137dc48ce3f4",
            "value": "Generating train split: "
          }
        },
        "d49f43ae30be44078570816a0348ed9f": {
          "model_module": "@jupyter-widgets/controls",
          "model_name": "FloatProgressModel",
          "model_module_version": "1.5.0",
          "state": {
            "_dom_classes": [],
            "_model_module": "@jupyter-widgets/controls",
            "_model_module_version": "1.5.0",
            "_model_name": "FloatProgressModel",
            "_view_count": null,
            "_view_module": "@jupyter-widgets/controls",
            "_view_module_version": "1.5.0",
            "_view_name": "ProgressView",
            "bar_style": "success",
            "description": "",
            "description_tooltip": null,
            "layout": "IPY_MODEL_9f43a5a8af2d4c4c985ba87212524bbb",
            "max": 1,
            "min": 0,
            "orientation": "horizontal",
            "style": "IPY_MODEL_4d93f916102c4d28ac6ab5787a41665e",
            "value": 1
          }
        },
        "b5e29547a0d54d3a9f8d20a5a679d7cd": {
          "model_module": "@jupyter-widgets/controls",
          "model_name": "HTMLModel",
          "model_module_version": "1.5.0",
          "state": {
            "_dom_classes": [],
            "_model_module": "@jupyter-widgets/controls",
            "_model_module_version": "1.5.0",
            "_model_name": "HTMLModel",
            "_view_count": null,
            "_view_module": "@jupyter-widgets/controls",
            "_view_module_version": "1.5.0",
            "_view_name": "HTMLView",
            "description": "",
            "description_tooltip": null,
            "layout": "IPY_MODEL_ce48da3e7492444c90263d85435d1529",
            "placeholder": "​",
            "style": "IPY_MODEL_3e1e2e335ac849df8f6e69dd74c77cbf",
            "value": " 10/0 [00:00&lt;00:00, 228.54 examples/s]"
          }
        },
        "a0cc073b05e142d189884ef0e252dcb0": {
          "model_module": "@jupyter-widgets/base",
          "model_name": "LayoutModel",
          "model_module_version": "1.2.0",
          "state": {
            "_model_module": "@jupyter-widgets/base",
            "_model_module_version": "1.2.0",
            "_model_name": "LayoutModel",
            "_view_count": null,
            "_view_module": "@jupyter-widgets/base",
            "_view_module_version": "1.2.0",
            "_view_name": "LayoutView",
            "align_content": null,
            "align_items": null,
            "align_self": null,
            "border": null,
            "bottom": null,
            "display": null,
            "flex": null,
            "flex_flow": null,
            "grid_area": null,
            "grid_auto_columns": null,
            "grid_auto_flow": null,
            "grid_auto_rows": null,
            "grid_column": null,
            "grid_gap": null,
            "grid_row": null,
            "grid_template_areas": null,
            "grid_template_columns": null,
            "grid_template_rows": null,
            "height": null,
            "justify_content": null,
            "justify_items": null,
            "left": null,
            "margin": null,
            "max_height": null,
            "max_width": null,
            "min_height": null,
            "min_width": null,
            "object_fit": null,
            "object_position": null,
            "order": null,
            "overflow": null,
            "overflow_x": null,
            "overflow_y": null,
            "padding": null,
            "right": null,
            "top": null,
            "visibility": null,
            "width": null
          }
        },
        "2e097e33d3394642980cb18d858aad04": {
          "model_module": "@jupyter-widgets/base",
          "model_name": "LayoutModel",
          "model_module_version": "1.2.0",
          "state": {
            "_model_module": "@jupyter-widgets/base",
            "_model_module_version": "1.2.0",
            "_model_name": "LayoutModel",
            "_view_count": null,
            "_view_module": "@jupyter-widgets/base",
            "_view_module_version": "1.2.0",
            "_view_name": "LayoutView",
            "align_content": null,
            "align_items": null,
            "align_self": null,
            "border": null,
            "bottom": null,
            "display": null,
            "flex": null,
            "flex_flow": null,
            "grid_area": null,
            "grid_auto_columns": null,
            "grid_auto_flow": null,
            "grid_auto_rows": null,
            "grid_column": null,
            "grid_gap": null,
            "grid_row": null,
            "grid_template_areas": null,
            "grid_template_columns": null,
            "grid_template_rows": null,
            "height": null,
            "justify_content": null,
            "justify_items": null,
            "left": null,
            "margin": null,
            "max_height": null,
            "max_width": null,
            "min_height": null,
            "min_width": null,
            "object_fit": null,
            "object_position": null,
            "order": null,
            "overflow": null,
            "overflow_x": null,
            "overflow_y": null,
            "padding": null,
            "right": null,
            "top": null,
            "visibility": null,
            "width": null
          }
        },
        "774db141320a48bd8745137dc48ce3f4": {
          "model_module": "@jupyter-widgets/controls",
          "model_name": "DescriptionStyleModel",
          "model_module_version": "1.5.0",
          "state": {
            "_model_module": "@jupyter-widgets/controls",
            "_model_module_version": "1.5.0",
            "_model_name": "DescriptionStyleModel",
            "_view_count": null,
            "_view_module": "@jupyter-widgets/base",
            "_view_module_version": "1.2.0",
            "_view_name": "StyleView",
            "description_width": ""
          }
        },
        "9f43a5a8af2d4c4c985ba87212524bbb": {
          "model_module": "@jupyter-widgets/base",
          "model_name": "LayoutModel",
          "model_module_version": "1.2.0",
          "state": {
            "_model_module": "@jupyter-widgets/base",
            "_model_module_version": "1.2.0",
            "_model_name": "LayoutModel",
            "_view_count": null,
            "_view_module": "@jupyter-widgets/base",
            "_view_module_version": "1.2.0",
            "_view_name": "LayoutView",
            "align_content": null,
            "align_items": null,
            "align_self": null,
            "border": null,
            "bottom": null,
            "display": null,
            "flex": null,
            "flex_flow": null,
            "grid_area": null,
            "grid_auto_columns": null,
            "grid_auto_flow": null,
            "grid_auto_rows": null,
            "grid_column": null,
            "grid_gap": null,
            "grid_row": null,
            "grid_template_areas": null,
            "grid_template_columns": null,
            "grid_template_rows": null,
            "height": null,
            "justify_content": null,
            "justify_items": null,
            "left": null,
            "margin": null,
            "max_height": null,
            "max_width": null,
            "min_height": null,
            "min_width": null,
            "object_fit": null,
            "object_position": null,
            "order": null,
            "overflow": null,
            "overflow_x": null,
            "overflow_y": null,
            "padding": null,
            "right": null,
            "top": null,
            "visibility": null,
            "width": "20px"
          }
        },
        "4d93f916102c4d28ac6ab5787a41665e": {
          "model_module": "@jupyter-widgets/controls",
          "model_name": "ProgressStyleModel",
          "model_module_version": "1.5.0",
          "state": {
            "_model_module": "@jupyter-widgets/controls",
            "_model_module_version": "1.5.0",
            "_model_name": "ProgressStyleModel",
            "_view_count": null,
            "_view_module": "@jupyter-widgets/base",
            "_view_module_version": "1.2.0",
            "_view_name": "StyleView",
            "bar_color": null,
            "description_width": ""
          }
        },
        "ce48da3e7492444c90263d85435d1529": {
          "model_module": "@jupyter-widgets/base",
          "model_name": "LayoutModel",
          "model_module_version": "1.2.0",
          "state": {
            "_model_module": "@jupyter-widgets/base",
            "_model_module_version": "1.2.0",
            "_model_name": "LayoutModel",
            "_view_count": null,
            "_view_module": "@jupyter-widgets/base",
            "_view_module_version": "1.2.0",
            "_view_name": "LayoutView",
            "align_content": null,
            "align_items": null,
            "align_self": null,
            "border": null,
            "bottom": null,
            "display": null,
            "flex": null,
            "flex_flow": null,
            "grid_area": null,
            "grid_auto_columns": null,
            "grid_auto_flow": null,
            "grid_auto_rows": null,
            "grid_column": null,
            "grid_gap": null,
            "grid_row": null,
            "grid_template_areas": null,
            "grid_template_columns": null,
            "grid_template_rows": null,
            "height": null,
            "justify_content": null,
            "justify_items": null,
            "left": null,
            "margin": null,
            "max_height": null,
            "max_width": null,
            "min_height": null,
            "min_width": null,
            "object_fit": null,
            "object_position": null,
            "order": null,
            "overflow": null,
            "overflow_x": null,
            "overflow_y": null,
            "padding": null,
            "right": null,
            "top": null,
            "visibility": null,
            "width": null
          }
        },
        "3e1e2e335ac849df8f6e69dd74c77cbf": {
          "model_module": "@jupyter-widgets/controls",
          "model_name": "DescriptionStyleModel",
          "model_module_version": "1.5.0",
          "state": {
            "_model_module": "@jupyter-widgets/controls",
            "_model_module_version": "1.5.0",
            "_model_name": "DescriptionStyleModel",
            "_view_count": null,
            "_view_module": "@jupyter-widgets/base",
            "_view_module_version": "1.2.0",
            "_view_name": "StyleView",
            "description_width": ""
          }
        },
        "89a48ce522db4cf081c7180f42f9ea9d": {
          "model_module": "@jupyter-widgets/controls",
          "model_name": "HBoxModel",
          "model_module_version": "1.5.0",
          "state": {
            "_dom_classes": [],
            "_model_module": "@jupyter-widgets/controls",
            "_model_module_version": "1.5.0",
            "_model_name": "HBoxModel",
            "_view_count": null,
            "_view_module": "@jupyter-widgets/controls",
            "_view_module_version": "1.5.0",
            "_view_name": "HBoxView",
            "box_style": "",
            "children": [
              "IPY_MODEL_fe30627e6a1f456284d98a556af84e2c",
              "IPY_MODEL_34d67e4be67946409433857b9e3982ca",
              "IPY_MODEL_24c969f9bcdc4a22909796f79e7e5a74"
            ],
            "layout": "IPY_MODEL_6e832ec0502247f7a0dc7f57a8832347"
          }
        },
        "fe30627e6a1f456284d98a556af84e2c": {
          "model_module": "@jupyter-widgets/controls",
          "model_name": "HTMLModel",
          "model_module_version": "1.5.0",
          "state": {
            "_dom_classes": [],
            "_model_module": "@jupyter-widgets/controls",
            "_model_module_version": "1.5.0",
            "_model_name": "HTMLModel",
            "_view_count": null,
            "_view_module": "@jupyter-widgets/controls",
            "_view_module_version": "1.5.0",
            "_view_name": "HTMLView",
            "description": "",
            "description_tooltip": null,
            "layout": "IPY_MODEL_884a59e9b1124d77865491b31873dc64",
            "placeholder": "​",
            "style": "IPY_MODEL_8e03a8cb1775432cb3eb7142f1dd4474",
            "value": "Creating CSV from Arrow format: 100%"
          }
        },
        "34d67e4be67946409433857b9e3982ca": {
          "model_module": "@jupyter-widgets/controls",
          "model_name": "FloatProgressModel",
          "model_module_version": "1.5.0",
          "state": {
            "_dom_classes": [],
            "_model_module": "@jupyter-widgets/controls",
            "_model_module_version": "1.5.0",
            "_model_name": "FloatProgressModel",
            "_view_count": null,
            "_view_module": "@jupyter-widgets/controls",
            "_view_module_version": "1.5.0",
            "_view_name": "ProgressView",
            "bar_style": "success",
            "description": "",
            "description_tooltip": null,
            "layout": "IPY_MODEL_2e29b762b534401cacb58983bd43d442",
            "max": 1,
            "min": 0,
            "orientation": "horizontal",
            "style": "IPY_MODEL_4d616cd46cf442268efeaabc4285e8eb",
            "value": 1
          }
        },
        "24c969f9bcdc4a22909796f79e7e5a74": {
          "model_module": "@jupyter-widgets/controls",
          "model_name": "HTMLModel",
          "model_module_version": "1.5.0",
          "state": {
            "_dom_classes": [],
            "_model_module": "@jupyter-widgets/controls",
            "_model_module_version": "1.5.0",
            "_model_name": "HTMLModel",
            "_view_count": null,
            "_view_module": "@jupyter-widgets/controls",
            "_view_module_version": "1.5.0",
            "_view_name": "HTMLView",
            "description": "",
            "description_tooltip": null,
            "layout": "IPY_MODEL_7c9eb472f4ad40d1b78b32be861e2da7",
            "placeholder": "​",
            "style": "IPY_MODEL_5cff315930d445b29cbffec32f4bdea0",
            "value": " 1/1 [00:00&lt;00:00, 18.63ba/s]"
          }
        },
        "6e832ec0502247f7a0dc7f57a8832347": {
          "model_module": "@jupyter-widgets/base",
          "model_name": "LayoutModel",
          "model_module_version": "1.2.0",
          "state": {
            "_model_module": "@jupyter-widgets/base",
            "_model_module_version": "1.2.0",
            "_model_name": "LayoutModel",
            "_view_count": null,
            "_view_module": "@jupyter-widgets/base",
            "_view_module_version": "1.2.0",
            "_view_name": "LayoutView",
            "align_content": null,
            "align_items": null,
            "align_self": null,
            "border": null,
            "bottom": null,
            "display": null,
            "flex": null,
            "flex_flow": null,
            "grid_area": null,
            "grid_auto_columns": null,
            "grid_auto_flow": null,
            "grid_auto_rows": null,
            "grid_column": null,
            "grid_gap": null,
            "grid_row": null,
            "grid_template_areas": null,
            "grid_template_columns": null,
            "grid_template_rows": null,
            "height": null,
            "justify_content": null,
            "justify_items": null,
            "left": null,
            "margin": null,
            "max_height": null,
            "max_width": null,
            "min_height": null,
            "min_width": null,
            "object_fit": null,
            "object_position": null,
            "order": null,
            "overflow": null,
            "overflow_x": null,
            "overflow_y": null,
            "padding": null,
            "right": null,
            "top": null,
            "visibility": null,
            "width": null
          }
        },
        "884a59e9b1124d77865491b31873dc64": {
          "model_module": "@jupyter-widgets/base",
          "model_name": "LayoutModel",
          "model_module_version": "1.2.0",
          "state": {
            "_model_module": "@jupyter-widgets/base",
            "_model_module_version": "1.2.0",
            "_model_name": "LayoutModel",
            "_view_count": null,
            "_view_module": "@jupyter-widgets/base",
            "_view_module_version": "1.2.0",
            "_view_name": "LayoutView",
            "align_content": null,
            "align_items": null,
            "align_self": null,
            "border": null,
            "bottom": null,
            "display": null,
            "flex": null,
            "flex_flow": null,
            "grid_area": null,
            "grid_auto_columns": null,
            "grid_auto_flow": null,
            "grid_auto_rows": null,
            "grid_column": null,
            "grid_gap": null,
            "grid_row": null,
            "grid_template_areas": null,
            "grid_template_columns": null,
            "grid_template_rows": null,
            "height": null,
            "justify_content": null,
            "justify_items": null,
            "left": null,
            "margin": null,
            "max_height": null,
            "max_width": null,
            "min_height": null,
            "min_width": null,
            "object_fit": null,
            "object_position": null,
            "order": null,
            "overflow": null,
            "overflow_x": null,
            "overflow_y": null,
            "padding": null,
            "right": null,
            "top": null,
            "visibility": null,
            "width": null
          }
        },
        "8e03a8cb1775432cb3eb7142f1dd4474": {
          "model_module": "@jupyter-widgets/controls",
          "model_name": "DescriptionStyleModel",
          "model_module_version": "1.5.0",
          "state": {
            "_model_module": "@jupyter-widgets/controls",
            "_model_module_version": "1.5.0",
            "_model_name": "DescriptionStyleModel",
            "_view_count": null,
            "_view_module": "@jupyter-widgets/base",
            "_view_module_version": "1.2.0",
            "_view_name": "StyleView",
            "description_width": ""
          }
        },
        "2e29b762b534401cacb58983bd43d442": {
          "model_module": "@jupyter-widgets/base",
          "model_name": "LayoutModel",
          "model_module_version": "1.2.0",
          "state": {
            "_model_module": "@jupyter-widgets/base",
            "_model_module_version": "1.2.0",
            "_model_name": "LayoutModel",
            "_view_count": null,
            "_view_module": "@jupyter-widgets/base",
            "_view_module_version": "1.2.0",
            "_view_name": "LayoutView",
            "align_content": null,
            "align_items": null,
            "align_self": null,
            "border": null,
            "bottom": null,
            "display": null,
            "flex": null,
            "flex_flow": null,
            "grid_area": null,
            "grid_auto_columns": null,
            "grid_auto_flow": null,
            "grid_auto_rows": null,
            "grid_column": null,
            "grid_gap": null,
            "grid_row": null,
            "grid_template_areas": null,
            "grid_template_columns": null,
            "grid_template_rows": null,
            "height": null,
            "justify_content": null,
            "justify_items": null,
            "left": null,
            "margin": null,
            "max_height": null,
            "max_width": null,
            "min_height": null,
            "min_width": null,
            "object_fit": null,
            "object_position": null,
            "order": null,
            "overflow": null,
            "overflow_x": null,
            "overflow_y": null,
            "padding": null,
            "right": null,
            "top": null,
            "visibility": null,
            "width": null
          }
        },
        "4d616cd46cf442268efeaabc4285e8eb": {
          "model_module": "@jupyter-widgets/controls",
          "model_name": "ProgressStyleModel",
          "model_module_version": "1.5.0",
          "state": {
            "_model_module": "@jupyter-widgets/controls",
            "_model_module_version": "1.5.0",
            "_model_name": "ProgressStyleModel",
            "_view_count": null,
            "_view_module": "@jupyter-widgets/base",
            "_view_module_version": "1.2.0",
            "_view_name": "StyleView",
            "bar_color": null,
            "description_width": ""
          }
        },
        "7c9eb472f4ad40d1b78b32be861e2da7": {
          "model_module": "@jupyter-widgets/base",
          "model_name": "LayoutModel",
          "model_module_version": "1.2.0",
          "state": {
            "_model_module": "@jupyter-widgets/base",
            "_model_module_version": "1.2.0",
            "_model_name": "LayoutModel",
            "_view_count": null,
            "_view_module": "@jupyter-widgets/base",
            "_view_module_version": "1.2.0",
            "_view_name": "LayoutView",
            "align_content": null,
            "align_items": null,
            "align_self": null,
            "border": null,
            "bottom": null,
            "display": null,
            "flex": null,
            "flex_flow": null,
            "grid_area": null,
            "grid_auto_columns": null,
            "grid_auto_flow": null,
            "grid_auto_rows": null,
            "grid_column": null,
            "grid_gap": null,
            "grid_row": null,
            "grid_template_areas": null,
            "grid_template_columns": null,
            "grid_template_rows": null,
            "height": null,
            "justify_content": null,
            "justify_items": null,
            "left": null,
            "margin": null,
            "max_height": null,
            "max_width": null,
            "min_height": null,
            "min_width": null,
            "object_fit": null,
            "object_position": null,
            "order": null,
            "overflow": null,
            "overflow_x": null,
            "overflow_y": null,
            "padding": null,
            "right": null,
            "top": null,
            "visibility": null,
            "width": null
          }
        },
        "5cff315930d445b29cbffec32f4bdea0": {
          "model_module": "@jupyter-widgets/controls",
          "model_name": "DescriptionStyleModel",
          "model_module_version": "1.5.0",
          "state": {
            "_model_module": "@jupyter-widgets/controls",
            "_model_module_version": "1.5.0",
            "_model_name": "DescriptionStyleModel",
            "_view_count": null,
            "_view_module": "@jupyter-widgets/base",
            "_view_module_version": "1.2.0",
            "_view_name": "StyleView",
            "description_width": ""
          }
        },
        "ff7fa0d2f9d64de293ba60719b676237": {
          "model_module": "@jupyter-widgets/controls",
          "model_name": "HBoxModel",
          "model_module_version": "1.5.0",
          "state": {
            "_dom_classes": [],
            "_model_module": "@jupyter-widgets/controls",
            "_model_module_version": "1.5.0",
            "_model_name": "HBoxModel",
            "_view_count": null,
            "_view_module": "@jupyter-widgets/controls",
            "_view_module_version": "1.5.0",
            "_view_name": "HBoxView",
            "box_style": "",
            "children": [
              "IPY_MODEL_ee8ba9f03b774b7bae866e27841d9d5e",
              "IPY_MODEL_7ec1ccc3451b4323b4ca07f8267149b1",
              "IPY_MODEL_23884b5ea60d4bcf8d693bfb11074997"
            ],
            "layout": "IPY_MODEL_40c9acd19ec340a18fc7181b0e3cf909"
          }
        },
        "ee8ba9f03b774b7bae866e27841d9d5e": {
          "model_module": "@jupyter-widgets/controls",
          "model_name": "HTMLModel",
          "model_module_version": "1.5.0",
          "state": {
            "_dom_classes": [],
            "_model_module": "@jupyter-widgets/controls",
            "_model_module_version": "1.5.0",
            "_model_name": "HTMLModel",
            "_view_count": null,
            "_view_module": "@jupyter-widgets/controls",
            "_view_module_version": "1.5.0",
            "_view_name": "HTMLView",
            "description": "",
            "description_tooltip": null,
            "layout": "IPY_MODEL_3e9d09c0db0a418cbe69aa62aafac452",
            "placeholder": "​",
            "style": "IPY_MODEL_542cc7b938cc40c1809c6ec70710d415",
            "value": "Evaluating: 100%"
          }
        },
        "7ec1ccc3451b4323b4ca07f8267149b1": {
          "model_module": "@jupyter-widgets/controls",
          "model_name": "FloatProgressModel",
          "model_module_version": "1.5.0",
          "state": {
            "_dom_classes": [],
            "_model_module": "@jupyter-widgets/controls",
            "_model_module_version": "1.5.0",
            "_model_name": "FloatProgressModel",
            "_view_count": null,
            "_view_module": "@jupyter-widgets/controls",
            "_view_module_version": "1.5.0",
            "_view_name": "ProgressView",
            "bar_style": "success",
            "description": "",
            "description_tooltip": null,
            "layout": "IPY_MODEL_92a8223a8aec4bf2b53278bbdfff7d7f",
            "max": 70,
            "min": 0,
            "orientation": "horizontal",
            "style": "IPY_MODEL_8101615165af4864aa33ff149957e30b",
            "value": 70
          }
        },
        "23884b5ea60d4bcf8d693bfb11074997": {
          "model_module": "@jupyter-widgets/controls",
          "model_name": "HTMLModel",
          "model_module_version": "1.5.0",
          "state": {
            "_dom_classes": [],
            "_model_module": "@jupyter-widgets/controls",
            "_model_module_version": "1.5.0",
            "_model_name": "HTMLModel",
            "_view_count": null,
            "_view_module": "@jupyter-widgets/controls",
            "_view_module_version": "1.5.0",
            "_view_name": "HTMLView",
            "description": "",
            "description_tooltip": null,
            "layout": "IPY_MODEL_9db4fbf25f914714b394725dd945d758",
            "placeholder": "​",
            "style": "IPY_MODEL_49e01ea881c64e1ab4a46e9de686fabd",
            "value": " 70/70 [01:47&lt;00:00,  4.33s/it]"
          }
        },
        "40c9acd19ec340a18fc7181b0e3cf909": {
          "model_module": "@jupyter-widgets/base",
          "model_name": "LayoutModel",
          "model_module_version": "1.2.0",
          "state": {
            "_model_module": "@jupyter-widgets/base",
            "_model_module_version": "1.2.0",
            "_model_name": "LayoutModel",
            "_view_count": null,
            "_view_module": "@jupyter-widgets/base",
            "_view_module_version": "1.2.0",
            "_view_name": "LayoutView",
            "align_content": null,
            "align_items": null,
            "align_self": null,
            "border": null,
            "bottom": null,
            "display": null,
            "flex": null,
            "flex_flow": null,
            "grid_area": null,
            "grid_auto_columns": null,
            "grid_auto_flow": null,
            "grid_auto_rows": null,
            "grid_column": null,
            "grid_gap": null,
            "grid_row": null,
            "grid_template_areas": null,
            "grid_template_columns": null,
            "grid_template_rows": null,
            "height": null,
            "justify_content": null,
            "justify_items": null,
            "left": null,
            "margin": null,
            "max_height": null,
            "max_width": null,
            "min_height": null,
            "min_width": null,
            "object_fit": null,
            "object_position": null,
            "order": null,
            "overflow": null,
            "overflow_x": null,
            "overflow_y": null,
            "padding": null,
            "right": null,
            "top": null,
            "visibility": null,
            "width": null
          }
        },
        "3e9d09c0db0a418cbe69aa62aafac452": {
          "model_module": "@jupyter-widgets/base",
          "model_name": "LayoutModel",
          "model_module_version": "1.2.0",
          "state": {
            "_model_module": "@jupyter-widgets/base",
            "_model_module_version": "1.2.0",
            "_model_name": "LayoutModel",
            "_view_count": null,
            "_view_module": "@jupyter-widgets/base",
            "_view_module_version": "1.2.0",
            "_view_name": "LayoutView",
            "align_content": null,
            "align_items": null,
            "align_self": null,
            "border": null,
            "bottom": null,
            "display": null,
            "flex": null,
            "flex_flow": null,
            "grid_area": null,
            "grid_auto_columns": null,
            "grid_auto_flow": null,
            "grid_auto_rows": null,
            "grid_column": null,
            "grid_gap": null,
            "grid_row": null,
            "grid_template_areas": null,
            "grid_template_columns": null,
            "grid_template_rows": null,
            "height": null,
            "justify_content": null,
            "justify_items": null,
            "left": null,
            "margin": null,
            "max_height": null,
            "max_width": null,
            "min_height": null,
            "min_width": null,
            "object_fit": null,
            "object_position": null,
            "order": null,
            "overflow": null,
            "overflow_x": null,
            "overflow_y": null,
            "padding": null,
            "right": null,
            "top": null,
            "visibility": null,
            "width": null
          }
        },
        "542cc7b938cc40c1809c6ec70710d415": {
          "model_module": "@jupyter-widgets/controls",
          "model_name": "DescriptionStyleModel",
          "model_module_version": "1.5.0",
          "state": {
            "_model_module": "@jupyter-widgets/controls",
            "_model_module_version": "1.5.0",
            "_model_name": "DescriptionStyleModel",
            "_view_count": null,
            "_view_module": "@jupyter-widgets/base",
            "_view_module_version": "1.2.0",
            "_view_name": "StyleView",
            "description_width": ""
          }
        },
        "92a8223a8aec4bf2b53278bbdfff7d7f": {
          "model_module": "@jupyter-widgets/base",
          "model_name": "LayoutModel",
          "model_module_version": "1.2.0",
          "state": {
            "_model_module": "@jupyter-widgets/base",
            "_model_module_version": "1.2.0",
            "_model_name": "LayoutModel",
            "_view_count": null,
            "_view_module": "@jupyter-widgets/base",
            "_view_module_version": "1.2.0",
            "_view_name": "LayoutView",
            "align_content": null,
            "align_items": null,
            "align_self": null,
            "border": null,
            "bottom": null,
            "display": null,
            "flex": null,
            "flex_flow": null,
            "grid_area": null,
            "grid_auto_columns": null,
            "grid_auto_flow": null,
            "grid_auto_rows": null,
            "grid_column": null,
            "grid_gap": null,
            "grid_row": null,
            "grid_template_areas": null,
            "grid_template_columns": null,
            "grid_template_rows": null,
            "height": null,
            "justify_content": null,
            "justify_items": null,
            "left": null,
            "margin": null,
            "max_height": null,
            "max_width": null,
            "min_height": null,
            "min_width": null,
            "object_fit": null,
            "object_position": null,
            "order": null,
            "overflow": null,
            "overflow_x": null,
            "overflow_y": null,
            "padding": null,
            "right": null,
            "top": null,
            "visibility": null,
            "width": null
          }
        },
        "8101615165af4864aa33ff149957e30b": {
          "model_module": "@jupyter-widgets/controls",
          "model_name": "ProgressStyleModel",
          "model_module_version": "1.5.0",
          "state": {
            "_model_module": "@jupyter-widgets/controls",
            "_model_module_version": "1.5.0",
            "_model_name": "ProgressStyleModel",
            "_view_count": null,
            "_view_module": "@jupyter-widgets/base",
            "_view_module_version": "1.2.0",
            "_view_name": "StyleView",
            "bar_color": null,
            "description_width": ""
          }
        },
        "9db4fbf25f914714b394725dd945d758": {
          "model_module": "@jupyter-widgets/base",
          "model_name": "LayoutModel",
          "model_module_version": "1.2.0",
          "state": {
            "_model_module": "@jupyter-widgets/base",
            "_model_module_version": "1.2.0",
            "_model_name": "LayoutModel",
            "_view_count": null,
            "_view_module": "@jupyter-widgets/base",
            "_view_module_version": "1.2.0",
            "_view_name": "LayoutView",
            "align_content": null,
            "align_items": null,
            "align_self": null,
            "border": null,
            "bottom": null,
            "display": null,
            "flex": null,
            "flex_flow": null,
            "grid_area": null,
            "grid_auto_columns": null,
            "grid_auto_flow": null,
            "grid_auto_rows": null,
            "grid_column": null,
            "grid_gap": null,
            "grid_row": null,
            "grid_template_areas": null,
            "grid_template_columns": null,
            "grid_template_rows": null,
            "height": null,
            "justify_content": null,
            "justify_items": null,
            "left": null,
            "margin": null,
            "max_height": null,
            "max_width": null,
            "min_height": null,
            "min_width": null,
            "object_fit": null,
            "object_position": null,
            "order": null,
            "overflow": null,
            "overflow_x": null,
            "overflow_y": null,
            "padding": null,
            "right": null,
            "top": null,
            "visibility": null,
            "width": null
          }
        },
        "49e01ea881c64e1ab4a46e9de686fabd": {
          "model_module": "@jupyter-widgets/controls",
          "model_name": "DescriptionStyleModel",
          "model_module_version": "1.5.0",
          "state": {
            "_model_module": "@jupyter-widgets/controls",
            "_model_module_version": "1.5.0",
            "_model_name": "DescriptionStyleModel",
            "_view_count": null,
            "_view_module": "@jupyter-widgets/base",
            "_view_module_version": "1.2.0",
            "_view_name": "StyleView",
            "description_width": ""
          }
        }
      }
    }
  },
  "cells": [
    {
      "cell_type": "code",
      "source": [
        "%reload_ext autoreload\n",
        "%autoreload 2"
      ],
      "metadata": {
        "id": "X-fJll-1ddL5"
      },
      "execution_count": 1,
      "outputs": []
    },
    {
      "cell_type": "markdown",
      "source": [
        "# Installing dependencies"
      ],
      "metadata": {
        "id": "fbsP3U29VMDK"
      }
    },
    {
      "cell_type": "code",
      "source": [
        "!pip install -q torch transformers transformers accelerate bitsandbytes langchain sentence-transformers faiss-gpu openpyxl pacmap\n",
        "!pip install datasets\n",
        "!pip install pypdf\n",
        "!pip install openai\n",
        "!pip install chromadb\n",
        "!pip install langchain\n",
        "!pip install tiktoken\n",
        "!pip install -q -U datasets\n",
        "!pip install -q -U tqdm\n",
        "!pip install ragas\n",
        "!pip install dataset\n",
        "!pip install tqdm ragas tensorflow tensorflow-datasets pandas numpy scikit-learn"
      ],
      "metadata": {
        "id": "yOlv16BUIujP",
        "colab": {
          "base_uri": "https://localhost:8080/"
        },
        "outputId": "a566b1c4-26bc-40b8-d5b8-d478601a3b38"
      },
      "execution_count": 2,
      "outputs": [
        {
          "output_type": "stream",
          "name": "stdout",
          "text": [
            "Requirement already satisfied: datasets in /usr/local/lib/python3.10/dist-packages (2.17.1)\n",
            "Requirement already satisfied: filelock in /usr/local/lib/python3.10/dist-packages (from datasets) (3.13.1)\n",
            "Requirement already satisfied: numpy>=1.17 in /usr/local/lib/python3.10/dist-packages (from datasets) (1.25.2)\n",
            "Requirement already satisfied: pyarrow>=12.0.0 in /usr/local/lib/python3.10/dist-packages (from datasets) (14.0.2)\n",
            "Requirement already satisfied: pyarrow-hotfix in /usr/local/lib/python3.10/dist-packages (from datasets) (0.6)\n",
            "Requirement already satisfied: dill<0.3.9,>=0.3.0 in /usr/local/lib/python3.10/dist-packages (from datasets) (0.3.8)\n",
            "Requirement already satisfied: pandas in /usr/local/lib/python3.10/dist-packages (from datasets) (1.5.3)\n",
            "Requirement already satisfied: requests>=2.19.0 in /usr/local/lib/python3.10/dist-packages (from datasets) (2.31.0)\n",
            "Requirement already satisfied: tqdm>=4.62.1 in /usr/local/lib/python3.10/dist-packages (from datasets) (4.66.2)\n",
            "Requirement already satisfied: xxhash in /usr/local/lib/python3.10/dist-packages (from datasets) (3.4.1)\n",
            "Requirement already satisfied: multiprocess in /usr/local/lib/python3.10/dist-packages (from datasets) (0.70.16)\n",
            "Requirement already satisfied: fsspec[http]<=2023.10.0,>=2023.1.0 in /usr/local/lib/python3.10/dist-packages (from datasets) (2023.6.0)\n",
            "Requirement already satisfied: aiohttp in /usr/local/lib/python3.10/dist-packages (from datasets) (3.9.3)\n",
            "Requirement already satisfied: huggingface-hub>=0.19.4 in /usr/local/lib/python3.10/dist-packages (from datasets) (0.20.3)\n",
            "Requirement already satisfied: packaging in /usr/local/lib/python3.10/dist-packages (from datasets) (23.2)\n",
            "Requirement already satisfied: pyyaml>=5.1 in /usr/local/lib/python3.10/dist-packages (from datasets) (6.0.1)\n",
            "Requirement already satisfied: aiosignal>=1.1.2 in /usr/local/lib/python3.10/dist-packages (from aiohttp->datasets) (1.3.1)\n",
            "Requirement already satisfied: attrs>=17.3.0 in /usr/local/lib/python3.10/dist-packages (from aiohttp->datasets) (23.2.0)\n",
            "Requirement already satisfied: frozenlist>=1.1.1 in /usr/local/lib/python3.10/dist-packages (from aiohttp->datasets) (1.4.1)\n",
            "Requirement already satisfied: multidict<7.0,>=4.5 in /usr/local/lib/python3.10/dist-packages (from aiohttp->datasets) (6.0.5)\n",
            "Requirement already satisfied: yarl<2.0,>=1.0 in /usr/local/lib/python3.10/dist-packages (from aiohttp->datasets) (1.9.4)\n",
            "Requirement already satisfied: async-timeout<5.0,>=4.0 in /usr/local/lib/python3.10/dist-packages (from aiohttp->datasets) (4.0.3)\n",
            "Requirement already satisfied: typing-extensions>=3.7.4.3 in /usr/local/lib/python3.10/dist-packages (from huggingface-hub>=0.19.4->datasets) (4.9.0)\n",
            "Requirement already satisfied: charset-normalizer<4,>=2 in /usr/local/lib/python3.10/dist-packages (from requests>=2.19.0->datasets) (3.3.2)\n",
            "Requirement already satisfied: idna<4,>=2.5 in /usr/local/lib/python3.10/dist-packages (from requests>=2.19.0->datasets) (3.6)\n",
            "Requirement already satisfied: urllib3<3,>=1.21.1 in /usr/local/lib/python3.10/dist-packages (from requests>=2.19.0->datasets) (2.0.7)\n",
            "Requirement already satisfied: certifi>=2017.4.17 in /usr/local/lib/python3.10/dist-packages (from requests>=2.19.0->datasets) (2024.2.2)\n",
            "Requirement already satisfied: python-dateutil>=2.8.1 in /usr/local/lib/python3.10/dist-packages (from pandas->datasets) (2.8.2)\n",
            "Requirement already satisfied: pytz>=2020.1 in /usr/local/lib/python3.10/dist-packages (from pandas->datasets) (2023.4)\n",
            "Requirement already satisfied: six>=1.5 in /usr/local/lib/python3.10/dist-packages (from python-dateutil>=2.8.1->pandas->datasets) (1.16.0)\n",
            "Requirement already satisfied: pypdf in /usr/local/lib/python3.10/dist-packages (4.0.2)\n",
            "Requirement already satisfied: openai in /usr/local/lib/python3.10/dist-packages (1.12.0)\n",
            "Requirement already satisfied: anyio<5,>=3.5.0 in /usr/local/lib/python3.10/dist-packages (from openai) (3.7.1)\n",
            "Requirement already satisfied: distro<2,>=1.7.0 in /usr/lib/python3/dist-packages (from openai) (1.7.0)\n",
            "Requirement already satisfied: httpx<1,>=0.23.0 in /usr/local/lib/python3.10/dist-packages (from openai) (0.27.0)\n",
            "Requirement already satisfied: pydantic<3,>=1.9.0 in /usr/local/lib/python3.10/dist-packages (from openai) (2.6.1)\n",
            "Requirement already satisfied: sniffio in /usr/local/lib/python3.10/dist-packages (from openai) (1.3.0)\n",
            "Requirement already satisfied: tqdm>4 in /usr/local/lib/python3.10/dist-packages (from openai) (4.66.2)\n",
            "Requirement already satisfied: typing-extensions<5,>=4.7 in /usr/local/lib/python3.10/dist-packages (from openai) (4.9.0)\n",
            "Requirement already satisfied: idna>=2.8 in /usr/local/lib/python3.10/dist-packages (from anyio<5,>=3.5.0->openai) (3.6)\n",
            "Requirement already satisfied: exceptiongroup in /usr/local/lib/python3.10/dist-packages (from anyio<5,>=3.5.0->openai) (1.2.0)\n",
            "Requirement already satisfied: certifi in /usr/local/lib/python3.10/dist-packages (from httpx<1,>=0.23.0->openai) (2024.2.2)\n",
            "Requirement already satisfied: httpcore==1.* in /usr/local/lib/python3.10/dist-packages (from httpx<1,>=0.23.0->openai) (1.0.4)\n",
            "Requirement already satisfied: h11<0.15,>=0.13 in /usr/local/lib/python3.10/dist-packages (from httpcore==1.*->httpx<1,>=0.23.0->openai) (0.14.0)\n",
            "Requirement already satisfied: annotated-types>=0.4.0 in /usr/local/lib/python3.10/dist-packages (from pydantic<3,>=1.9.0->openai) (0.6.0)\n",
            "Requirement already satisfied: pydantic-core==2.16.2 in /usr/local/lib/python3.10/dist-packages (from pydantic<3,>=1.9.0->openai) (2.16.2)\n",
            "Requirement already satisfied: chromadb in /usr/local/lib/python3.10/dist-packages (0.4.23)\n",
            "Requirement already satisfied: build>=1.0.3 in /usr/local/lib/python3.10/dist-packages (from chromadb) (1.0.3)\n",
            "Requirement already satisfied: requests>=2.28 in /usr/local/lib/python3.10/dist-packages (from chromadb) (2.31.0)\n",
            "Requirement already satisfied: pydantic>=1.9 in /usr/local/lib/python3.10/dist-packages (from chromadb) (2.6.1)\n",
            "Requirement already satisfied: chroma-hnswlib==0.7.3 in /usr/local/lib/python3.10/dist-packages (from chromadb) (0.7.3)\n",
            "Requirement already satisfied: fastapi>=0.95.2 in /usr/local/lib/python3.10/dist-packages (from chromadb) (0.110.0)\n",
            "Requirement already satisfied: uvicorn[standard]>=0.18.3 in /usr/local/lib/python3.10/dist-packages (from chromadb) (0.27.1)\n",
            "Requirement already satisfied: numpy>=1.22.5 in /usr/local/lib/python3.10/dist-packages (from chromadb) (1.25.2)\n",
            "Requirement already satisfied: posthog>=2.4.0 in /usr/local/lib/python3.10/dist-packages (from chromadb) (3.4.2)\n",
            "Requirement already satisfied: typing-extensions>=4.5.0 in /usr/local/lib/python3.10/dist-packages (from chromadb) (4.9.0)\n",
            "Requirement already satisfied: pulsar-client>=3.1.0 in /usr/local/lib/python3.10/dist-packages (from chromadb) (3.4.0)\n",
            "Requirement already satisfied: onnxruntime>=1.14.1 in /usr/local/lib/python3.10/dist-packages (from chromadb) (1.17.1)\n",
            "Requirement already satisfied: opentelemetry-api>=1.2.0 in /usr/local/lib/python3.10/dist-packages (from chromadb) (1.23.0)\n",
            "Requirement already satisfied: opentelemetry-exporter-otlp-proto-grpc>=1.2.0 in /usr/local/lib/python3.10/dist-packages (from chromadb) (1.23.0)\n",
            "Requirement already satisfied: opentelemetry-instrumentation-fastapi>=0.41b0 in /usr/local/lib/python3.10/dist-packages (from chromadb) (0.44b0)\n",
            "Requirement already satisfied: opentelemetry-sdk>=1.2.0 in /usr/local/lib/python3.10/dist-packages (from chromadb) (1.23.0)\n",
            "Requirement already satisfied: tokenizers>=0.13.2 in /usr/local/lib/python3.10/dist-packages (from chromadb) (0.15.2)\n",
            "Requirement already satisfied: pypika>=0.48.9 in /usr/local/lib/python3.10/dist-packages (from chromadb) (0.48.9)\n",
            "Requirement already satisfied: tqdm>=4.65.0 in /usr/local/lib/python3.10/dist-packages (from chromadb) (4.66.2)\n",
            "Requirement already satisfied: overrides>=7.3.1 in /usr/local/lib/python3.10/dist-packages (from chromadb) (7.7.0)\n",
            "Requirement already satisfied: importlib-resources in /usr/local/lib/python3.10/dist-packages (from chromadb) (6.1.1)\n",
            "Requirement already satisfied: grpcio>=1.58.0 in /usr/local/lib/python3.10/dist-packages (from chromadb) (1.60.1)\n",
            "Requirement already satisfied: bcrypt>=4.0.1 in /usr/local/lib/python3.10/dist-packages (from chromadb) (4.1.2)\n",
            "Requirement already satisfied: typer>=0.9.0 in /usr/local/lib/python3.10/dist-packages (from chromadb) (0.9.0)\n",
            "Requirement already satisfied: kubernetes>=28.1.0 in /usr/local/lib/python3.10/dist-packages (from chromadb) (29.0.0)\n",
            "Requirement already satisfied: tenacity>=8.2.3 in /usr/local/lib/python3.10/dist-packages (from chromadb) (8.2.3)\n",
            "Requirement already satisfied: PyYAML>=6.0.0 in /usr/local/lib/python3.10/dist-packages (from chromadb) (6.0.1)\n",
            "Requirement already satisfied: mmh3>=4.0.1 in /usr/local/lib/python3.10/dist-packages (from chromadb) (4.1.0)\n",
            "Requirement already satisfied: orjson>=3.9.12 in /usr/local/lib/python3.10/dist-packages (from chromadb) (3.9.15)\n",
            "Requirement already satisfied: packaging>=19.0 in /usr/local/lib/python3.10/dist-packages (from build>=1.0.3->chromadb) (23.2)\n",
            "Requirement already satisfied: pyproject_hooks in /usr/local/lib/python3.10/dist-packages (from build>=1.0.3->chromadb) (1.0.0)\n",
            "Requirement already satisfied: tomli>=1.1.0 in /usr/local/lib/python3.10/dist-packages (from build>=1.0.3->chromadb) (2.0.1)\n",
            "Requirement already satisfied: starlette<0.37.0,>=0.36.3 in /usr/local/lib/python3.10/dist-packages (from fastapi>=0.95.2->chromadb) (0.36.3)\n",
            "Requirement already satisfied: certifi>=14.05.14 in /usr/local/lib/python3.10/dist-packages (from kubernetes>=28.1.0->chromadb) (2024.2.2)\n",
            "Requirement already satisfied: six>=1.9.0 in /usr/local/lib/python3.10/dist-packages (from kubernetes>=28.1.0->chromadb) (1.16.0)\n",
            "Requirement already satisfied: python-dateutil>=2.5.3 in /usr/local/lib/python3.10/dist-packages (from kubernetes>=28.1.0->chromadb) (2.8.2)\n",
            "Requirement already satisfied: google-auth>=1.0.1 in /usr/local/lib/python3.10/dist-packages (from kubernetes>=28.1.0->chromadb) (2.27.0)\n",
            "Requirement already satisfied: websocket-client!=0.40.0,!=0.41.*,!=0.42.*,>=0.32.0 in /usr/local/lib/python3.10/dist-packages (from kubernetes>=28.1.0->chromadb) (1.7.0)\n",
            "Requirement already satisfied: requests-oauthlib in /usr/local/lib/python3.10/dist-packages (from kubernetes>=28.1.0->chromadb) (1.3.1)\n",
            "Requirement already satisfied: oauthlib>=3.2.2 in /usr/local/lib/python3.10/dist-packages (from kubernetes>=28.1.0->chromadb) (3.2.2)\n",
            "Requirement already satisfied: urllib3>=1.24.2 in /usr/local/lib/python3.10/dist-packages (from kubernetes>=28.1.0->chromadb) (2.0.7)\n",
            "Requirement already satisfied: coloredlogs in /usr/local/lib/python3.10/dist-packages (from onnxruntime>=1.14.1->chromadb) (15.0.1)\n",
            "Requirement already satisfied: flatbuffers in /usr/local/lib/python3.10/dist-packages (from onnxruntime>=1.14.1->chromadb) (23.5.26)\n",
            "Requirement already satisfied: protobuf in /usr/local/lib/python3.10/dist-packages (from onnxruntime>=1.14.1->chromadb) (3.20.3)\n",
            "Requirement already satisfied: sympy in /usr/local/lib/python3.10/dist-packages (from onnxruntime>=1.14.1->chromadb) (1.12)\n",
            "Requirement already satisfied: deprecated>=1.2.6 in /usr/local/lib/python3.10/dist-packages (from opentelemetry-api>=1.2.0->chromadb) (1.2.14)\n",
            "Requirement already satisfied: importlib-metadata<7.0,>=6.0 in /usr/local/lib/python3.10/dist-packages (from opentelemetry-api>=1.2.0->chromadb) (6.11.0)\n",
            "Requirement already satisfied: googleapis-common-protos~=1.52 in /usr/local/lib/python3.10/dist-packages (from opentelemetry-exporter-otlp-proto-grpc>=1.2.0->chromadb) (1.62.0)\n",
            "Requirement already satisfied: opentelemetry-exporter-otlp-proto-common==1.23.0 in /usr/local/lib/python3.10/dist-packages (from opentelemetry-exporter-otlp-proto-grpc>=1.2.0->chromadb) (1.23.0)\n",
            "Requirement already satisfied: opentelemetry-proto==1.23.0 in /usr/local/lib/python3.10/dist-packages (from opentelemetry-exporter-otlp-proto-grpc>=1.2.0->chromadb) (1.23.0)\n",
            "Requirement already satisfied: opentelemetry-instrumentation-asgi==0.44b0 in /usr/local/lib/python3.10/dist-packages (from opentelemetry-instrumentation-fastapi>=0.41b0->chromadb) (0.44b0)\n",
            "Requirement already satisfied: opentelemetry-instrumentation==0.44b0 in /usr/local/lib/python3.10/dist-packages (from opentelemetry-instrumentation-fastapi>=0.41b0->chromadb) (0.44b0)\n",
            "Requirement already satisfied: opentelemetry-semantic-conventions==0.44b0 in /usr/local/lib/python3.10/dist-packages (from opentelemetry-instrumentation-fastapi>=0.41b0->chromadb) (0.44b0)\n",
            "Requirement already satisfied: opentelemetry-util-http==0.44b0 in /usr/local/lib/python3.10/dist-packages (from opentelemetry-instrumentation-fastapi>=0.41b0->chromadb) (0.44b0)\n",
            "Requirement already satisfied: setuptools>=16.0 in /usr/local/lib/python3.10/dist-packages (from opentelemetry-instrumentation==0.44b0->opentelemetry-instrumentation-fastapi>=0.41b0->chromadb) (67.7.2)\n",
            "Requirement already satisfied: wrapt<2.0.0,>=1.0.0 in /usr/local/lib/python3.10/dist-packages (from opentelemetry-instrumentation==0.44b0->opentelemetry-instrumentation-fastapi>=0.41b0->chromadb) (1.14.1)\n",
            "Requirement already satisfied: asgiref~=3.0 in /usr/local/lib/python3.10/dist-packages (from opentelemetry-instrumentation-asgi==0.44b0->opentelemetry-instrumentation-fastapi>=0.41b0->chromadb) (3.7.2)\n",
            "Requirement already satisfied: monotonic>=1.5 in /usr/local/lib/python3.10/dist-packages (from posthog>=2.4.0->chromadb) (1.6)\n",
            "Requirement already satisfied: backoff>=1.10.0 in /usr/local/lib/python3.10/dist-packages (from posthog>=2.4.0->chromadb) (2.2.1)\n",
            "Requirement already satisfied: annotated-types>=0.4.0 in /usr/local/lib/python3.10/dist-packages (from pydantic>=1.9->chromadb) (0.6.0)\n",
            "Requirement already satisfied: pydantic-core==2.16.2 in /usr/local/lib/python3.10/dist-packages (from pydantic>=1.9->chromadb) (2.16.2)\n",
            "Requirement already satisfied: charset-normalizer<4,>=2 in /usr/local/lib/python3.10/dist-packages (from requests>=2.28->chromadb) (3.3.2)\n",
            "Requirement already satisfied: idna<4,>=2.5 in /usr/local/lib/python3.10/dist-packages (from requests>=2.28->chromadb) (3.6)\n",
            "Requirement already satisfied: huggingface_hub<1.0,>=0.16.4 in /usr/local/lib/python3.10/dist-packages (from tokenizers>=0.13.2->chromadb) (0.20.3)\n",
            "Requirement already satisfied: click<9.0.0,>=7.1.1 in /usr/local/lib/python3.10/dist-packages (from typer>=0.9.0->chromadb) (8.1.7)\n",
            "Requirement already satisfied: h11>=0.8 in /usr/local/lib/python3.10/dist-packages (from uvicorn[standard]>=0.18.3->chromadb) (0.14.0)\n",
            "Requirement already satisfied: httptools>=0.5.0 in /usr/local/lib/python3.10/dist-packages (from uvicorn[standard]>=0.18.3->chromadb) (0.6.1)\n",
            "Requirement already satisfied: python-dotenv>=0.13 in /usr/local/lib/python3.10/dist-packages (from uvicorn[standard]>=0.18.3->chromadb) (1.0.1)\n",
            "Requirement already satisfied: uvloop!=0.15.0,!=0.15.1,>=0.14.0 in /usr/local/lib/python3.10/dist-packages (from uvicorn[standard]>=0.18.3->chromadb) (0.19.0)\n",
            "Requirement already satisfied: watchfiles>=0.13 in /usr/local/lib/python3.10/dist-packages (from uvicorn[standard]>=0.18.3->chromadb) (0.21.0)\n",
            "Requirement already satisfied: websockets>=10.4 in /usr/local/lib/python3.10/dist-packages (from uvicorn[standard]>=0.18.3->chromadb) (12.0)\n",
            "Requirement already satisfied: cachetools<6.0,>=2.0.0 in /usr/local/lib/python3.10/dist-packages (from google-auth>=1.0.1->kubernetes>=28.1.0->chromadb) (5.3.2)\n",
            "Requirement already satisfied: pyasn1-modules>=0.2.1 in /usr/local/lib/python3.10/dist-packages (from google-auth>=1.0.1->kubernetes>=28.1.0->chromadb) (0.3.0)\n",
            "Requirement already satisfied: rsa<5,>=3.1.4 in /usr/local/lib/python3.10/dist-packages (from google-auth>=1.0.1->kubernetes>=28.1.0->chromadb) (4.9)\n",
            "Requirement already satisfied: filelock in /usr/local/lib/python3.10/dist-packages (from huggingface_hub<1.0,>=0.16.4->tokenizers>=0.13.2->chromadb) (3.13.1)\n",
            "Requirement already satisfied: fsspec>=2023.5.0 in /usr/local/lib/python3.10/dist-packages (from huggingface_hub<1.0,>=0.16.4->tokenizers>=0.13.2->chromadb) (2023.6.0)\n",
            "Requirement already satisfied: zipp>=0.5 in /usr/local/lib/python3.10/dist-packages (from importlib-metadata<7.0,>=6.0->opentelemetry-api>=1.2.0->chromadb) (3.17.0)\n",
            "Requirement already satisfied: anyio<5,>=3.4.0 in /usr/local/lib/python3.10/dist-packages (from starlette<0.37.0,>=0.36.3->fastapi>=0.95.2->chromadb) (3.7.1)\n",
            "Requirement already satisfied: humanfriendly>=9.1 in /usr/local/lib/python3.10/dist-packages (from coloredlogs->onnxruntime>=1.14.1->chromadb) (10.0)\n",
            "Requirement already satisfied: mpmath>=0.19 in /usr/local/lib/python3.10/dist-packages (from sympy->onnxruntime>=1.14.1->chromadb) (1.3.0)\n",
            "Requirement already satisfied: sniffio>=1.1 in /usr/local/lib/python3.10/dist-packages (from anyio<5,>=3.4.0->starlette<0.37.0,>=0.36.3->fastapi>=0.95.2->chromadb) (1.3.0)\n",
            "Requirement already satisfied: exceptiongroup in /usr/local/lib/python3.10/dist-packages (from anyio<5,>=3.4.0->starlette<0.37.0,>=0.36.3->fastapi>=0.95.2->chromadb) (1.2.0)\n",
            "Requirement already satisfied: pyasn1<0.6.0,>=0.4.6 in /usr/local/lib/python3.10/dist-packages (from pyasn1-modules>=0.2.1->google-auth>=1.0.1->kubernetes>=28.1.0->chromadb) (0.5.1)\n",
            "Requirement already satisfied: langchain in /usr/local/lib/python3.10/dist-packages (0.1.9)\n",
            "Requirement already satisfied: PyYAML>=5.3 in /usr/local/lib/python3.10/dist-packages (from langchain) (6.0.1)\n",
            "Requirement already satisfied: SQLAlchemy<3,>=1.4 in /usr/local/lib/python3.10/dist-packages (from langchain) (1.4.51)\n",
            "Requirement already satisfied: aiohttp<4.0.0,>=3.8.3 in /usr/local/lib/python3.10/dist-packages (from langchain) (3.9.3)\n",
            "Requirement already satisfied: async-timeout<5.0.0,>=4.0.0 in /usr/local/lib/python3.10/dist-packages (from langchain) (4.0.3)\n",
            "Requirement already satisfied: dataclasses-json<0.7,>=0.5.7 in /usr/local/lib/python3.10/dist-packages (from langchain) (0.6.4)\n",
            "Requirement already satisfied: jsonpatch<2.0,>=1.33 in /usr/local/lib/python3.10/dist-packages (from langchain) (1.33)\n",
            "Requirement already satisfied: langchain-community<0.1,>=0.0.21 in /usr/local/lib/python3.10/dist-packages (from langchain) (0.0.24)\n",
            "Requirement already satisfied: langchain-core<0.2,>=0.1.26 in /usr/local/lib/python3.10/dist-packages (from langchain) (0.1.26)\n",
            "Requirement already satisfied: langsmith<0.2.0,>=0.1.0 in /usr/local/lib/python3.10/dist-packages (from langchain) (0.1.8)\n",
            "Requirement already satisfied: numpy<2,>=1 in /usr/local/lib/python3.10/dist-packages (from langchain) (1.25.2)\n",
            "Requirement already satisfied: pydantic<3,>=1 in /usr/local/lib/python3.10/dist-packages (from langchain) (2.6.1)\n",
            "Requirement already satisfied: requests<3,>=2 in /usr/local/lib/python3.10/dist-packages (from langchain) (2.31.0)\n",
            "Requirement already satisfied: tenacity<9.0.0,>=8.1.0 in /usr/local/lib/python3.10/dist-packages (from langchain) (8.2.3)\n",
            "Requirement already satisfied: aiosignal>=1.1.2 in /usr/local/lib/python3.10/dist-packages (from aiohttp<4.0.0,>=3.8.3->langchain) (1.3.1)\n",
            "Requirement already satisfied: attrs>=17.3.0 in /usr/local/lib/python3.10/dist-packages (from aiohttp<4.0.0,>=3.8.3->langchain) (23.2.0)\n",
            "Requirement already satisfied: frozenlist>=1.1.1 in /usr/local/lib/python3.10/dist-packages (from aiohttp<4.0.0,>=3.8.3->langchain) (1.4.1)\n",
            "Requirement already satisfied: multidict<7.0,>=4.5 in /usr/local/lib/python3.10/dist-packages (from aiohttp<4.0.0,>=3.8.3->langchain) (6.0.5)\n",
            "Requirement already satisfied: yarl<2.0,>=1.0 in /usr/local/lib/python3.10/dist-packages (from aiohttp<4.0.0,>=3.8.3->langchain) (1.9.4)\n",
            "Requirement already satisfied: marshmallow<4.0.0,>=3.18.0 in /usr/local/lib/python3.10/dist-packages (from dataclasses-json<0.7,>=0.5.7->langchain) (3.20.2)\n",
            "Requirement already satisfied: typing-inspect<1,>=0.4.0 in /usr/local/lib/python3.10/dist-packages (from dataclasses-json<0.7,>=0.5.7->langchain) (0.9.0)\n",
            "Requirement already satisfied: jsonpointer>=1.9 in /usr/local/lib/python3.10/dist-packages (from jsonpatch<2.0,>=1.33->langchain) (2.4)\n",
            "Requirement already satisfied: anyio<5,>=3 in /usr/local/lib/python3.10/dist-packages (from langchain-core<0.2,>=0.1.26->langchain) (3.7.1)\n",
            "Requirement already satisfied: packaging<24.0,>=23.2 in /usr/local/lib/python3.10/dist-packages (from langchain-core<0.2,>=0.1.26->langchain) (23.2)\n",
            "Requirement already satisfied: orjson<4.0.0,>=3.9.14 in /usr/local/lib/python3.10/dist-packages (from langsmith<0.2.0,>=0.1.0->langchain) (3.9.15)\n",
            "Requirement already satisfied: annotated-types>=0.4.0 in /usr/local/lib/python3.10/dist-packages (from pydantic<3,>=1->langchain) (0.6.0)\n",
            "Requirement already satisfied: pydantic-core==2.16.2 in /usr/local/lib/python3.10/dist-packages (from pydantic<3,>=1->langchain) (2.16.2)\n",
            "Requirement already satisfied: typing-extensions>=4.6.1 in /usr/local/lib/python3.10/dist-packages (from pydantic<3,>=1->langchain) (4.9.0)\n",
            "Requirement already satisfied: charset-normalizer<4,>=2 in /usr/local/lib/python3.10/dist-packages (from requests<3,>=2->langchain) (3.3.2)\n",
            "Requirement already satisfied: idna<4,>=2.5 in /usr/local/lib/python3.10/dist-packages (from requests<3,>=2->langchain) (3.6)\n",
            "Requirement already satisfied: urllib3<3,>=1.21.1 in /usr/local/lib/python3.10/dist-packages (from requests<3,>=2->langchain) (2.0.7)\n",
            "Requirement already satisfied: certifi>=2017.4.17 in /usr/local/lib/python3.10/dist-packages (from requests<3,>=2->langchain) (2024.2.2)\n",
            "Requirement already satisfied: greenlet!=0.4.17 in /usr/local/lib/python3.10/dist-packages (from SQLAlchemy<3,>=1.4->langchain) (3.0.3)\n",
            "Requirement already satisfied: sniffio>=1.1 in /usr/local/lib/python3.10/dist-packages (from anyio<5,>=3->langchain-core<0.2,>=0.1.26->langchain) (1.3.0)\n",
            "Requirement already satisfied: exceptiongroup in /usr/local/lib/python3.10/dist-packages (from anyio<5,>=3->langchain-core<0.2,>=0.1.26->langchain) (1.2.0)\n",
            "Requirement already satisfied: mypy-extensions>=0.3.0 in /usr/local/lib/python3.10/dist-packages (from typing-inspect<1,>=0.4.0->dataclasses-json<0.7,>=0.5.7->langchain) (1.0.0)\n",
            "Requirement already satisfied: tiktoken in /usr/local/lib/python3.10/dist-packages (0.6.0)\n",
            "Requirement already satisfied: regex>=2022.1.18 in /usr/local/lib/python3.10/dist-packages (from tiktoken) (2023.12.25)\n",
            "Requirement already satisfied: requests>=2.26.0 in /usr/local/lib/python3.10/dist-packages (from tiktoken) (2.31.0)\n",
            "Requirement already satisfied: charset-normalizer<4,>=2 in /usr/local/lib/python3.10/dist-packages (from requests>=2.26.0->tiktoken) (3.3.2)\n",
            "Requirement already satisfied: idna<4,>=2.5 in /usr/local/lib/python3.10/dist-packages (from requests>=2.26.0->tiktoken) (3.6)\n",
            "Requirement already satisfied: urllib3<3,>=1.21.1 in /usr/local/lib/python3.10/dist-packages (from requests>=2.26.0->tiktoken) (2.0.7)\n",
            "Requirement already satisfied: certifi>=2017.4.17 in /usr/local/lib/python3.10/dist-packages (from requests>=2.26.0->tiktoken) (2024.2.2)\n",
            "Requirement already satisfied: ragas in /usr/local/lib/python3.10/dist-packages (0.1.2)\n",
            "Requirement already satisfied: numpy in /usr/local/lib/python3.10/dist-packages (from ragas) (1.25.2)\n",
            "Requirement already satisfied: datasets in /usr/local/lib/python3.10/dist-packages (from ragas) (2.17.1)\n",
            "Requirement already satisfied: tiktoken in /usr/local/lib/python3.10/dist-packages (from ragas) (0.6.0)\n",
            "Requirement already satisfied: langchain in /usr/local/lib/python3.10/dist-packages (from ragas) (0.1.9)\n",
            "Requirement already satisfied: langchain-core in /usr/local/lib/python3.10/dist-packages (from ragas) (0.1.26)\n",
            "Requirement already satisfied: langchain-community in /usr/local/lib/python3.10/dist-packages (from ragas) (0.0.24)\n",
            "Requirement already satisfied: langchain-openai in /usr/local/lib/python3.10/dist-packages (from ragas) (0.0.7)\n",
            "Requirement already satisfied: openai>1 in /usr/local/lib/python3.10/dist-packages (from ragas) (1.12.0)\n",
            "Requirement already satisfied: pysbd>=0.3.4 in /usr/local/lib/python3.10/dist-packages (from ragas) (0.3.4)\n",
            "Requirement already satisfied: nest-asyncio in /usr/local/lib/python3.10/dist-packages (from ragas) (1.6.0)\n",
            "Requirement already satisfied: appdirs in /usr/local/lib/python3.10/dist-packages (from ragas) (1.4.4)\n",
            "Requirement already satisfied: anyio<5,>=3.5.0 in /usr/local/lib/python3.10/dist-packages (from openai>1->ragas) (3.7.1)\n",
            "Requirement already satisfied: distro<2,>=1.7.0 in /usr/lib/python3/dist-packages (from openai>1->ragas) (1.7.0)\n",
            "Requirement already satisfied: httpx<1,>=0.23.0 in /usr/local/lib/python3.10/dist-packages (from openai>1->ragas) (0.27.0)\n",
            "Requirement already satisfied: pydantic<3,>=1.9.0 in /usr/local/lib/python3.10/dist-packages (from openai>1->ragas) (2.6.1)\n",
            "Requirement already satisfied: sniffio in /usr/local/lib/python3.10/dist-packages (from openai>1->ragas) (1.3.0)\n",
            "Requirement already satisfied: tqdm>4 in /usr/local/lib/python3.10/dist-packages (from openai>1->ragas) (4.66.2)\n",
            "Requirement already satisfied: typing-extensions<5,>=4.7 in /usr/local/lib/python3.10/dist-packages (from openai>1->ragas) (4.9.0)\n",
            "Requirement already satisfied: filelock in /usr/local/lib/python3.10/dist-packages (from datasets->ragas) (3.13.1)\n",
            "Requirement already satisfied: pyarrow>=12.0.0 in /usr/local/lib/python3.10/dist-packages (from datasets->ragas) (14.0.2)\n",
            "Requirement already satisfied: pyarrow-hotfix in /usr/local/lib/python3.10/dist-packages (from datasets->ragas) (0.6)\n",
            "Requirement already satisfied: dill<0.3.9,>=0.3.0 in /usr/local/lib/python3.10/dist-packages (from datasets->ragas) (0.3.8)\n",
            "Requirement already satisfied: pandas in /usr/local/lib/python3.10/dist-packages (from datasets->ragas) (1.5.3)\n",
            "Requirement already satisfied: requests>=2.19.0 in /usr/local/lib/python3.10/dist-packages (from datasets->ragas) (2.31.0)\n",
            "Requirement already satisfied: xxhash in /usr/local/lib/python3.10/dist-packages (from datasets->ragas) (3.4.1)\n",
            "Requirement already satisfied: multiprocess in /usr/local/lib/python3.10/dist-packages (from datasets->ragas) (0.70.16)\n",
            "Requirement already satisfied: fsspec[http]<=2023.10.0,>=2023.1.0 in /usr/local/lib/python3.10/dist-packages (from datasets->ragas) (2023.6.0)\n",
            "Requirement already satisfied: aiohttp in /usr/local/lib/python3.10/dist-packages (from datasets->ragas) (3.9.3)\n",
            "Requirement already satisfied: huggingface-hub>=0.19.4 in /usr/local/lib/python3.10/dist-packages (from datasets->ragas) (0.20.3)\n",
            "Requirement already satisfied: packaging in /usr/local/lib/python3.10/dist-packages (from datasets->ragas) (23.2)\n",
            "Requirement already satisfied: pyyaml>=5.1 in /usr/local/lib/python3.10/dist-packages (from datasets->ragas) (6.0.1)\n",
            "Requirement already satisfied: SQLAlchemy<3,>=1.4 in /usr/local/lib/python3.10/dist-packages (from langchain->ragas) (1.4.51)\n",
            "Requirement already satisfied: async-timeout<5.0.0,>=4.0.0 in /usr/local/lib/python3.10/dist-packages (from langchain->ragas) (4.0.3)\n",
            "Requirement already satisfied: dataclasses-json<0.7,>=0.5.7 in /usr/local/lib/python3.10/dist-packages (from langchain->ragas) (0.6.4)\n",
            "Requirement already satisfied: jsonpatch<2.0,>=1.33 in /usr/local/lib/python3.10/dist-packages (from langchain->ragas) (1.33)\n",
            "Requirement already satisfied: langsmith<0.2.0,>=0.1.0 in /usr/local/lib/python3.10/dist-packages (from langchain->ragas) (0.1.8)\n",
            "Requirement already satisfied: tenacity<9.0.0,>=8.1.0 in /usr/local/lib/python3.10/dist-packages (from langchain->ragas) (8.2.3)\n",
            "Requirement already satisfied: regex>=2022.1.18 in /usr/local/lib/python3.10/dist-packages (from tiktoken->ragas) (2023.12.25)\n",
            "Requirement already satisfied: aiosignal>=1.1.2 in /usr/local/lib/python3.10/dist-packages (from aiohttp->datasets->ragas) (1.3.1)\n",
            "Requirement already satisfied: attrs>=17.3.0 in /usr/local/lib/python3.10/dist-packages (from aiohttp->datasets->ragas) (23.2.0)\n",
            "Requirement already satisfied: frozenlist>=1.1.1 in /usr/local/lib/python3.10/dist-packages (from aiohttp->datasets->ragas) (1.4.1)\n",
            "Requirement already satisfied: multidict<7.0,>=4.5 in /usr/local/lib/python3.10/dist-packages (from aiohttp->datasets->ragas) (6.0.5)\n",
            "Requirement already satisfied: yarl<2.0,>=1.0 in /usr/local/lib/python3.10/dist-packages (from aiohttp->datasets->ragas) (1.9.4)\n",
            "Requirement already satisfied: idna>=2.8 in /usr/local/lib/python3.10/dist-packages (from anyio<5,>=3.5.0->openai>1->ragas) (3.6)\n",
            "Requirement already satisfied: exceptiongroup in /usr/local/lib/python3.10/dist-packages (from anyio<5,>=3.5.0->openai>1->ragas) (1.2.0)\n",
            "Requirement already satisfied: marshmallow<4.0.0,>=3.18.0 in /usr/local/lib/python3.10/dist-packages (from dataclasses-json<0.7,>=0.5.7->langchain->ragas) (3.20.2)\n",
            "Requirement already satisfied: typing-inspect<1,>=0.4.0 in /usr/local/lib/python3.10/dist-packages (from dataclasses-json<0.7,>=0.5.7->langchain->ragas) (0.9.0)\n",
            "Requirement already satisfied: certifi in /usr/local/lib/python3.10/dist-packages (from httpx<1,>=0.23.0->openai>1->ragas) (2024.2.2)\n",
            "Requirement already satisfied: httpcore==1.* in /usr/local/lib/python3.10/dist-packages (from httpx<1,>=0.23.0->openai>1->ragas) (1.0.4)\n",
            "Requirement already satisfied: h11<0.15,>=0.13 in /usr/local/lib/python3.10/dist-packages (from httpcore==1.*->httpx<1,>=0.23.0->openai>1->ragas) (0.14.0)\n",
            "Requirement already satisfied: jsonpointer>=1.9 in /usr/local/lib/python3.10/dist-packages (from jsonpatch<2.0,>=1.33->langchain->ragas) (2.4)\n",
            "Requirement already satisfied: orjson<4.0.0,>=3.9.14 in /usr/local/lib/python3.10/dist-packages (from langsmith<0.2.0,>=0.1.0->langchain->ragas) (3.9.15)\n",
            "Requirement already satisfied: annotated-types>=0.4.0 in /usr/local/lib/python3.10/dist-packages (from pydantic<3,>=1.9.0->openai>1->ragas) (0.6.0)\n",
            "Requirement already satisfied: pydantic-core==2.16.2 in /usr/local/lib/python3.10/dist-packages (from pydantic<3,>=1.9.0->openai>1->ragas) (2.16.2)\n",
            "Requirement already satisfied: charset-normalizer<4,>=2 in /usr/local/lib/python3.10/dist-packages (from requests>=2.19.0->datasets->ragas) (3.3.2)\n",
            "Requirement already satisfied: urllib3<3,>=1.21.1 in /usr/local/lib/python3.10/dist-packages (from requests>=2.19.0->datasets->ragas) (2.0.7)\n",
            "Requirement already satisfied: greenlet!=0.4.17 in /usr/local/lib/python3.10/dist-packages (from SQLAlchemy<3,>=1.4->langchain->ragas) (3.0.3)\n",
            "Requirement already satisfied: python-dateutil>=2.8.1 in /usr/local/lib/python3.10/dist-packages (from pandas->datasets->ragas) (2.8.2)\n",
            "Requirement already satisfied: pytz>=2020.1 in /usr/local/lib/python3.10/dist-packages (from pandas->datasets->ragas) (2023.4)\n",
            "Requirement already satisfied: six>=1.5 in /usr/local/lib/python3.10/dist-packages (from python-dateutil>=2.8.1->pandas->datasets->ragas) (1.16.0)\n",
            "Requirement already satisfied: mypy-extensions>=0.3.0 in /usr/local/lib/python3.10/dist-packages (from typing-inspect<1,>=0.4.0->dataclasses-json<0.7,>=0.5.7->langchain->ragas) (1.0.0)\n",
            "Requirement already satisfied: dataset in /usr/local/lib/python3.10/dist-packages (1.6.2)\n",
            "Requirement already satisfied: sqlalchemy<2.0.0,>=1.3.2 in /usr/local/lib/python3.10/dist-packages (from dataset) (1.4.51)\n",
            "Requirement already satisfied: alembic>=0.6.2 in /usr/local/lib/python3.10/dist-packages (from dataset) (1.13.1)\n",
            "Requirement already satisfied: banal>=1.0.1 in /usr/local/lib/python3.10/dist-packages (from dataset) (1.0.6)\n",
            "Requirement already satisfied: Mako in /usr/local/lib/python3.10/dist-packages (from alembic>=0.6.2->dataset) (1.3.2)\n",
            "Requirement already satisfied: typing-extensions>=4 in /usr/local/lib/python3.10/dist-packages (from alembic>=0.6.2->dataset) (4.9.0)\n",
            "Requirement already satisfied: greenlet!=0.4.17 in /usr/local/lib/python3.10/dist-packages (from sqlalchemy<2.0.0,>=1.3.2->dataset) (3.0.3)\n",
            "Requirement already satisfied: MarkupSafe>=0.9.2 in /usr/local/lib/python3.10/dist-packages (from Mako->alembic>=0.6.2->dataset) (2.1.5)\n",
            "Requirement already satisfied: tqdm in /usr/local/lib/python3.10/dist-packages (4.66.2)\n",
            "Requirement already satisfied: ragas in /usr/local/lib/python3.10/dist-packages (0.1.2)\n",
            "Requirement already satisfied: tensorflow in /usr/local/lib/python3.10/dist-packages (2.15.0)\n",
            "Requirement already satisfied: tensorflow-datasets in /usr/local/lib/python3.10/dist-packages (4.9.4)\n",
            "Requirement already satisfied: pandas in /usr/local/lib/python3.10/dist-packages (1.5.3)\n",
            "Requirement already satisfied: numpy in /usr/local/lib/python3.10/dist-packages (1.25.2)\n",
            "Requirement already satisfied: scikit-learn in /usr/local/lib/python3.10/dist-packages (1.2.2)\n",
            "Requirement already satisfied: datasets in /usr/local/lib/python3.10/dist-packages (from ragas) (2.17.1)\n",
            "Requirement already satisfied: tiktoken in /usr/local/lib/python3.10/dist-packages (from ragas) (0.6.0)\n",
            "Requirement already satisfied: langchain in /usr/local/lib/python3.10/dist-packages (from ragas) (0.1.9)\n",
            "Requirement already satisfied: langchain-core in /usr/local/lib/python3.10/dist-packages (from ragas) (0.1.26)\n",
            "Requirement already satisfied: langchain-community in /usr/local/lib/python3.10/dist-packages (from ragas) (0.0.24)\n",
            "Requirement already satisfied: langchain-openai in /usr/local/lib/python3.10/dist-packages (from ragas) (0.0.7)\n",
            "Requirement already satisfied: openai>1 in /usr/local/lib/python3.10/dist-packages (from ragas) (1.12.0)\n",
            "Requirement already satisfied: pysbd>=0.3.4 in /usr/local/lib/python3.10/dist-packages (from ragas) (0.3.4)\n",
            "Requirement already satisfied: nest-asyncio in /usr/local/lib/python3.10/dist-packages (from ragas) (1.6.0)\n",
            "Requirement already satisfied: appdirs in /usr/local/lib/python3.10/dist-packages (from ragas) (1.4.4)\n",
            "Requirement already satisfied: absl-py>=1.0.0 in /usr/local/lib/python3.10/dist-packages (from tensorflow) (1.4.0)\n",
            "Requirement already satisfied: astunparse>=1.6.0 in /usr/local/lib/python3.10/dist-packages (from tensorflow) (1.6.3)\n",
            "Requirement already satisfied: flatbuffers>=23.5.26 in /usr/local/lib/python3.10/dist-packages (from tensorflow) (23.5.26)\n",
            "Requirement already satisfied: gast!=0.5.0,!=0.5.1,!=0.5.2,>=0.2.1 in /usr/local/lib/python3.10/dist-packages (from tensorflow) (0.5.4)\n",
            "Requirement already satisfied: google-pasta>=0.1.1 in /usr/local/lib/python3.10/dist-packages (from tensorflow) (0.2.0)\n",
            "Requirement already satisfied: h5py>=2.9.0 in /usr/local/lib/python3.10/dist-packages (from tensorflow) (3.9.0)\n",
            "Requirement already satisfied: libclang>=13.0.0 in /usr/local/lib/python3.10/dist-packages (from tensorflow) (16.0.6)\n",
            "Requirement already satisfied: ml-dtypes~=0.2.0 in /usr/local/lib/python3.10/dist-packages (from tensorflow) (0.2.0)\n",
            "Requirement already satisfied: opt-einsum>=2.3.2 in /usr/local/lib/python3.10/dist-packages (from tensorflow) (3.3.0)\n",
            "Requirement already satisfied: packaging in /usr/local/lib/python3.10/dist-packages (from tensorflow) (23.2)\n",
            "Requirement already satisfied: protobuf!=4.21.0,!=4.21.1,!=4.21.2,!=4.21.3,!=4.21.4,!=4.21.5,<5.0.0dev,>=3.20.3 in /usr/local/lib/python3.10/dist-packages (from tensorflow) (3.20.3)\n",
            "Requirement already satisfied: setuptools in /usr/local/lib/python3.10/dist-packages (from tensorflow) (67.7.2)\n",
            "Requirement already satisfied: six>=1.12.0 in /usr/local/lib/python3.10/dist-packages (from tensorflow) (1.16.0)\n",
            "Requirement already satisfied: termcolor>=1.1.0 in /usr/local/lib/python3.10/dist-packages (from tensorflow) (2.4.0)\n",
            "Requirement already satisfied: typing-extensions>=3.6.6 in /usr/local/lib/python3.10/dist-packages (from tensorflow) (4.9.0)\n",
            "Requirement already satisfied: wrapt<1.15,>=1.11.0 in /usr/local/lib/python3.10/dist-packages (from tensorflow) (1.14.1)\n",
            "Requirement already satisfied: tensorflow-io-gcs-filesystem>=0.23.1 in /usr/local/lib/python3.10/dist-packages (from tensorflow) (0.36.0)\n",
            "Requirement already satisfied: grpcio<2.0,>=1.24.3 in /usr/local/lib/python3.10/dist-packages (from tensorflow) (1.60.1)\n",
            "Requirement already satisfied: tensorboard<2.16,>=2.15 in /usr/local/lib/python3.10/dist-packages (from tensorflow) (2.15.2)\n",
            "Requirement already satisfied: tensorflow-estimator<2.16,>=2.15.0 in /usr/local/lib/python3.10/dist-packages (from tensorflow) (2.15.0)\n",
            "Requirement already satisfied: keras<2.16,>=2.15.0 in /usr/local/lib/python3.10/dist-packages (from tensorflow) (2.15.0)\n",
            "Requirement already satisfied: click in /usr/local/lib/python3.10/dist-packages (from tensorflow-datasets) (8.1.7)\n",
            "Requirement already satisfied: dm-tree in /usr/local/lib/python3.10/dist-packages (from tensorflow-datasets) (0.1.8)\n",
            "Requirement already satisfied: etils[enp,epath,etree]>=0.9.0 in /usr/local/lib/python3.10/dist-packages (from tensorflow-datasets) (1.7.0)\n",
            "Requirement already satisfied: promise in /usr/local/lib/python3.10/dist-packages (from tensorflow-datasets) (2.3)\n",
            "Requirement already satisfied: psutil in /usr/local/lib/python3.10/dist-packages (from tensorflow-datasets) (5.9.5)\n",
            "Requirement already satisfied: requests>=2.19.0 in /usr/local/lib/python3.10/dist-packages (from tensorflow-datasets) (2.31.0)\n",
            "Requirement already satisfied: tensorflow-metadata in /usr/local/lib/python3.10/dist-packages (from tensorflow-datasets) (1.14.0)\n",
            "Requirement already satisfied: toml in /usr/local/lib/python3.10/dist-packages (from tensorflow-datasets) (0.10.2)\n",
            "Requirement already satisfied: array-record>=0.5.0 in /usr/local/lib/python3.10/dist-packages (from tensorflow-datasets) (0.5.0)\n",
            "Requirement already satisfied: python-dateutil>=2.8.1 in /usr/local/lib/python3.10/dist-packages (from pandas) (2.8.2)\n",
            "Requirement already satisfied: pytz>=2020.1 in /usr/local/lib/python3.10/dist-packages (from pandas) (2023.4)\n",
            "Requirement already satisfied: scipy>=1.3.2 in /usr/local/lib/python3.10/dist-packages (from scikit-learn) (1.11.4)\n",
            "Requirement already satisfied: joblib>=1.1.1 in /usr/local/lib/python3.10/dist-packages (from scikit-learn) (1.3.2)\n",
            "Requirement already satisfied: threadpoolctl>=2.0.0 in /usr/local/lib/python3.10/dist-packages (from scikit-learn) (3.3.0)\n",
            "Requirement already satisfied: wheel<1.0,>=0.23.0 in /usr/local/lib/python3.10/dist-packages (from astunparse>=1.6.0->tensorflow) (0.42.0)\n",
            "Requirement already satisfied: fsspec in /usr/local/lib/python3.10/dist-packages (from etils[enp,epath,etree]>=0.9.0->tensorflow-datasets) (2023.6.0)\n",
            "Requirement already satisfied: importlib_resources in /usr/local/lib/python3.10/dist-packages (from etils[enp,epath,etree]>=0.9.0->tensorflow-datasets) (6.1.1)\n",
            "Requirement already satisfied: zipp in /usr/local/lib/python3.10/dist-packages (from etils[enp,epath,etree]>=0.9.0->tensorflow-datasets) (3.17.0)\n",
            "Requirement already satisfied: anyio<5,>=3.5.0 in /usr/local/lib/python3.10/dist-packages (from openai>1->ragas) (3.7.1)\n",
            "Requirement already satisfied: distro<2,>=1.7.0 in /usr/lib/python3/dist-packages (from openai>1->ragas) (1.7.0)\n",
            "Requirement already satisfied: httpx<1,>=0.23.0 in /usr/local/lib/python3.10/dist-packages (from openai>1->ragas) (0.27.0)\n",
            "Requirement already satisfied: pydantic<3,>=1.9.0 in /usr/local/lib/python3.10/dist-packages (from openai>1->ragas) (2.6.1)\n",
            "Requirement already satisfied: sniffio in /usr/local/lib/python3.10/dist-packages (from openai>1->ragas) (1.3.0)\n",
            "Requirement already satisfied: charset-normalizer<4,>=2 in /usr/local/lib/python3.10/dist-packages (from requests>=2.19.0->tensorflow-datasets) (3.3.2)\n",
            "Requirement already satisfied: idna<4,>=2.5 in /usr/local/lib/python3.10/dist-packages (from requests>=2.19.0->tensorflow-datasets) (3.6)\n",
            "Requirement already satisfied: urllib3<3,>=1.21.1 in /usr/local/lib/python3.10/dist-packages (from requests>=2.19.0->tensorflow-datasets) (2.0.7)\n",
            "Requirement already satisfied: certifi>=2017.4.17 in /usr/local/lib/python3.10/dist-packages (from requests>=2.19.0->tensorflow-datasets) (2024.2.2)\n",
            "Requirement already satisfied: google-auth<3,>=1.6.3 in /usr/local/lib/python3.10/dist-packages (from tensorboard<2.16,>=2.15->tensorflow) (2.27.0)\n",
            "Requirement already satisfied: google-auth-oauthlib<2,>=0.5 in /usr/local/lib/python3.10/dist-packages (from tensorboard<2.16,>=2.15->tensorflow) (1.2.0)\n",
            "Requirement already satisfied: markdown>=2.6.8 in /usr/local/lib/python3.10/dist-packages (from tensorboard<2.16,>=2.15->tensorflow) (3.5.2)\n",
            "Requirement already satisfied: tensorboard-data-server<0.8.0,>=0.7.0 in /usr/local/lib/python3.10/dist-packages (from tensorboard<2.16,>=2.15->tensorflow) (0.7.2)\n",
            "Requirement already satisfied: werkzeug>=1.0.1 in /usr/local/lib/python3.10/dist-packages (from tensorboard<2.16,>=2.15->tensorflow) (3.0.1)\n",
            "Requirement already satisfied: filelock in /usr/local/lib/python3.10/dist-packages (from datasets->ragas) (3.13.1)\n",
            "Requirement already satisfied: pyarrow>=12.0.0 in /usr/local/lib/python3.10/dist-packages (from datasets->ragas) (14.0.2)\n",
            "Requirement already satisfied: pyarrow-hotfix in /usr/local/lib/python3.10/dist-packages (from datasets->ragas) (0.6)\n",
            "Requirement already satisfied: dill<0.3.9,>=0.3.0 in /usr/local/lib/python3.10/dist-packages (from datasets->ragas) (0.3.8)\n",
            "Requirement already satisfied: xxhash in /usr/local/lib/python3.10/dist-packages (from datasets->ragas) (3.4.1)\n",
            "Requirement already satisfied: multiprocess in /usr/local/lib/python3.10/dist-packages (from datasets->ragas) (0.70.16)\n",
            "Requirement already satisfied: aiohttp in /usr/local/lib/python3.10/dist-packages (from datasets->ragas) (3.9.3)\n",
            "Requirement already satisfied: huggingface-hub>=0.19.4 in /usr/local/lib/python3.10/dist-packages (from datasets->ragas) (0.20.3)\n",
            "Requirement already satisfied: pyyaml>=5.1 in /usr/local/lib/python3.10/dist-packages (from datasets->ragas) (6.0.1)\n",
            "Requirement already satisfied: SQLAlchemy<3,>=1.4 in /usr/local/lib/python3.10/dist-packages (from langchain->ragas) (1.4.51)\n",
            "Requirement already satisfied: async-timeout<5.0.0,>=4.0.0 in /usr/local/lib/python3.10/dist-packages (from langchain->ragas) (4.0.3)\n",
            "Requirement already satisfied: dataclasses-json<0.7,>=0.5.7 in /usr/local/lib/python3.10/dist-packages (from langchain->ragas) (0.6.4)\n",
            "Requirement already satisfied: jsonpatch<2.0,>=1.33 in /usr/local/lib/python3.10/dist-packages (from langchain->ragas) (1.33)\n",
            "Requirement already satisfied: langsmith<0.2.0,>=0.1.0 in /usr/local/lib/python3.10/dist-packages (from langchain->ragas) (0.1.8)\n",
            "Requirement already satisfied: tenacity<9.0.0,>=8.1.0 in /usr/local/lib/python3.10/dist-packages (from langchain->ragas) (8.2.3)\n",
            "Requirement already satisfied: regex>=2022.1.18 in /usr/local/lib/python3.10/dist-packages (from tiktoken->ragas) (2023.12.25)\n",
            "Requirement already satisfied: googleapis-common-protos<2,>=1.52.0 in /usr/local/lib/python3.10/dist-packages (from tensorflow-metadata->tensorflow-datasets) (1.62.0)\n",
            "Requirement already satisfied: aiosignal>=1.1.2 in /usr/local/lib/python3.10/dist-packages (from aiohttp->datasets->ragas) (1.3.1)\n",
            "Requirement already satisfied: attrs>=17.3.0 in /usr/local/lib/python3.10/dist-packages (from aiohttp->datasets->ragas) (23.2.0)\n",
            "Requirement already satisfied: frozenlist>=1.1.1 in /usr/local/lib/python3.10/dist-packages (from aiohttp->datasets->ragas) (1.4.1)\n",
            "Requirement already satisfied: multidict<7.0,>=4.5 in /usr/local/lib/python3.10/dist-packages (from aiohttp->datasets->ragas) (6.0.5)\n",
            "Requirement already satisfied: yarl<2.0,>=1.0 in /usr/local/lib/python3.10/dist-packages (from aiohttp->datasets->ragas) (1.9.4)\n",
            "Requirement already satisfied: exceptiongroup in /usr/local/lib/python3.10/dist-packages (from anyio<5,>=3.5.0->openai>1->ragas) (1.2.0)\n",
            "Requirement already satisfied: marshmallow<4.0.0,>=3.18.0 in /usr/local/lib/python3.10/dist-packages (from dataclasses-json<0.7,>=0.5.7->langchain->ragas) (3.20.2)\n",
            "Requirement already satisfied: typing-inspect<1,>=0.4.0 in /usr/local/lib/python3.10/dist-packages (from dataclasses-json<0.7,>=0.5.7->langchain->ragas) (0.9.0)\n",
            "Requirement already satisfied: cachetools<6.0,>=2.0.0 in /usr/local/lib/python3.10/dist-packages (from google-auth<3,>=1.6.3->tensorboard<2.16,>=2.15->tensorflow) (5.3.2)\n",
            "Requirement already satisfied: pyasn1-modules>=0.2.1 in /usr/local/lib/python3.10/dist-packages (from google-auth<3,>=1.6.3->tensorboard<2.16,>=2.15->tensorflow) (0.3.0)\n",
            "Requirement already satisfied: rsa<5,>=3.1.4 in /usr/local/lib/python3.10/dist-packages (from google-auth<3,>=1.6.3->tensorboard<2.16,>=2.15->tensorflow) (4.9)\n",
            "Requirement already satisfied: requests-oauthlib>=0.7.0 in /usr/local/lib/python3.10/dist-packages (from google-auth-oauthlib<2,>=0.5->tensorboard<2.16,>=2.15->tensorflow) (1.3.1)\n",
            "Requirement already satisfied: httpcore==1.* in /usr/local/lib/python3.10/dist-packages (from httpx<1,>=0.23.0->openai>1->ragas) (1.0.4)\n",
            "Requirement already satisfied: h11<0.15,>=0.13 in /usr/local/lib/python3.10/dist-packages (from httpcore==1.*->httpx<1,>=0.23.0->openai>1->ragas) (0.14.0)\n",
            "Requirement already satisfied: jsonpointer>=1.9 in /usr/local/lib/python3.10/dist-packages (from jsonpatch<2.0,>=1.33->langchain->ragas) (2.4)\n",
            "Requirement already satisfied: orjson<4.0.0,>=3.9.14 in /usr/local/lib/python3.10/dist-packages (from langsmith<0.2.0,>=0.1.0->langchain->ragas) (3.9.15)\n",
            "Requirement already satisfied: annotated-types>=0.4.0 in /usr/local/lib/python3.10/dist-packages (from pydantic<3,>=1.9.0->openai>1->ragas) (0.6.0)\n",
            "Requirement already satisfied: pydantic-core==2.16.2 in /usr/local/lib/python3.10/dist-packages (from pydantic<3,>=1.9.0->openai>1->ragas) (2.16.2)\n",
            "Requirement already satisfied: greenlet!=0.4.17 in /usr/local/lib/python3.10/dist-packages (from SQLAlchemy<3,>=1.4->langchain->ragas) (3.0.3)\n",
            "Requirement already satisfied: MarkupSafe>=2.1.1 in /usr/local/lib/python3.10/dist-packages (from werkzeug>=1.0.1->tensorboard<2.16,>=2.15->tensorflow) (2.1.5)\n",
            "Requirement already satisfied: pyasn1<0.6.0,>=0.4.6 in /usr/local/lib/python3.10/dist-packages (from pyasn1-modules>=0.2.1->google-auth<3,>=1.6.3->tensorboard<2.16,>=2.15->tensorflow) (0.5.1)\n",
            "Requirement already satisfied: oauthlib>=3.0.0 in /usr/local/lib/python3.10/dist-packages (from requests-oauthlib>=0.7.0->google-auth-oauthlib<2,>=0.5->tensorboard<2.16,>=2.15->tensorflow) (3.2.2)\n",
            "Requirement already satisfied: mypy-extensions>=0.3.0 in /usr/local/lib/python3.10/dist-packages (from typing-inspect<1,>=0.4.0->dataclasses-json<0.7,>=0.5.7->langchain->ragas) (1.0.0)\n"
          ]
        }
      ]
    },
    {
      "cell_type": "code",
      "source": [
        "# Import libraries\n",
        "import pandas as pd\n",
        "import os\n",
        "import datasets\n",
        "from langchain.document_loaders import TextLoader\n",
        "from langchain.text_splitter import RecursiveCharacterTextSplitter\n",
        "from langchain.vectorstores import FAISS\n",
        "from langchain_community.embeddings import HuggingFaceEmbeddings\n",
        "from langchain_community.vectorstores.utils import DistanceStrategy\n",
        "from langchain_community.document_loaders import PyPDFLoader"
      ],
      "metadata": {
        "id": "QAbjqNWLI2uR"
      },
      "execution_count": 3,
      "outputs": []
    },
    {
      "cell_type": "markdown",
      "source": [
        "# Loading Document"
      ],
      "metadata": {
        "id": "VHvhBrOHVUgR"
      }
    },
    {
      "cell_type": "code",
      "source": [
        "import os\n",
        "\n",
        "file_path = \"/content/Raptor Contract.docx.pdf\"\n",
        "\n",
        "if not os.path.isfile(file_path):\n",
        "    print(\"File does not exist.\")"
      ],
      "metadata": {
        "id": "-LYM9_OdI_Aj"
      },
      "execution_count": 4,
      "outputs": []
    },
    {
      "cell_type": "code",
      "source": [
        "if not file_path.endswith(\".pdf\"):\n",
        "    print(\"File is not a PDF file.\")"
      ],
      "metadata": {
        "id": "2oysPcGRJDMn"
      },
      "execution_count": 5,
      "outputs": []
    },
    {
      "cell_type": "code",
      "source": [
        "# Load the dataset\n",
        "loader = PyPDFLoader(\"/content/Raptor Contract.docx.pdf\")\n",
        "documents = loader.load()"
      ],
      "metadata": {
        "id": "e6C6qWzkJWdG"
      },
      "execution_count": 6,
      "outputs": []
    },
    {
      "cell_type": "markdown",
      "source": [
        "# Getting api key"
      ],
      "metadata": {
        "id": "_3ftYDBCV1qy"
      }
    },
    {
      "cell_type": "code",
      "source": [
        "\n",
        "import os\n",
        "import openai\n",
        "from getpass import getpass\n",
        "\n",
        "openai.api_key = getpass(\"Please provide your OpenAI Key: \")\n",
        "os.environ[\"OPENAI_API_KEY\"] = openai.api_key"
      ],
      "metadata": {
        "colab": {
          "base_uri": "https://localhost:8080/"
        },
        "id": "AJr8FWH9Ja26",
        "outputId": "5f609c08-0b32-49dc-a57e-3e7ecb9f72c1"
      },
      "execution_count": 7,
      "outputs": [
        {
          "name": "stdout",
          "output_type": "stream",
          "text": [
            "Please provide your OpenAI Key: ··········\n"
          ]
        }
      ]
    },
    {
      "cell_type": "markdown",
      "source": [
        "# storing a vector data"
      ],
      "metadata": {
        "id": "5xKjnYJ-V7_x"
      }
    },
    {
      "cell_type": "code",
      "source": [
        "from langchain.vectorstores import Chroma\n",
        "from langchain.embeddings import OpenAIEmbeddings\n",
        "from langchain.text_splitter import RecursiveCharacterTextSplitter\n",
        "\n",
        "text_splitter = RecursiveCharacterTextSplitter(chunk_size=500,chunk_overlap=10,separators=[\"\\n\\n\",\"\\n\",\".\", \" \",\"\"])\n",
        "\n",
        "docs = text_splitter.split_documents(documents)\n",
        "\n",
        "vectorstore = Chroma.from_documents(docs, OpenAIEmbeddings())"
      ],
      "metadata": {
        "id": "uQZGs9OuJriN",
        "colab": {
          "base_uri": "https://localhost:8080/"
        },
        "outputId": "9050c25c-1ad4-4a31-a3d4-efa216c4f169"
      },
      "execution_count": 8,
      "outputs": [
        {
          "output_type": "stream",
          "name": "stderr",
          "text": [
            "/usr/local/lib/python3.10/dist-packages/langchain_core/_api/deprecation.py:117: LangChainDeprecationWarning: The class `langchain_community.embeddings.openai.OpenAIEmbeddings` was deprecated in langchain-community 0.1.0 and will be removed in 0.2.0. An updated version of the class exists in the langchain-openai package and should be used instead. To use it run `pip install -U langchain-openai` and import as `from langchain_openai import OpenAIEmbeddings`.\n",
            "  warn_deprecated(\n"
          ]
        }
      ]
    },
    {
      "cell_type": "code",
      "source": [
        "len(docs)"
      ],
      "metadata": {
        "colab": {
          "base_uri": "https://localhost:8080/"
        },
        "id": "0tPCL_-QKdzl",
        "outputId": "b87af924-a102-4ac1-d868-ea775d935719"
      },
      "execution_count": 9,
      "outputs": [
        {
          "output_type": "execute_result",
          "data": {
            "text/plain": [
              "491"
            ]
          },
          "metadata": {},
          "execution_count": 9
        }
      ]
    },
    {
      "cell_type": "code",
      "source": [
        "base_retriever = vectorstore.as_retriever(search_kwargs={\"k\" : 50})"
      ],
      "metadata": {
        "id": "6z3Gu5FJKfgK"
      },
      "execution_count": 10,
      "outputs": []
    },
    {
      "cell_type": "markdown",
      "source": [
        "# prompt"
      ],
      "metadata": {
        "id": "NErEWMllWDt4"
      }
    },
    {
      "cell_type": "code",
      "source": [
        "from langchain.prompts import ChatPromptTemplate\n",
        "\n",
        "template = \"\"\"You are a legal expert tasked with acting as the best lawyer and contract analyzer. Your task is to thoroughly understand the provided context and answer questions related to legal matters, contracts, and relevant laws. You must provide accurate responses based solely on the information provided in the context. If the necessary information is not present in the context,':\n",
        "\n",
        "### CONTEXT\n",
        "{context}\n",
        "\n",
        "### QUESTION\n",
        "Question: {question}\n",
        "\"\"\"\n",
        "\n",
        "prompt = ChatPromptTemplate.from_template(template)"
      ],
      "metadata": {
        "id": "W-C4lWpHKlA4"
      },
      "execution_count": 11,
      "outputs": []
    },
    {
      "cell_type": "markdown",
      "source": [
        "# Defining a Retrieval-Augmented Question-Answering Chain with Langchain"
      ],
      "metadata": {
        "id": "5G2ojdMIZSWT"
      }
    },
    {
      "cell_type": "code",
      "source": [
        "from operator import itemgetter\n",
        "\n",
        "from langchain.chat_models import ChatOpenAI\n",
        "from langchain.schema.output_parser import StrOutputParser\n",
        "from langchain.schema.runnable import RunnableLambda, RunnablePassthrough\n",
        "\n",
        "primary_qa_llm = ChatOpenAI(model_name=\"gpt-3.5-turbo\", temperature=0)\n",
        "\n",
        "retrieval_augmented_qa_chain = (\n",
        "    # INVOKE CHAIN WITH: {\"question\" : \"<<SOME USER QUESTION>>\"}\n",
        "    # \"question\" : populated by getting the value of the \"question\" key\n",
        "    # \"context\"  : populated by getting the value of the \"question\" key and chaining it into the base_retriever\n",
        "    {\"context\": itemgetter(\"question\") | base_retriever, \"question\": itemgetter(\"question\")}\n",
        "    # \"context\"  : is assigned to a RunnablePassthrough object (will not be called or considered in the next step)\n",
        "    #              by getting the value of the \"context\" key from the previous step\n",
        "    | RunnablePassthrough.assign(context=itemgetter(\"context\"))\n",
        "    # \"response\" : the \"context\" and \"question\" values are used to format our prompt object and then piped\n",
        "    #              into the LLM and stored in a key called \"response\"\n",
        "    # \"context\"  : populated by getting the value of the \"context\" key from the previous step\n",
        "    | {\"response\": prompt | primary_qa_llm, \"context\": itemgetter(\"context\")}\n",
        ")"
      ],
      "metadata": {
        "id": "JCn6H-whKqKn",
        "colab": {
          "base_uri": "https://localhost:8080/"
        },
        "outputId": "7a1a95f2-bb81-46e3-c8eb-96687b1283c9"
      },
      "execution_count": 12,
      "outputs": [
        {
          "output_type": "stream",
          "name": "stderr",
          "text": [
            "/usr/local/lib/python3.10/dist-packages/langchain_core/_api/deprecation.py:117: LangChainDeprecationWarning: The class `langchain_community.chat_models.openai.ChatOpenAI` was deprecated in langchain-community 0.0.10 and will be removed in 0.2.0. An updated version of the class exists in the langchain-openai package and should be used instead. To use it run `pip install -U langchain-openai` and import as `from langchain_openai import ChatOpenAI`.\n",
            "  warn_deprecated(\n"
          ]
        }
      ]
    },
    {
      "cell_type": "markdown",
      "source": [
        "# Testing the RAG"
      ],
      "metadata": {
        "id": "8Al9kkUEZcfa"
      }
    },
    {
      "cell_type": "code",
      "source": [
        "questions = [\n",
        "    \"Under what circumstances and to what extent the Sellers are responsible for a breach of representations and warranties?\",\n",
        "    \"How much is the escrow amount?\",\n",
        "    \"Is escrow amount grete then the Retention Amount ?\",\n",
        "    \"What is the purpose of the escrow?\",\n",
        "    \"May the Escrow Amount serve as a recourse for the Buyer in case of breach of representations by the Company?\",\n",
        "    \"Are there any conditions to the closing?\",\n",
        "    \"Are Change of Control Payments considered a Seller Transaction Expense?\",\n",
        "    \"Would the aggregate amount payable by the Buyer to the Sellers be affected if it is\",\n",
        "    \"Does the Buyer need to pay the Employees Closing Bonus Amount directly to the Companyâs employees?\",\n",
        "    \"Does any of the Sellers provide a representation with respect to any Tax matters related to the Company?\",\n",
        "    \"Is any of the Sellers bound by a non-competition covenant after the Closing?\",\n",
        "    \"Whose consent is required for the assignment of the Agreement by the Buyer?\",\n",
        "    \"Does the Buyer needs the Sellersâ consent in the event of an assignment of the Agreement to a third party who is not a Buyerâs Affiliates?\"\n",
        "]\n"
      ],
      "metadata": {
        "id": "D9VVL-u-8rU9"
      },
      "execution_count": 19,
      "outputs": []
    },
    {
      "cell_type": "code",
      "source": [
        "answer=[]\n",
        "for question in questions:\n",
        "  result = retrieval_augmented_qa_chain.invoke({\"question\" : question})\n",
        "  answer.append(result['response'].content)\n",
        "\n",
        "\n"
      ],
      "metadata": {
        "id": "3XwkeaZf9LMs"
      },
      "execution_count": 20,
      "outputs": []
    },
    {
      "cell_type": "code",
      "source": [
        "answer"
      ],
      "metadata": {
        "id": "_lUSkVOzZ-KS",
        "colab": {
          "base_uri": "https://localhost:8080/"
        },
        "outputId": "c848770d-6597-46a5-dbd2-2985b301e165"
      },
      "execution_count": 21,
      "outputs": [
        {
          "output_type": "execute_result",
          "data": {
            "text/plain": [
              "['Answer: The Sellers are responsible for a breach of representations and warranties under the following circumstances:\\n1. Each Seller is severally responsible for any breach or violation of the provisions of the agreement by any of its Affiliates or its Representatives.\\n2. The Sellers are responsible for any breach or violation of representations and warranties made to the Buyer.\\n3. The Sellers are responsible for any breach or violation of representations, warranties, or covenants contained in the agreement, regardless of the relative levels of specificity.\\n4. The Sellers are responsible for any breach of legal compliance, illegal payments, or permits related to the acquired companies.\\n5. The Sellers are responsible for any breach of representations and warranties unless specifically exempted or limited in the agreement.',\n",
              " 'The escrow amount is $1,000,000.',\n",
              " 'Based on the provided context, the Retention Amount is defined as an amount equal to $5,000,000. The Escrow Amount is defined as $1,000,000. Therefore, the Escrow Amount is less than the Retention Amount.',\n",
              " 'Answer: The purpose of the escrow is to hold funds in a separate account solely for the purpose of satisfying obligations of the Company Securityholders as provided in the agreement. The Escrow Amount will be released to the Company Securityholders in accordance with the provisions of the Escrow Agreement.',\n",
              " \"Answer: Yes, the Escrow Amount may serve as a recourse for the Buyer in case of breach of representations by the Company. The Escrow Amount can be used as the Buyer's exclusive remedy against the Company Securityholders in connection with any claim relating to adjustments or breaches of representations as per the terms of the Agreement.\",\n",
              " 'Answer: Yes, there are conditions to the closing as outlined in the provided context. One condition is that the Closing Cash Amount, Closing Debt Amount, and Seller Transaction Expenses must be finally determined pursuant to Section 2.07 and set forth in the Final Closing Statement. Additionally, the Purchase Price will be recalculated using the final figures instead of the estimated amounts set forth in the Estimated Closing Statement.',\n",
              " 'Based on the provided context, Change of Control Payments are defined separately from Seller Transaction Expenses. Change of Control Payments are defined as bonuses, severance, or other payments triggered by a change in control, while Seller Transaction Expenses include fees, expenses, and other costs related to the transaction. Therefore, Change of Control Payments are not considered Seller Transaction Expenses.',\n",
              " 'determined that the Closing Cash Amount, Closing Debt Amount, or Seller Transaction Expenses differ from the estimated amounts set forth in the Estimated Closing Statement?',\n",
              " \"Answer: Yes, the Buyer needs to pay the Employee Closing Bonus Amount directly to the Company's employees as specified in the contract. The contract mentions that the Buyer shall deposit the Employee Closing Bonus Amount with the Company, and the Company shall then distribute the respective share of the Employee Closing Bonus Amount to each Employees Closing Bonus Beneficiary in accordance with the allocation set forth in the contract.\",\n",
              " 'Answer: Based on the provided context, there is no explicit mention of any of the Sellers providing a representation with respect to any Tax matters related to the Company. The context primarily focuses on tax matters related to the Acquired Companies and the Contemplated Transactions.',\n",
              " 'Based on the provided context, it is stated that the Sellers shall not solicit, lure, entice away, or persuade any employee or consultant of the Acquired Companies to leave their employment or diminish their relationship with the company after the Closing. This can be considered a form of non-competition covenant that the Sellers are bound by after the Closing.',\n",
              " 'Answer: The consent of the other parties, with the Sellers’ Representative acting for all of the Sellers, is required for the assignment of the Agreement by the Buyer.',\n",
              " \"Answer: Yes, the Buyer needs the Sellers' consent for the assignment of the Agreement to a third party who is not a Buyer's Affiliate. The document states that no party may assign the Agreement or any of its rights, interests, or obligations without the prior written approval of the other parties, with the Sellers' Representative acting for all of the Sellers.\"]"
            ]
          },
          "metadata": {},
          "execution_count": 21
        }
      ]
    },
    {
      "cell_type": "markdown",
      "source": [
        "# Ground Truth Dataset Creation Using GPT-4"
      ],
      "metadata": {
        "id": "GtvWGdOh0oY3"
      }
    },
    {
      "cell_type": "code",
      "source": [
        "from langchain.output_parsers import ResponseSchema\n",
        "from langchain.output_parsers import StructuredOutputParser\n",
        "\n",
        "question_schema = ResponseSchema(\n",
        "    name=\"question\",\n",
        "    description=\"a question about the context.\"\n",
        ")\n",
        "\n",
        "question_response_schemas = [\n",
        "    question_schema,\n",
        "]"
      ],
      "metadata": {
        "id": "tY_30kM40oBI"
      },
      "execution_count": 22,
      "outputs": []
    },
    {
      "cell_type": "code",
      "source": [
        "question_output_parser = StructuredOutputParser.from_response_schemas(question_response_schemas)\n",
        "format_instructions = question_output_parser.get_format_instructions()"
      ],
      "metadata": {
        "id": "k3r_58hs0x6k"
      },
      "execution_count": 23,
      "outputs": []
    },
    {
      "cell_type": "code",
      "source": [
        "question_generation_llm = ChatOpenAI(model=\"gpt-3.5-turbo-16k\")\n",
        "\n",
        "bare_prompt_template = \"{content}\"\n",
        "bare_template = ChatPromptTemplate.from_template(template=bare_prompt_template)"
      ],
      "metadata": {
        "id": "_pEyuh-o0-zm"
      },
      "execution_count": 24,
      "outputs": []
    },
    {
      "cell_type": "code",
      "source": [
        "from langchain.prompts import ChatPromptTemplate\n",
        "\n",
        "qa_template = \"\"\"\\\n",
        "You are a legal expert tasked with acting as the best lawyer and contract analyzer. Your task is to thoroughly understand the provided context and answer questions related to legal matters, contracts, and relevant laws. You must provide accurate responses based solely on the information provided in the context. If the necessary information is not present in the context,':\n",
        "\n",
        "question: a question about the context.\n",
        "\n",
        "Format the output as JSON with the following keys:\n",
        "question\n",
        "\n",
        "context: {context}\n",
        "\"\"\"\n",
        "\n",
        "prompt_template = ChatPromptTemplate.from_template(template=qa_template)\n",
        "\n",
        "messages = prompt_template.format_messages(\n",
        "    context=docs[0],\n",
        "    format_instructions=format_instructions\n",
        ")\n",
        "\n",
        "question_generation_chain = bare_template | question_generation_llm\n",
        "\n",
        "response = question_generation_chain.invoke({\"content\" : messages})\n",
        "output_dict = question_output_parser.parse(response.content)"
      ],
      "metadata": {
        "id": "ksoSuzw81A9p"
      },
      "execution_count": 163,
      "outputs": []
    },
    {
      "cell_type": "code",
      "source": [
        "for k, v in output_dict.items():\n",
        "  print(k)\n",
        "  print(v)"
      ],
      "metadata": {
        "colab": {
          "base_uri": "https://localhost:8080/"
        },
        "id": "XDzQgYQ91rq0",
        "outputId": "7cc54542-f088-4ada-83ca-67b3451803c2"
      },
      "execution_count": 164,
      "outputs": [
        {
          "output_type": "stream",
          "name": "stdout",
          "text": [
            "question\n",
            "What is the purpose of the document?\n",
            "context\n",
            "page_content='[R&G\\nDraft\\n12.__.2021]\\nSTOCK\\nPURCHASE\\nAGREEMENT\\nBY\\nAND\\nAMONG\\n[BUYER],\\n[TARGET\\nCOMP ANY],\\nTHE\\nSELLERS\\nLISTED\\nON\\nSCHEDULE\\nI\\nHERET O\\nAND\\nTHE\\nSELLERS’\\nREPRESENT ATIVE\\nNAMED\\nHEREIN\\nDated\\nas\\nof\\n[●]\\n[This\\ndocument\\nis\\nintended\\nsolely\\nto\\nfacilitate\\ndiscussions\\namong\\nthe\\nparties\\nidentified\\nherein. \\nNeither\\nthis\\ndocument\\nnor\\nsuch\\ndiscussions\\nare\\nintended\\nto\\ncreate,\\nnor\\nwill\\neither\\nor\\nboth\\nbe \\ndeemed\\nto\\ncreate,\\na\\nlegally\\nbinding\\nor\\nenforceable\\noffer\\nor\\nagreement\\nof\\nany\\ntype\\nor\\nnature, \\nunless\\nand\\nuntil\\na' metadata={'source': '/content/Raptor Contract.docx.pdf', 'page': 0}\n"
          ]
        }
      ]
    },
    {
      "cell_type": "code",
      "source": [
        "from tqdm import tqdm\n",
        "\n",
        "qac_triples = []\n",
        "\n",
        "for text in tqdm(docs[:10]):\n",
        "  messages = prompt_template.format_messages(\n",
        "      context=text,\n",
        "      format_instructions=format_instructions\n",
        "  )\n",
        "  response = question_generation_chain.invoke({\"content\" : messages})\n",
        "  try:\n",
        "    output_dict = question_output_parser.parse(response.content)\n",
        "  except Exception as e:\n",
        "    continue\n",
        "  output_dict[\"context\"] = text\n",
        "  qac_triples.append(output_dict)"
      ],
      "metadata": {
        "colab": {
          "base_uri": "https://localhost:8080/"
        },
        "id": "n7OJlhQ_1-9h",
        "outputId": "e853d48e-a70f-4087-a186-16877f6fa363"
      },
      "execution_count": 165,
      "outputs": [
        {
          "output_type": "stream",
          "name": "stderr",
          "text": [
            "100%|██████████| 10/10 [00:13<00:00,  1.35s/it]\n"
          ]
        }
      ]
    },
    {
      "cell_type": "code",
      "source": [
        "qac_triples[5]"
      ],
      "metadata": {
        "colab": {
          "base_uri": "https://localhost:8080/"
        },
        "id": "jyFQaGw12JsO",
        "outputId": "4b7794b9-2b40-468d-f5b0-8be4e8fac320"
      },
      "execution_count": 166,
      "outputs": [
        {
          "output_type": "execute_result",
          "data": {
            "text/plain": [
              "{'question': 'What is the context about?',\n",
              " 'context': Document(page_content='Section\\n3.19\\nLabor\\nMatters\\n37\\nSection\\n3.20\\nLitigation;\\nGovernment\\nOrders\\n37\\nSection\\n3.21\\nInsurance\\n38\\nSection\\n3.22\\nNo\\nBrokers\\n38\\nSection\\n3.23\\nFull\\nDisclosure\\n38\\nARTICLE\\nIV\\nINDIVIDUAL\\nREPRESENT ATIONS\\nAND\\nWARRANTIES\\nOF\\nTHE \\nSELLERS.\\n38\\nSection\\n4.01\\nOrganization\\n39\\nSection\\n4.02\\nPower\\nand\\nAuthorization\\n39\\nSection\\n4.03\\nAuthorization\\nof\\nGovernmental\\nAuthorities\\n39\\nSection\\n4.04\\nNoncontravention\\n39\\nSection\\n4.05\\nTitle\\n39\\nSection\\n4.06\\nNo\\nBrokers\\n40\\nARTICLE\\nV\\nREPRESENT ATIONS\\nAND\\nWARRANTIES\\nOF\\nTHE\\nBUYER.', metadata={'source': '/content/Raptor Contract.docx.pdf', 'page': 2})}"
            ]
          },
          "metadata": {},
          "execution_count": 166
        }
      ]
    },
    {
      "cell_type": "code",
      "source": [
        "answer_generation_llm = ChatOpenAI(model=\"gpt-4-1106-preview\", temperature=0)\n",
        "\n",
        "answer_schema = ResponseSchema(\n",
        "    name=\"answer\",\n",
        "    description=\"an answer to the question\"\n",
        ")\n",
        "\n",
        "answer_response_schemas = [\n",
        "    answer_schema,\n",
        "]\n",
        "\n",
        "answer_output_parser = StructuredOutputParser.from_response_schemas(answer_response_schemas)\n",
        "format_instructions = answer_output_parser.get_format_instructions()\n",
        "\n",
        "qa_template = \"\"\"\\\n",
        "You are a legal expert tasked with acting as the best lawyer and contract analyzer. Your task is to thoroughly understand the provided context and answer questions related to legal matters, contracts, and relevant laws. You must provide accurate responses based solely on the information provided in the context. If the necessary information is not present in the context,':\n",
        "\n",
        "answer: a answer about the context.\n",
        "\n",
        "Format the output as JSON with the following keys:\n",
        "answer\n",
        "\n",
        "question: {question}\n",
        "context: {context}\n",
        "\"\"\"\n",
        "\n",
        "prompt_template = ChatPromptTemplate.from_template(template=qa_template)\n",
        "\n",
        "messages = prompt_template.format_messages(\n",
        "    context=qac_triples[0][\"context\"],\n",
        "    question=qac_triples[0][\"question\"],\n",
        "    format_instructions=format_instructions\n",
        ")\n",
        "\n",
        "answer_generation_chain = bare_template | answer_generation_llm\n",
        "\n",
        "response = answer_generation_chain.invoke({\"content\" : messages})\n",
        "output_dict = answer_output_parser.parse(response.content)"
      ],
      "metadata": {
        "id": "GiUBHcJb2c3l"
      },
      "execution_count": 167,
      "outputs": []
    },
    {
      "cell_type": "code",
      "source": [
        "for triple in tqdm(qac_triples):\n",
        "  messages = prompt_template.format_messages(\n",
        "      context=triple[\"context\"],\n",
        "      question=triple[\"question\"],\n",
        "      format_instructions=format_instructions\n",
        "  )\n",
        "  response = answer_generation_chain.invoke({\"content\" : messages})\n",
        "  try:\n",
        "    output_dict = answer_output_parser.parse(response.content)\n",
        "  except Exception as e:\n",
        "    continue\n",
        "  triple[\"answer\"] = output_dict[\"answer\"]"
      ],
      "metadata": {
        "colab": {
          "base_uri": "https://localhost:8080/"
        },
        "id": "48l67WEd22j_",
        "outputId": "e92a9321-9eff-47d2-ba89-463290f29ac5"
      },
      "execution_count": 168,
      "outputs": [
        {
          "output_type": "stream",
          "name": "stderr",
          "text": [
            "100%|██████████| 10/10 [00:42<00:00,  4.25s/it]\n"
          ]
        }
      ]
    },
    {
      "cell_type": "code",
      "source": [
        "import pandas as pd\n",
        "from datasets import Dataset\n",
        "\n",
        "ground_truth_qac_set = pd.DataFrame(qac_triples)\n",
        "ground_truth_qac_set[\"context\"] = ground_truth_qac_set[\"context\"].map(lambda x: str(x.page_content))\n",
        "ground_truth_qac_set = ground_truth_qac_set.rename(columns={\"answer\" : \"ground_truth\"})\n",
        "\n",
        "\n",
        "eval_dataset = Dataset.from_pandas(ground_truth_qac_set)"
      ],
      "metadata": {
        "id": "Um4XZyZN3ha-"
      },
      "execution_count": 169,
      "outputs": []
    },
    {
      "cell_type": "code",
      "source": [
        "eval_dataset"
      ],
      "metadata": {
        "colab": {
          "base_uri": "https://localhost:8080/"
        },
        "id": "q_FHUnAPVseB",
        "outputId": "efe6311d-8332-4c8c-f0da-9b9bd8ef81d1"
      },
      "execution_count": 170,
      "outputs": [
        {
          "output_type": "execute_result",
          "data": {
            "text/plain": [
              "Dataset({\n",
              "    features: ['question', 'context', 'ground_truth'],\n",
              "    num_rows: 10\n",
              "})"
            ]
          },
          "metadata": {},
          "execution_count": 170
        }
      ]
    },
    {
      "cell_type": "code",
      "source": [
        "from tqdm import tqdm\n",
        "import pandas as pd\n",
        "from ragas.metrics.critique import harmfulness\n",
        "from ragas import evaluate\n",
        "\n",
        "def create_ragas_dataset(rag_pipeline, eval_dataset):\n",
        "  rag_dataset = []\n",
        "  for row in tqdm(eval_dataset):\n",
        "    answer = rag_pipeline.invoke({\"question\" : row[\"question\"]})\n",
        "    rag_dataset.append(\n",
        "        {\"question\" : row[\"question\"],\n",
        "         \"answer\" : answer[\"response\"].content,\n",
        "         \"contexts\" : [context.page_content for context in answer[\"context\"]],\n",
        "         \"ground_truths\" : [row[\"ground_truth\"]]\n",
        "         }\n",
        "    )\n",
        "  rag_df = pd.DataFrame(rag_dataset)\n",
        "  rag_eval_dataset = Dataset.from_pandas(rag_df)\n",
        "  return rag_eval_dataset\n",
        "\n",
        "basic_qa_ragas_dataset = create_ragas_dataset(retrieval_augmented_qa_chain, eval_dataset)"
      ],
      "metadata": {
        "colab": {
          "base_uri": "https://localhost:8080/"
        },
        "id": "fz-OSYyVrZNg",
        "outputId": "a02849a4-b6b1-43f1-bb00-bc815eaef7ff"
      },
      "execution_count": 171,
      "outputs": [
        {
          "output_type": "stream",
          "name": "stderr",
          "text": [
            "100%|██████████| 10/10 [00:18<00:00,  1.84s/it]\n"
          ]
        }
      ]
    },
    {
      "cell_type": "code",
      "source": [
        "basic_qa_ragas_dataset"
      ],
      "metadata": {
        "colab": {
          "base_uri": "https://localhost:8080/"
        },
        "id": "gkfUrDJXr0n2",
        "outputId": "074aab04-0333-475b-ebc7-d7e7c84f1baa"
      },
      "execution_count": 172,
      "outputs": [
        {
          "output_type": "execute_result",
          "data": {
            "text/plain": [
              "Dataset({\n",
              "    features: ['question', 'answer', 'contexts', 'ground_truths'],\n",
              "    num_rows: 10\n",
              "})"
            ]
          },
          "metadata": {},
          "execution_count": 172
        }
      ]
    },
    {
      "cell_type": "code",
      "source": [
        "basic_qa_ragas_dataset[1]"
      ],
      "metadata": {
        "colab": {
          "base_uri": "https://localhost:8080/"
        },
        "id": "ko17TxCSr50Y",
        "outputId": "077f7353-fe2c-4d5a-9ea5-9f4fd6111996"
      },
      "execution_count": 173,
      "outputs": [
        {
          "output_type": "execute_result",
          "data": {
            "text/plain": [
              "{'question': 'What is the purpose of the document mentioned in the context?',\n",
              " 'answer': 'Answer: The purpose of the document mentioned in the context is to outline an Agreement between parties, including representations, warranties, and covenants, in order to induce the Buyer to enter into and perform the Agreement and to consummate the Contemplated Transactions.',\n",
              " 'contexts': ['of\\nthe\\nabove-named \\ncourts,\\nthat\\nits\\nproperty\\nis\\nexempt\\nor\\nimmune\\nfrom\\nattachment\\nor\\nexecution,\\nthat\\nany\\nsuch\\nAction \\nbrought\\nin\\none\\nof\\nthe\\nabove-named\\ncourts\\nshould\\nbe\\ndismissed\\non\\ngrounds\\nof\\nforum\\nnon \\nconveniens\\n,\\nshould\\nbe\\ntransferred\\nor\\nremoved\\nto\\nany\\ncourt\\nother\\nthan\\none\\nof\\nthe\\nabove-named \\ncourts,\\nor\\nshould\\nbe\\nstayed\\nby\\nreason\\nof\\nthe\\npendency\\nof\\nsome\\nother\\nAction\\nin\\nany\\nother\\ncourt \\nother\\nthan\\none\\nof\\nthe\\nabove-named\\ncourts\\nor\\nthat\\nthis\\nAgreement,\\nany\\nAncillary\\nAgreement\\nor \\nthe\\nsubject',\n",
              "  '[Remainder\\nof\\npage\\nintentionally\\nleft\\nblank;\\nSignatur e\\npages\\nfollow]\\n-\\n67\\n-\\n112923184_5',\n",
              "  'Note\\nto\\nDraft:\\nSubject\\nto\\nfinalization\\nof\\ntransaction\\nstructure.\\n-\\n59\\n-\\n112923184_5',\n",
              "  'subject\\nmatter\\nhereof\\nor\\nthereof\\nmay\\nnot\\nbe\\nenforced\\nin\\nor\\nby\\nsuch\\ncourt\\nand\\n(iii)\\nhereby \\nagrees\\nnot\\nto\\ncommence\\nany\\nsuch\\nAction\\nother\\nthan\\nbefore\\none\\nof\\nthe\\nabove-named\\ncourts. \\nNotwithstanding\\nthe\\nprevious\\nsentence\\na\\nparty\\nmay\\ncommence\\nany\\nAction\\nin\\na\\ncourt\\nother\\nthan \\nthe\\nabove-named\\ncourts\\nsolely\\nfor\\nthe\\npurpose\\nof\\nenforcing\\nan\\norder\\nor\\njudgment\\nissued\\nby\\none \\nof\\nthe\\nabove-named\\ncourts.\\n(b)\\nVenue\\n.\\nEach\\nof\\nthe\\nparties\\nto\\nthis\\nAgreement\\nagrees\\nthat\\nfor\\nany\\nAction\\namong \\nany\\nof\\nthe\\nparties',\n",
              "  'as\\nif\\ndrafted\\njointly\\nby\\nthe\\nparties\\nand\\nno\\npresumption\\nor\\nburden\\nof \\nproof\\nshall\\narise\\nfavoring\\nor\\ndisfavoring\\nany\\nparty\\nby\\nvirtue\\nof\\nthe\\nauthorship\\nof\\nany\\nof\\nthe \\nprovisions\\nof\\nthis\\nAgreement.\\n(b)\\nSection\\nand\\nsubsection\\nheadings\\nare\\nnot\\nto\\nbe\\nconsidered\\npart\\nof\\nthis\\nAgreement, \\nare\\nincluded\\nsolely\\nfor\\nconvenience,\\nare\\nnot\\nintended\\nto\\nbe\\nfull\\nor\\naccurate\\ndescriptions\\nof\\nthe \\ncontent\\nof\\nthe\\nSections\\nor\\nsubsections\\nof\\nthis\\nAgreement\\nand\\nshall\\nnot\\naffect\\nthe\\nconstruction \\nhereof.\\n(c)\\nExcept\\nas',\n",
              "  'Term\\nSection\\nSellers\\nPreamble \\nSellers’\\nRepresentative\\n11.04(a) \\nShareholders\\nPreamble \\nShares\\nRecitals \\nTransfer\\nTaxes\\n9.02 \\nVAT\\n3.13(r) \\nValid\\nCertificate\\n2.09(b) \\nWarrantholders\\nPreamble \\nWarrants\\nRecitals \\nWithholding\\nDrop\\nDate\\n2.09(b)\\nSection\\nI.02\\nCertain\\nMatters\\nof\\nConstruction\\n.\\n(a)\\nThe\\nparties\\nhave\\nparticipated\\njointly\\nin\\nthe\\nnegotiation\\nand\\ndrafting\\nof\\nthis \\nAgreement.\\nIn\\nthe\\nevent\\nan\\nambiguity\\nor\\nquestion\\nof\\nintent\\nor\\ninterpretation\\narises,\\nthis \\nAgreement\\nshall\\nbe\\nconstrued\\nas\\nif',\n",
              "  'to\\nsuch\\ninformation\\nor\\n(iii) \\nprovided\\nby\\na\\nthird\\nparty\\nnot\\nknown\\nto\\nsuch\\nSeller\\nto\\nbe\\nunder\\nan\\nobligation\\nof\\nconfidentiality \\nwith\\nrespect\\nto\\nsuch\\ninformation;\\nprovided\\n,\\nfurther\\n,\\nthat\\nthe\\nprovisions\\nof\\nthis\\nSection\\n6.05(a) \\nwill\\nnot\\nprohibit\\nany\\nretention\\nof\\ncopies\\nof\\nrecords\\nor\\ndisclosure\\n(A) required\\nby\\nany\\napplicable \\nLegal\\nRequirement\\nso\\nlong\\nas\\nreasonable\\nprior\\nnotice\\nis\\ngiven\\nto\\nParent\\nand\\nthe\\nCompany\\nof \\nsuch\\ndisclosure\\nand\\na\\nreasonable\\nopportunity\\nis\\nafforded\\nParent\\nand\\nthe\\nCompany',\n",
              "  'Except\\nas\\notherwise\\nexplicitly\\nspecified\\nto\\nthe\\ncontrary\\nherein,\\n(i) the\\nwords \\n“hereof,”\\n“herein,”\\n“hereunder”\\nand\\nwords\\nof\\nsimilar\\nimport\\nshall\\nrefer\\nto\\nthis\\nAgreement\\nas\\na \\nwhole\\nand\\nnot\\nto\\nany\\nparticular\\nSection\\nor\\nsubsection\\nof\\nthis\\nAgreement\\nand\\nreference\\nto\\na \\nparticular\\nSection\\nof\\nthis\\nAgreement\\nshall\\ninclude\\nall\\nsubsections\\nthereof,\\n(ii) references\\nto\\na \\nSection,\\nExhibit,\\nAnnex\\nor\\nSchedule\\nmeans\\na\\nSection\\nof,\\nor\\nExhibit,\\nAnnex\\nor\\nSchedule\\nto\\nthis \\nAgreement,\\nunless\\nanother\\nagreement\\nis',\n",
              "  'until\\na\\ndefinitive\\nwritten\\nagreement\\nis\\nexecuted\\nand\\ndelivered\\nby\\neach\\nof\\nthe\\nparties \\nhereto.\\nThis\\ndocument\\nshall\\nbe\\nkept\\nconfidential\\npursuant\\nto\\nthe\\nterms\\nof\\nthe\\nConfidentiality \\nAgreement\\nentered\\ninto\\nby\\nthe\\nparties\\nand,\\nif\\napplicable,\\nits\\naffiliates\\nwith\\nrespect\\nto\\nthe\\nsubject \\nmatter\\nhereof.]\\n112923184_5',\n",
              "  'the \\nspecification\\nof\\nany\\nitem\\nor\\nmatter\\nin\\nany\\nprovision\\nof\\nthis\\nAgreement\\nnor\\nthe\\ninclusion\\nof\\nany \\nspecific\\nitem\\nor\\nmatter\\nin\\nany\\nSchedule\\nis\\nintended\\nto\\nimply\\nthat\\nsuch\\nitem\\nor\\nmatter ,\\nor\\nother \\nitems\\nor\\nmatters,\\nare\\nor\\nare\\nnot\\nin\\nthe\\nordinary\\ncourse\\nof\\nbusiness\\nor\\nin\\na\\nmanner\\nconsistent\\nwith\\n-\\n65\\n-\\n112923184_5',\n",
              "  'further\\nacts,\\nassurances,\\ndeeds, \\nassignments,\\ntransfers,\\nconveyances\\nand\\nother\\ninstruments\\nand\\npapers\\nas\\nmay\\nbe\\nreasonably \\nrequired\\nor\\nappropriate\\nto\\ncarry\\nout\\nthe\\nContemplated\\nTransactions.\\nSection\\nI.11\\nEmployees\\nand\\nBenefits;\\nRetention\\nPool\\n(a)\\nTo\\nthe\\nextent\\nthat\\nservice\\nis\\nrelevant\\nfor\\npurposes\\nof\\neligibility\\nor\\nvesting\\nunder \\nany\\nemployee\\nbenefit\\nplan,\\nprogram\\nor\\narrangement\\n(other\\nthan\\nany\\ndefined\\nbenefit\\npension \\nplan)\\nestablished\\nor\\nmaintained\\nby\\nBuyer\\nor\\nby\\nthe\\nAcquired\\nCompanies',\n",
              "  'designate\\nto\\nthe\\nother\\nparties\\nby\\nnotice\\ngiven \\nhereunder:\\nIf\\nto\\nthe\\nBuyer\\n(or\\nto\\nthe\\nCompany),\\nto:\\nRaptor\\nTechnologies,\\nInc. \\n190\\nWest\\nTasman\\nDrive \\nSan\\nJose,\\nCA\\n95134 \\nAttn:\\nEmail:\\nwith\\na\\ncopy\\n(which\\nshall\\nnot\\nconstitute\\nnotice)\\nto:\\nand\\nIf\\nto\\nany\\nof\\nthe\\nSellers,\\nto\\nsuch\\nSeller\\nin\\ncare\\nof\\nthe\\nSellers’\\nRepresentative,\\nand\\nif\\nto\\nthe \\nSellers’\\nRepresentative,\\nto:\\n-\\n60\\n-\\n112923184_5',\n",
              "  'assert\\nthat\\nvenue\\nshould\\nproperly\\nlie\\nin\\nany\\nother\\nlocation \\nwithin\\nthe\\nselected\\njurisdiction\\n(c)\\nService\\nof\\nProcess\\n.\\nEach\\nparty\\nhereby\\n(i)\\nconsents\\nto\\nservice\\nof\\nprocess\\nin\\nany \\nAction\\nbetween\\nthe\\nparties\\narising\\nin\\nwhole\\nor\\nin\\npart\\nunder\\nor\\nin\\nconnection\\nwith\\nthis\\nAgreement \\nin\\nany\\nmanner\\npermitted\\nby\\nDelaware\\nlaw,\\n(ii)\\nagrees\\nthat\\nservice\\nof\\nprocess\\nmade\\nin\\naccordance \\nwith\\nclause\\n(i)\\nor\\nmade\\nby\\nregistered\\nor\\ncertified\\nmail,\\nreturn\\nreceipt\\nrequested,\\nat\\nits\\naddress \\nspecified\\npursuant\\nto',\n",
              "  'or\\npartnership\\nagreement\\nand\\nother\\nsimilar \\ndocuments\\nadopted\\nor\\nfiled\\nin\\nconnection\\nwith\\nthe\\ncreation,\\nformation\\nor\\norganization\\nof\\nsuch \\nPerson\\nand\\n(b) all\\nby-laws,\\nvoting\\nagreements\\nand\\nsimilar\\ndocuments,\\ninstruments\\nor\\nagreements \\nrelating\\nto\\nthe\\norganization\\nor\\ngovernance\\nof\\nsuch\\nPerson,\\nin\\neach\\ncase,\\nas\\namended\\nor \\nsupplemented.\\n“\\nParent\\n”\\nas\\ndefined\\nin\\nthe\\npreamble\\nto\\nthis\\nAgreement.\\n“\\nParent’ s\\nand\\nBuyer ’s\\nKnowledge\\n,”\\n“\\nKnowledge\\nof\\nParent\\nand\\nBuyer\\n”\\nand\\nsimilar \\nformulations\\nmean',\n",
              "  'in\\neffect\\nafter\\nthe\\nClosing;\\nand\\n(xv)\\nany\\ncollective\\nbargaining\\nagreement\\nor\\nother\\nContractual\\nObligation\\nwith\\nany \\nUnion.\\nThe\\nCompany\\nhas\\ndelivered\\nto\\nthe\\nBuyer\\naccurate\\nand\\ncomplete\\ncopies\\nof\\neach\\nwritten \\nContractual\\nObligation\\nlisted\\non\\nSchedule 3.16\\n,\\nin\\neach\\ncase,\\nas\\namended\\nor\\notherwise\\nmodified \\nand\\nin\\neffect.\\nThe\\nCompany\\nhas\\ndelivered\\nto\\nthe\\nBuyer\\na\\nwritten\\nsummary\\nsetting\\nforth\\nall\\nof\\nthe \\nmaterial\\nterms\\nand\\nconditions\\nof\\neach\\noral\\nContractual\\nObligation\\nlisted\\non\\nSchedule 3.16\\n.\\n(b)',\n",
              "  'As\\nused\\nherein,\\nthe\\nProposed\\nFinal\\nClosing\\nStatement\\nas\\nadjusted\\nto\\nreflect\\nany\\nchanges\\n-\\n20\\n-\\n112923184_5',\n",
              "  'system\\nto\\neach\\nEmployees\\nClosing\\nBonus\\nBeneficiary\\nits\\nrespective\\nshare\\nthe\\nEmployee\\nClosing \\nBonus\\nAmount\\nin\\naccordance\\nwith\\nthe\\nallocation\\nset\\nfor\\ntin\\nExhibit\\n2.10\\n.\\n10\\nARTICLE\\nII \\nREPRESENT ATIONS\\nAND\\nWARRANTIES\\nREGARDING \\nTHE\\nACQUIRED\\nCOMP ANIES.\\n11\\nIn\\norder\\nto\\ninduce\\nthe\\nBuyer\\nto\\nenter\\ninto\\nand\\nperform\\nthis\\nAgreement\\nand\\nto\\nconsummate \\nthe\\nContemplated\\nTransactions,\\nthe\\nCompany\\nhereby\\nrepresents\\nand\\nwarrants\\nto\\nthe\\nBuyer , \\nsubject\\nto\\nsuch\\nexceptions\\nas\\nare\\ndisclosed\\nin\\nthe\\napplicable',\n",
              "  '“\\nOrdinary\\nCourse\\nof\\nBusiness\\n”\\nmeans\\nan\\naction\\ntaken\\nby\\nany\\nPerson\\nin\\nthe\\nordinary \\ncourse\\nof\\nsuch\\nPerson’ s\\nbusiness\\nthat\\nis\\nconsistent\\nwith\\nthe\\ncustoms\\nand\\npractices\\nof\\nsuch\\nPerson \\nand\\nis\\ntaken\\nin\\nthe\\nordinary\\ncourse\\nof\\nthe\\nnormal\\noperations\\nof\\nsuch\\nPerson.\\n“\\nOrganizational\\nDocuments\\n”\\nmeans,\\nwith\\nrespect\\nto\\nany\\nPerson\\n(other\\nthan\\nan \\nindividual),\\n(a) the\\ncertificate\\nor\\narticles\\nof\\nincorporation,\\nassociation\\nor\\norganization\\nand any \\njoint\\nventure,\\nlimited\\nliability\\ncompany ,\\noperating\\nor',\n",
              "  '(c)\\nby\\nany\\nparty\\n(or\\nany\\nAffiliate\\nor\\nmember\\nthereof)\\nas\\npart \\nof\\nsuch\\nparty’ s\\n(or\\nits\\nAffiliate’ s\\nor\\nmember ’s)\\nordinary\\ncourse\\nreporting\\nor\\nreview\\nprocedures\\nor \\n(d)\\nby\\na\\nParty\\nto\\nits\\nRepresentatives,\\ninvestors\\nor\\nprospective\\ninvestors.\\nWithout\\nlimiting\\nthe \\nforegoing,\\nthe\\nparties\\nhereby\\nacknowledge\\nand\\nagree\\nthat,\\nfollowing\\nthe\\npublic\\nannouncement\\nof \\nthe\\nClosing,\\ninstitutional\\nCompany\\nSecurityholders\\nshall\\nbe\\npermitted\\nto\\nlist,\\nattach,\\nappend, \\nrefer\\nto\\nor\\notherwise\\nuse\\ndetails\\nof\\nthe',\n",
              "  'exempting\\nthe\\npayment\\nto \\nsuch\\npayee\\nfrom\\nwithholding\\ntax\\nor\\nreducing\\nthe\\namount\\nthereof.\\nTo\\nthe\\nextent\\nthat\\nthe\\namounts \\nare\\nso\\ndeducted\\nor\\nwithheld,\\nsuch\\nwithheld\\namounts\\nshall\\nbe\\ntreated\\nfor\\nall\\npurposes\\nof\\nthis \\nAgreement\\nas\\nhaving\\nbeen\\npaid\\nor\\nissued,\\nas\\napplicable,\\nto\\nsuch\\nPayee\\nin\\nrespect\\nof\\nwhich\\nsuch \\ndeduction\\nand\\nwithholding\\nwas\\nmade\\nand,\\nupon\\nrequest,\\nthe\\nPayor\\nshall\\npromptly\\nprovide\\nthe \\napplicable\\nPayee\\nwith\\na\\ndocument\\nevidencing\\nthe\\namount\\nso\\nwithheld\\nand\\nremitted\\nto\\nthe\\nTax',\n",
              "  'or \\nservice,\\nexcept\\nas\\nrequired\\nby\\napplicable\\nLegal\\nRequirements.\\n(c)\\nEach\\nCompany\\nPlan\\nor\\nrelated\\ntrust\\nthat\\nis\\nintended\\nto\\nbe\\nqualified\\nunder\\nCode \\nSection 401(a)\\nor\\nexempt\\nfrom\\ntaxation\\nunder\\nSection\\n501(a)\\nis\\nso\\nqualified\\nor\\nexempt\\nand\\nis\\nthe \\nsubject\\nof\\na\\nfavorable\\ndetermination,\\nopinion\\nor\\nadvisory\\nletter\\nfrom\\nthe\\nIRS\\nupon\\nwhich\\nthe\\n-\\n41\\n-\\n112923184_5',\n",
              "  'any\\nother\\nsituation\\nor\\nin\\nany\\nother\\njurisdiction.\\nIn\\nthe\\nevent\\nthat\\nany\\nprovision \\nhereof\\nwould,\\nunder\\napplicable\\nLegal\\nRequirements,\\nbe\\ninvalid\\nor\\nunenforceable\\nin\\nany\\nrespect, \\neach\\nparty\\nhereto\\nintends\\nthat\\nsuch\\nprovision\\nwill\\nbe\\nconstrued\\nby\\nmodifying\\nor\\nlimiting\\nit\\nso\\nas \\nto\\nbe\\nvalid\\nand\\nenforceable\\nto\\nthe\\nmaximum\\nextent\\ncompatible\\nwith,\\nand\\npossible\\nunder , \\napplicable\\nLegal\\nRequirements.\\n-\\n63\\n-\\n112923184_5',\n",
              "  'is\\nspecified,\\n(iii) definitions\\nshall\\nbe\\nequally\\napplicable\\nto \\nboth\\nthe\\nsingular\\nand\\nplural\\nforms\\nof\\nthe\\nterms\\ndefined,\\nand\\nreferences\\nto\\nthe\\nmasculine, \\nfeminine\\nor\\nneuter\\ngender\\nshall\\ninclude\\neach\\nother\\ngender ,\\n(iv) the\\nword\\n“including”\\nmeans \\nincluding\\nwithout\\nlimitation,\\n(v)\\nany\\nreference\\nto\\n“consultant”\\nwill\\nbe\\ndeemed\\nto\\nbe\\na\\nreference \\nto\\nany\\nindependent\\ncontractor ,\\n(vi) any\\nreference\\nto\\n“$”\\nor\\n“dollars”\\nmeans\\nUnited\\nStates\\ndollars \\nand\\n(vii) references\\nto\\na\\nparticular\\nstatute\\nor',\n",
              "  'including\\nalter\\nego\\nor\\notherwise)\\nto\\nany\\nPerson\\nfor\\nany\\nobligations\\nor\\nliabilities\\narising\\nunder ,\\nin \\nconnection\\nwith\\nor\\nrelated\\nto\\nthis\\nAgreement\\nor\\nfor\\nany\\nclaim\\nbased\\non,\\nin\\nrespect\\nof,\\nor\\nby \\nreason\\nof\\n(a)\\nthis\\nAgreement\\nor\\nany\\nagreement\\ncontemplated\\nhereby ,\\n(b)\\nthe\\nnegotiation\\nor \\nexecution\\nof\\nor\\nperformance\\nof\\nany\\nobligation\\nunder\\nthis\\nAgreement\\nor\\nany\\nagreement \\ncontemplated\\nhereby ,\\n(c)\\nany\\nbreach\\nor\\nviolation\\nof\\nthis\\nAgreement\\nor\\nany\\nagreement \\ncontemplated\\nhereby\\nor\\n(d)\\nany\\nfailure',\n",
              "  '(e)\\nThe\\nparties\\nintend\\nthat\\neach\\nrepresentation,\\nwarranty\\nand\\ncovenant\\ncontained \\nherein\\nwill\\nhave\\nindependent\\nsignificance.\\nIf\\nany\\nparty\\nhas\\nbreached\\nor\\nviolated,\\nor\\nif\\nthere\\nis\\nan \\ninaccuracy\\nin,\\nany\\nrepresentation,\\nwarranty\\nor\\ncovenant\\ncontained\\nherein\\nin\\nany\\nrespect,\\nthe\\nfact \\nthat\\nthere\\nexists\\nanother\\nrepresentation,\\nwarranty\\nor\\ncovenant\\nrelating\\nto\\nthe\\nsame\\nsubject\\nmatter \\n(regardless\\nof\\nthe\\nrelative\\nlevels\\nof\\nspecificity)\\nwhich\\nthe\\nparty\\nhas\\nnot\\nbreached\\nor\\nviolated,\\nor\\nin \\nrespect\\nof',\n",
              "  'Company\\nKnowledge\\nand\\nexcept\\nas\\ncontemplated\\nhereunder\\nor \\nunder\\nany\\nAncillary\\nAgreement,\\nthe\\nexecution\\nor\\ndelivery\\nof\\nthe\\nAgreement,\\nthe\\nconsummation \\nof\\nthe\\nContemplated\\nTransactions\\n(either\\nalone\\nor\\nin\\ncombination\\nwith\\nany\\nother\\nevent),\\nis \\nexpected\\nto\\nconflict\\nwith\\nor\\nresult\\nin\\na\\nbreach\\nof\\nthe\\nterms,\\nconditions,\\nor\\nprovisions\\nof,\\nor \\nconstitute\\na\\ndefault\\nunder ,\\nany\\nContractual\\nObligation\\nor\\nCompany\\nPlan\\nunder\\nwhich\\nany\\nsuch \\nperson\\nis\\nnow\\nobligated\\nand\\nfurther\\nnot\\n(i)\\nresult\\nin\\nany\\npayment',\n",
              "  'Schedules\\nattached\\nhereto\\nor\\nas \\ndisclosed\\nin\\nthe\\nFinancials\\n(including\\nany\\nnotes\\nthereto(,\\nas\\nfollows:\\nSection\\nII.01\\nOrganization\\n.\\nSchedule\\n3.01\\nsets\\nforth\\nfor\\neach\\nAcquired\\nCompany\\nits \\nname\\nand\\njurisdiction\\nof\\norganization.\\nEach\\nAcquired\\nCompany\\nis\\nduly\\norganized,\\nvalidly \\nexisting\\nand\\nin\\ngood\\nstanding\\n(where\\nsuch\\nstanding\\nis\\napplicable)\\nunder\\nthe\\nlaws\\nof\\nits \\njurisdiction\\nof\\norganization.\\nEach\\nAcquired\\nCompany\\nis\\nduly\\nqualified\\nto\\ndo\\nbusiness\\nand\\nin \\ngood\\nstanding\\nin\\neach\\njurisdiction\\nin',\n",
              "  'AND\\nWHETHER\\nSOUNDING\\nIN \\nCONTRACT ,\\nTORT\\nOR\\nOTHER WISE.\\nTHE\\nPARTIES\\nAGREE\\nTHA T\\nANY\\nOF\\nTHEM\\nMAY \\nFILE\\nA\\nCOPY\\nOF\\nTHIS\\nPARAGRAPH\\nWITH\\nANY\\nCOUR T\\nAS\\nWRITTEN\\nEVIDENCE\\nOF \\nTHE\\nKNOWING,\\nVOLUNT ARY\\nAND\\nBARGAINED-FOR\\nAGREEMENT\\nAMONG\\nTHE \\nPARTIES\\nIRREVOCABL Y\\nTO\\nWAIVE\\nTHEIR\\nRESPECTIVE\\nRIGHTS\\nTO\\nTRIAL\\nBY\\nJURY \\nIN\\nANY\\nACTION\\nWHA TSOEVER\\nBETWEEN\\nOR\\nAMONG\\nTHEM\\nRELA TING\\nTO\\nTHIS \\nAGREEMENT ,\\nANY\\nANCILLAR Y\\nAGREEMENT\\nOR\\nANY\\nOF\\nTHE\\nCONTEMPLA TED \\nTRANSACTIONS\\nAND\\nTHA T\\nSUCH\\nACTIONS\\nWILL\\nINSTEAD\\nBE\\nTRIED\\nIN\\nA',\n",
              "  'for\\nthe \\nconduct\\nof\\nthe\\nBusiness\\nby\\nit\\nand\\nthe\\nownership\\nuse\\nand\\noperation\\nof\\nits\\nAssets,\\nas\\ncurrently\\n-\\n36\\n-\\n112923184_5',\n",
              "  'be\\nin\\na\\nposition\\nto\\nhelp\\nor\\nhinder\\nan\\nAcquired\\nCompany\\n(or\\nassist\\nin\\nconnection \\nwith\\nany\\nactual\\nor\\nproposed\\ntransaction)\\nor\\nmade,\\nor\\nagreed\\nto\\nmake,\\nany\\nillegal\\ncontribution,\\nor \\nreimbursed\\nany\\nillegal\\npolitical\\ngift\\nor\\ncontribution\\nmade\\nby\\nany\\nother\\nPerson,\\nto\\nany\\ncandidate \\nfor\\nfederal,\\nstate,\\nlocal,\\nIsraeli\\nor\\nforeign\\npublic\\noffice\\nor\\n(ii) established\\nor\\nmaintained\\nany \\nunrecorded\\nfund\\nor\\nasset\\nor\\nmade\\nany\\nfalse\\nentries\\non\\nany\\nbooks\\nor\\nrecords\\nfor\\nany\\npurpose.\\nTo \\nthe\\nCompany’ s\\nKnowledge,',\n",
              "  \"(c)\\n[Reserved]\\n18\\n.\\n(d)\\nTo\\nthe\\nCompany\\nKnowledge,\\nnone\\nof\\nits\\nemployees,\\nconsultants\\nor\\nother \\nindividual\\nservice\\nprovider\\nis\\nobligated\\nunder\\nany\\nContractual\\nObligation,\\nwhether\\noral\\nor \\nwritten\\n(including\\nlicenses,\\ncovenants,\\nor\\ncommitments\\nof\\nany\\nnature),\\nor\\nsubject\\nto\\nany\\nOrder\\nof \\nany\\nGovernmental\\nAuthority ,\\nthat\\nwould\\nmaterially\\ninterfere\\nwith\\nsuch\\nperson's\\nability\\nto \\npromote\\nthe\\ninterest\\nof\\nany\\nAcquired\\nCompany\\nor\\nthat\\nwould\\nconflict\\nwith\\nthe\\nAcquired \\nCompanies'\\nBusiness.\\nTo\\nthe\\nCompany\",\n",
              "  'which,\\nwith\\nnotice\\nor\\nlapse\\nof\\ntime\\nor\\nboth,\\nwould\\nconstitute\\na\\nmaterial\\nbreach,\\nviolation\\nor \\ndefault\\nunder\\nsuch\\nPermit\\nor\\ngive\\nany\\nGovernmental\\nAuthority\\ngrounds\\nto\\nsuspend,\\nrevoke\\nor \\nterminate\\nany\\nsuch\\nPermit.\\n13\\n.\\nSection\\nII.13\\nTax\\nMatters\\n14\\n.\\n(a)\\nEach\\nAcquired\\nCompany\\nhas\\ntimely\\nfiled\\nall\\nTax\\nReturns\\nrequired\\nto\\nbe\\nfiled\\nby\\nit \\nin\\naccordance\\nwith\\nall\\nLegal\\nRequirements.\\nAll\\nsuch\\nTax\\nReturns\\nare\\ntrue,\\ncorrect\\nand\\ncomplete \\nin\\nall\\nmaterial\\nrespects.\\nAll\\nTaxes\\nowed\\nby\\neach\\nAcquired\\nCompany',\n",
              "  'aggregate\\namount\\nof\\nthe\\nconsideration \\npayable\\nto\\nOptionholders\\nwith\\nrespect\\nto\\nVested\\nOptions\\npursuant\\nto\\nSection\\n2.06(b)\\n.\\nThe\\nfollowing\\nterms\\nhave\\nthe\\nmeaning\\nset\\nforth\\nin\\nthe\\nSections\\nof\\nthis\\nAgreement\\nset \\nforth\\nbelow:\\nTerm\\nSection\\n102\\nPlan\\n3.13(n) \\nAccounting\\nFirm\\n2.07(e) \\nAgreement\\nPreamble \\nAllocation\\nStatement\\n2.04(a) \\nAssets\\n3.09(a) \\nAudited\\nBalance\\nSheet\\n3.06(a)(i) \\nAudited\\nBalance\\nSheet\\nDate\\n3.06(a)(i) \\nAudited\\nFinancials\\n3.06(a)(i) \\nBusiness\\nPartner\\n6.08(a) \\nBuyer\\nPreamble \\nClosing',\n",
              "  'hereof\\nto\\nthe\\nBuyer\\nor\\ntheir\\ncounsel\\nshall\\nbe\\nconsidered\\nto \\nhave\\nbeen\\n“delivered”\\nor\\n“made\\navailable”\\nto\\nthe\\nBuyer\\nfor\\npurposes\\nof\\nthis\\nAgreement.\\n-\\n15\\n-\\n112923184_5',\n",
              "  'Except\\nas\\nexpressly\\nprovided\\nherein,\\nthis \\nAgreement\\nis\\nfor\\nthe\\nsole\\nbenefit\\nof\\nthe\\nparties\\nhereto\\nand\\ntheir\\nsuccessors\\nand\\npermitted \\nassignees\\nand\\nnothing\\nherein\\nexpressed\\nor\\nimplied\\nwill\\ngive\\nor\\nbe\\nconstrued\\nto\\ngive\\nany\\nPerson, \\nother\\nthan\\nthe\\nparties\\nhereto\\nand\\nsuch\\nsuccessors\\nand\\npermitted\\nassignees,\\nany\\nother\\nright,\\nbenefit \\nor\\nremedy\\nof\\nany\\nnature\\nwhatsoever\\nunder\\nor\\nby\\nreason\\nof\\nthis\\nAgreement.\\nSection\\nIV.03\\nAmendments\\nand\\nWaivers\\n.\\nNo\\namendment\\nor\\nwaiver\\nof\\nany\\nprovision\\nof \\nthis',\n",
              "  'amounts\\nspecifically\\nset \\nforth\\nand\\nobjected\\nto\\nin\\nthe\\nDispute\\nNotice\\nand\\nresolve\\nthe\\ndispute\\nwith\\nrespect\\nto\\neach\\nsuch \\nspecific\\nunresolved\\nitem\\nand\\namount\\nin\\naccordance\\nwith\\nthis\\nAgreement.\\nThe\\nAccounting\\nFirm \\nshall\\nrender\\na\\nwritten\\ndecision\\nas\\nto\\neach\\ndisputed\\nmatter ,\\nincluding\\na\\nstatement\\nin\\nreasonable \\ndetail\\nof\\nthe\\nbasis\\nfor\\nits\\ndecision.\\nThe\\nfees,\\ncosts\\nand\\nexpenses\\nof\\nthe\\nAccounting\\nFirm\\nwill\\nbe \\nallocated\\nbetween\\nBuyer ,\\non\\nthe\\none\\nhand,\\nand\\nSellers’\\nRepresentative\\n(on\\nbehalf\\nof\\nthe',\n",
              "  'to\\nbe\\nperformed\\nby\\nthe\\nSellers\\nhereunder .\\n-\\n62\\n-\\n112923184_5',\n",
              "  'AGREEMENT\\nNOW\\nTHEREFORE,\\nin\\nconsideration\\nof\\nthe\\npremises\\nand\\nmutual\\npromises\\nherein\\nmade, \\nand\\nin\\nconsideration\\nof\\nthe\\nrepresentations,\\nwarranties\\nand\\ncovenants\\nherein\\ncontained,\\nthe \\nparties\\nto\\nthis\\nAgreement\\nhereby\\nagree\\nas\\nfollows:\\nARTICLE\\nI \\nDEFINITIONS;\\nCER TAIN\\nRULES\\nOF\\nCONSTRUCTION\\nSection\\nI.01\\nDefinitions\\n.\\nIn\\naddition\\nto\\nthe\\nother\\nterms\\ndefined\\nthroughout\\nthis \\nAgreement,\\nthe\\nfollowing\\nterms\\nshall\\nhave\\nthe\\nfollowing\\nmeanings\\nwhen\\nused\\nin\\nthis\\nAgreement:\\n[“\\nAccounting\\nPrinciples\\n”\\nmeans',\n",
              "  'to\\nSection\\n8.01\\n,\\nwill\\nconstitute\\ngood\\nand\\nvalid\\nservice\\nof\\nprocess\\nin\\nany\\nsuch \\nAction\\nand\\n(iii)\\nwaives\\nand\\nagrees\\nnot\\nto\\nassert\\n(by\\nway\\nof\\nmotion,\\nas\\na\\ndefense,\\nor\\notherwise)\\nin \\nany\\nsuch\\nAction\\nany\\nclaim\\nthat\\nservice\\nof\\nprocess\\nmade\\nin\\naccordance\\nwith\\nclause\\n(i)\\nor\\n(ii)\\ndoes \\nnot\\nconstitute\\ngood\\nand\\nvalid\\nservice\\nof\\nprocess.\\n-\\n64\\n-\\n112923184_5',\n",
              "  'in\\nwhich\\nit\\nowns\\nor\\nleases\\nReal\\nProperty\\nor\\nconducts\\nbusiness \\nand\\nis\\nrequired\\nto\\nso\\nqualify\\nexcept\\nwhere\\nthe\\nfailure\\nto\\nso\\nqualify\\nhas\\nnot\\nhad,\\nand\\nwould\\nnot \\nreasonably\\nbe\\nexpected\\nto\\nhave,\\na\\nMaterial\\nAdverse\\nEffect.\\nThe\\nCompany\\nhas\\ndelivered\\nto\\nthe \\nBuyer\\naccurate\\nand\\ncomplete\\ncopies\\nof\\n(a) the\\nOrganizational\\nDocuments\\nof\\neach\\nAcquired \\nCompany\\nand\\n(b) the\\nminute\\nbooks\\nof\\neach\\nAcquired\\nCompany ,\\nwhich\\ncontain\\nrecords\\nof\\nall \\nmaterial\\nmeetings\\nheld\\nof,\\nand\\nother\\nactions\\ntaken\\nby,\\nthe',\n",
              "  'a\\nmanner\\nor\\nto\\na\\ndegree\\nthat\\nrequires\\nreporting,\\ninvestigation, \\nremediation\\nor\\nother\\nresponse\\npursuant\\nto\\nEnvironmental\\nLaws\\nor\\nthat\\notherwise\\nreasonably \\ncould\\nbe\\nexpected\\nto\\ngive\\nrise\\nto\\nLiability\\nfor\\nany\\nAcquired\\nCompany;\\nand\\n(vi)\\nno\\nAcquired\\nCompany\\nis\\nparty\\nto\\nany\\nagreement\\nobligating\\nit\\nto\\nindemnify\\na\\nthird \\nparty\\nagainst\\nany\\nLiability\\narising\\nunder\\nEnvironmental\\nLaws,\\nwhich\\nsuch\\nLiability\\nwould\\nnot \\notherwise\\nbe\\na\\nLiability\\nof\\nsuch\\nAcquired\\nCompany .\\n(b)\\nThe\\nSellers\\nhave\\nmade\\navailable',\n",
              "  'or\\nother\\nindividual\\nservice \\nprovider\\nof\\nan\\nAcquired\\nCompany\\nor\\nthe\\nbeneficiaries\\nor\\ndependents\\nof\\nany\\nsuch\\nPerson\\n(each\\na \\n“\\nCompany\\nPlan\\n”).\\nWith\\nrespect\\nto\\neach\\nCompany\\nPlan,\\nthe\\nCompany\\nhas\\ndelivered\\nto\\nthe\\nBuyer \\naccurate\\nand\\ncomplete\\ncopies\\nof\\neach\\nof\\nthe\\nfollowing:\\n(i) if\\nthe\\nplan\\nhas\\nbeen\\nreduced\\nto \\nwriting,\\nthe\\nplan\\ndocument\\ntogether\\nwith\\nall\\namendments\\nthereto,\\n(ii) if\\nthe\\nplan\\nhas\\nnot\\nbeen \\nreduced\\nto\\nwriting,\\na\\nwritten\\nsummary\\nof\\nall\\nmaterial\\nplan\\nterms,\\n(iii) if\\napplicable,\\nany',\n",
              "  'Representatives\\nmay\\ndisclose\\nto\\nany\\nand\\nall\\nPersons,\\nwithout\\nlimitation\\nof\\nany\\nkind,\\nthe\\ntax \\ntreatment\\nand\\ntax\\nstructure\\nof\\nthe\\nContemplated\\nTransactions\\nand\\nall\\nmaterials\\nof\\nany\\nkind \\n(including\\nopinions\\nor\\nother\\ntax\\nanalyses)\\nthat\\nare\\nprovided\\nto\\nit\\nrelating\\nto\\nsuch\\ntax\\ntreatment \\nand\\ntax\\nstructure,\\nall\\nas\\ncontemplated\\nby\\nTreasury\\nRegulation\\nSection\\n1.601 1-4(b)(3)(iii).\\nFor\\nthe \\navoidance\\nof\\ndoubt,\\nnothing\\ncontained\\nin\\nthis\\nAgreement\\nlimits,\\nrestricts\\nor\\nin\\nany\\nother\\nway \\naffects\\nany',\n",
              "  'with, \\nGovernmental\\nAuthorities,\\nin\\neach\\ncase,\\nas\\ndisclosed\\non\\nSchedule 3.03\\n,\\nconflict\\nwith\\nor\\nresult\\nin \\na\\nbreach\\nor\\nviolation\\nof,\\nor\\nconstitute\\na\\ndefault\\n(or\\nan\\nevent\\nwhich,\\nwith\\nnotice\\nor\\nlapse\\nof\\ntime\\nor \\nboth,\\nwould\\nconstitute\\na\\ndefault)\\nunder ,\\nany\\nLegal\\nRequirement\\napplicable\\nto\\nan\\nAcquired \\nCompany ,\\nthe\\nBusiness\\nor\\nany\\nAssets\\nof\\nany\\nAcquired\\nCompany;\\nor\\n(b)\\nconflict\\nwith\\nor\\nresult\\nin\\na\\nbreach\\nor\\nviolation\\nof,\\nor\\nconstitute\\na\\ndefault\\n(or\\nan \\nevent\\nwhich,\\nwith\\nnotice\\nor\\nlapse\\nof\\ntime\\nor',\n",
              "  'matters\\nof\\nrecord\\naffecting\\ntitle\\nto\\nbut\\nnot\\nadversely\\naffecting\\nthe \\nvalue\\nof,\\nor\\nthe\\ncurrent\\noccupancy\\nor\\nuse\\nof\\nReal\\nProperty\\nin\\nany\\nmaterial\\nrespect,\\n(e)\\nliens\\nto \\nsecure\\nlandlords,\\nlessors\\nor\\nrenters\\nunder\\nleases\\nor\\nrental\\nagreements\\nand\\n(f)\\nliens\\nthat\\narise\\nby \\noperation\\nof\\nlaw\\nin\\nthe\\nOrdinary\\nCourse\\nof\\nBusiness\\nand\\nare\\nnot\\nmaterial\\nindividually\\nor\\nin\\nthe \\naggregate.\\n“\\nPerson\\n”\\nmeans\\nany\\nindividual\\nor\\nany\\ncorporation,\\nassociation,\\npartnership,\\nlimited \\nliability\\ncompany ,\\njoint\\nventure,',\n",
              "  'Company\\nrequested\\nby\\nBuyer;\\n(iv)\\npayof f\\nand\\nlien\\nrelease\\nletters\\nin\\nform\\nand\\nsubstance\\nreasonably\\nsatisfactory\\nto \\nBuyer\\nin\\nrespect\\nof\\nany\\nindebtedness\\n(including\\nunused\\ncommitments\\ntherefor)\\nincluded\\nin\\nthe \\nClosing\\nDebt\\nAmount\\nand\\nthe\\ntermination\\nof\\nall\\nEncumbrances\\n(other\\nthan\\nPermitted \\nEncumbrances)\\non\\nany\\nassets\\nsecuring\\nsuch\\nindebtedness,\\nexecuted\\nby\\nthe\\nrelevant\\nholders\\nof \\nsuch\\nindebtedness\\n(or\\nthe\\nappropriate\\nagents\\ntherefor),\\ndrafts\\nof\\nwhich\\nshall\\nhave\\nbeen\\nprovided \\nto\\nBuyer\\nprior',\n",
              "  'this\\nAgreement\\nor\\nany\\nAncillary\\nAgreement, \\ntaken\\nany\\naction\\nor\\nomitted\\nto\\ntake\\nany\\nof\\nthe\\nfollowing\\nactions:\\n(i)\\namended\\nits\\nOrganizational\\nDocuments,\\neffected\\nany\\nsplit,\\ncombination, \\nreclassification\\nor\\nsimilar\\naction\\nwith\\nrespect\\nto\\nits\\ncapital\\nstock\\nor\\nother\\nEquity\\nInterests\\nor\\nadopt \\nor\\ncarry\\nout\\nany\\nplan\\nof\\ncomplete\\nor\\npartial\\nliquidation\\nor\\ndissolution;\\n(ii)\\nissued,\\nsold,\\ngranted\\nor\\notherwise\\ndisposed\\nof\\nany\\nof\\nits\\nEquity\\nInterests\\nor\\nother \\nsecurities,\\nor\\namended\\nany\\nterm\\nof\\nany\\nof\\nits',\n",
              "  'pursuant\\nto\\nSection\\n3(i)\\nof\\nthe\\nIncome\\nTax\\nOrdinance\\nor\\nSection\\n102\\nof\\nthe\\nIncome\\nTax \\nOrdinance\\nand\\nspecifying\\nthe\\nsubsection\\nof\\nSection\\n102\\nof\\nthe\\nIncome\\nTax\\nOrdinance\\npursuant\\nto \\nwhich\\nthe\\nOption\\nwas\\ngranted\\nand\\nis\\nsubject\\nto\\ntax\\nand\\nwhether\\nan\\nelection\\nwas\\nmade\\nto\\ntreat \\nsuch\\nOption\\nunder\\nthe\\ncapital\\ngain\\nroute\\nor\\nordinary\\nincome\\nroute,\\nand\\nin\\nthe\\ncase\\nof\\nOptions \\ngranted\\nto\\nUS\\ngrantees,\\nthe\\ntax\\nstatus\\nof\\nsuch\\nOption\\nunder\\nSection\\n422\\nof\\nthe\\nCode,\\nthe\\nterm\\nof \\neach\\nOption,\\nthe\\nOption\\nPlan',\n",
              "  ',\\nviolate\\nany\\nprovision\\nof \\nany\\nLegal\\nRequirement\\napplicable\\nto\\nsuch\\nSeller;\\nor\\n(b)\\nconflict\\nwith\\nor\\nresult\\nin\\na\\nbreach\\nor\\nviolation\\nof,\\nor\\nconstitute\\na\\ndefault\\n(or\\nan \\nevent\\nwhich,\\nwith\\nnotice\\nor\\nlapse\\nof\\ntime\\nor\\nboth,\\nwould\\nconstitute\\na\\ndefault)\\nunder ,\\nor\\nresult\\nin \\ntermination\\nof,\\nor\\naccelerate\\nthe\\nperformance\\nrequired\\nby,\\nor\\nresult\\nin\\na\\nright\\nof\\ntermination\\nor\\n-\\n51\\n-\\n112923184_5',\n",
              "  'agreed\\nto\\nby\\nthe\\nparties\\nand\\nthe\\ndecision\\nof\\nthe\\nAccounting\\nFirm\\npursuant\\nto\\nthis\\nSection\\n2.07\\nis \\nreferred\\nto\\nherein\\nas\\nthe\\n“\\nFinal\\nClosing\\nStatement\\n”.\\nEach\\nof\\nthe\\nparties\\nto\\nthis\\nAgreement\\nagrees \\nto\\nuse\\nits\\ncommercially\\nreasonable\\nefforts\\nto\\ncooperate\\nwith\\nthe\\nAccounting\\nFirm\\n(including\\nby \\nexecuting\\na\\ncustomary\\nengagement\\nletter\\nreasonably\\nacceptable\\nto\\nit)\\nand\\nto\\ncause\\nthe \\nAccounting\\nFirm\\nto\\nresolve\\nany\\nsuch\\ndispute\\nas\\nsoon\\nas\\npracticable\\nafter\\nthe\\ncommencement\\nof \\nthe\\nAccounting\\nFirm’ s'],\n",
              " 'ground_truths': ['The purpose of the document mentioned in the context is to serve as a preliminary agreement or understanding between the parties involved, which will remain in effect until a definitive written agreement is executed and delivered by each of the parties. Additionally, the document outlines an obligation to keep its contents confidential in accordance with a previously entered Confidentiality Agreement related to the subject matter of the document.']}"
            ]
          },
          "metadata": {},
          "execution_count": 173
        }
      ]
    },
    {
      "cell_type": "code",
      "source": [
        "# extract the question from eval_dataset\n",
        "\n",
        "questionss = eval_dataset[\"question\"]\n",
        "questionss"
      ],
      "metadata": {
        "colab": {
          "base_uri": "https://localhost:8080/"
        },
        "id": "xpAjdfCH4N2J",
        "outputId": "d932f6a6-b405-478d-816a-657ccba9ade0"
      },
      "execution_count": 174,
      "outputs": [
        {
          "output_type": "execute_result",
          "data": {
            "text/plain": [
              "['What is the purpose of the document?',\n",
              " 'What is the purpose of the document mentioned in the context?',\n",
              " 'What is the content of the provided context?',\n",
              " 'What is the purpose of the document?',\n",
              " 'What does Section 3.16 of the contract discuss?',\n",
              " 'What is the context about?',\n",
              " 'What is the content of Section 6.02?',\n",
              " 'What is the content of page 2 in the provided context?',\n",
              " \"What are the provisions concerning the Sellers' Representative?\",\n",
              " 'What is the content of page 4 of the document?']"
            ]
          },
          "metadata": {},
          "execution_count": 174
        }
      ]
    },
    {
      "cell_type": "markdown",
      "source": [
        "RAG's answer for the generated **questions**"
      ],
      "metadata": {
        "id": "k3YsaTy8ange"
      }
    },
    {
      "cell_type": "code",
      "source": [
        "eval_data = eval_dataset.to_csv(\"groundtruth_eval_dataset.csv\")"
      ],
      "metadata": {
        "colab": {
          "base_uri": "https://localhost:8080/",
          "height": 49,
          "referenced_widgets": [
            "00932825ff8547d9b2819006fc22ff11",
            "167571b1dc1a49c0b3a72fad6f5a05b5",
            "8db6cc01606444958c681fbd0f4ecb62",
            "08833e4844ca4367aea1311b7b0c3422",
            "8f145404aeea4df595493b06b3968576",
            "5ea0131f95ca44d88cea3e2c05c52652",
            "751a0524b7ff4922b7a5768def7093a0",
            "ddb6c689f01d46a1b5c720f61a37ddac",
            "8d4036004abe4b70ae7ffd8290ac01db",
            "19c3ebbbaaac4f61b96af9f71048abee",
            "26563490c3f945bfa7be50abfb4aae80"
          ]
        },
        "id": "9t7ukEdY5wbo",
        "outputId": "0010fb48-8c8e-4374-9029-d8efedd5359f"
      },
      "execution_count": 175,
      "outputs": [
        {
          "output_type": "display_data",
          "data": {
            "text/plain": [
              "Creating CSV from Arrow format:   0%|          | 0/1 [00:00<?, ?ba/s]"
            ],
            "application/vnd.jupyter.widget-view+json": {
              "version_major": 2,
              "version_minor": 0,
              "model_id": "00932825ff8547d9b2819006fc22ff11"
            }
          },
          "metadata": {}
        }
      ]
    },
    {
      "cell_type": "code",
      "source": [
        "import pandas as pd\n",
        "\n",
        "# Read the CSV file\n",
        "df = pd.read_csv(\"groundtruth_eval_dataset.csv\")\n",
        "\n",
        "\n",
        "\n",
        "\n",
        "df = df.rename(columns={'ground_truth':'ground_thruths','context':'contexts'})\n",
        "# Process the data\n",
        "# Assuming you have a list of answers called answers_list\n",
        "df['answer'] = answer1  # Replace 'answers_list' with your actual list of answers\n",
        "\n",
        "dtype={'contexts':str}\n",
        "df['contexts']=df['contexts'].tolist()\n",
        "# Write the processed data to a new CSV file\n",
        "df.to_csv(\"ragas_data.csv\", index=False)"
      ],
      "metadata": {
        "id": "iIUSzuov6mOz"
      },
      "execution_count": 176,
      "outputs": []
    },
    {
      "cell_type": "code",
      "source": [
        "df = pd.read_csv('ragas_data.csv')\n",
        "df.head()"
      ],
      "metadata": {
        "colab": {
          "base_uri": "https://localhost:8080/",
          "height": 293
        },
        "id": "ZPs1lLHQ67Ez",
        "outputId": "b732e93c-691c-4cdf-8b21-4e39eeaf39db"
      },
      "execution_count": 177,
      "outputs": [
        {
          "output_type": "execute_result",
          "data": {
            "text/plain": [
              "                                            question  \\\n",
              "0               What is the purpose of the document?   \n",
              "1  What is the purpose of the document mentioned ...   \n",
              "2       What is the content of the provided context?   \n",
              "3               What is the purpose of the document?   \n",
              "4    What does Section 3.16 of the contract discuss?   \n",
              "\n",
              "                                            contexts  \\\n",
              "0  [R&G\\nDraft\\n12.__.2021]\\nSTOCK\\nPURCHASE\\nAGR...   \n",
              "1  until\\na\\ndefinitive\\nwritten\\nagreement\\nis\\n...   \n",
              "2  TABLE\\nOF\\nCONTENTS\\nARTICLE\\nI\\nDEFINITIONS;\\...   \n",
              "3  Section\\n2.08\\nEscrow\\n19\\nARTICLE\\nIII\\nREPRE...   \n",
              "4  Section\\n3.11\\nIntellectual\\nProperty\\n26\\nSec...   \n",
              "\n",
              "                                      ground_thruths  \\\n",
              "0  The purpose of the document is to outline the ...   \n",
              "1  The purpose of the document mentioned in the c...   \n",
              "2  The content of the provided context appears to...   \n",
              "3  The purpose of the document appears to be an a...   \n",
              "4  Section 3.16 of the contract discusses 'Contra...   \n",
              "\n",
              "                                              answer  \n",
              "0  Answer: The purpose of the document is to faci...  \n",
              "1  Answer: The purpose of the document in the pro...  \n",
              "2  Answer: The purpose of the document provided i...  \n",
              "3  The context provided is a legal document relat...  \n",
              "4  Answer: The content of Section 3.16 in the pro...  "
            ],
            "text/html": [
              "\n",
              "  <div id=\"df-2d041a4e-786d-4b07-bf85-8c74049ed0f0\" class=\"colab-df-container\">\n",
              "    <div>\n",
              "<style scoped>\n",
              "    .dataframe tbody tr th:only-of-type {\n",
              "        vertical-align: middle;\n",
              "    }\n",
              "\n",
              "    .dataframe tbody tr th {\n",
              "        vertical-align: top;\n",
              "    }\n",
              "\n",
              "    .dataframe thead th {\n",
              "        text-align: right;\n",
              "    }\n",
              "</style>\n",
              "<table border=\"1\" class=\"dataframe\">\n",
              "  <thead>\n",
              "    <tr style=\"text-align: right;\">\n",
              "      <th></th>\n",
              "      <th>question</th>\n",
              "      <th>contexts</th>\n",
              "      <th>ground_thruths</th>\n",
              "      <th>answer</th>\n",
              "    </tr>\n",
              "  </thead>\n",
              "  <tbody>\n",
              "    <tr>\n",
              "      <th>0</th>\n",
              "      <td>What is the purpose of the document?</td>\n",
              "      <td>[R&amp;G\\nDraft\\n12.__.2021]\\nSTOCK\\nPURCHASE\\nAGR...</td>\n",
              "      <td>The purpose of the document is to outline the ...</td>\n",
              "      <td>Answer: The purpose of the document is to faci...</td>\n",
              "    </tr>\n",
              "    <tr>\n",
              "      <th>1</th>\n",
              "      <td>What is the purpose of the document mentioned ...</td>\n",
              "      <td>until\\na\\ndefinitive\\nwritten\\nagreement\\nis\\n...</td>\n",
              "      <td>The purpose of the document mentioned in the c...</td>\n",
              "      <td>Answer: The purpose of the document in the pro...</td>\n",
              "    </tr>\n",
              "    <tr>\n",
              "      <th>2</th>\n",
              "      <td>What is the content of the provided context?</td>\n",
              "      <td>TABLE\\nOF\\nCONTENTS\\nARTICLE\\nI\\nDEFINITIONS;\\...</td>\n",
              "      <td>The content of the provided context appears to...</td>\n",
              "      <td>Answer: The purpose of the document provided i...</td>\n",
              "    </tr>\n",
              "    <tr>\n",
              "      <th>3</th>\n",
              "      <td>What is the purpose of the document?</td>\n",
              "      <td>Section\\n2.08\\nEscrow\\n19\\nARTICLE\\nIII\\nREPRE...</td>\n",
              "      <td>The purpose of the document appears to be an a...</td>\n",
              "      <td>The context provided is a legal document relat...</td>\n",
              "    </tr>\n",
              "    <tr>\n",
              "      <th>4</th>\n",
              "      <td>What does Section 3.16 of the contract discuss?</td>\n",
              "      <td>Section\\n3.11\\nIntellectual\\nProperty\\n26\\nSec...</td>\n",
              "      <td>Section 3.16 of the contract discusses 'Contra...</td>\n",
              "      <td>Answer: The content of Section 3.16 in the pro...</td>\n",
              "    </tr>\n",
              "  </tbody>\n",
              "</table>\n",
              "</div>\n",
              "    <div class=\"colab-df-buttons\">\n",
              "\n",
              "  <div class=\"colab-df-container\">\n",
              "    <button class=\"colab-df-convert\" onclick=\"convertToInteractive('df-2d041a4e-786d-4b07-bf85-8c74049ed0f0')\"\n",
              "            title=\"Convert this dataframe to an interactive table.\"\n",
              "            style=\"display:none;\">\n",
              "\n",
              "  <svg xmlns=\"http://www.w3.org/2000/svg\" height=\"24px\" viewBox=\"0 -960 960 960\">\n",
              "    <path d=\"M120-120v-720h720v720H120Zm60-500h600v-160H180v160Zm220 220h160v-160H400v160Zm0 220h160v-160H400v160ZM180-400h160v-160H180v160Zm440 0h160v-160H620v160ZM180-180h160v-160H180v160Zm440 0h160v-160H620v160Z\"/>\n",
              "  </svg>\n",
              "    </button>\n",
              "\n",
              "  <style>\n",
              "    .colab-df-container {\n",
              "      display:flex;\n",
              "      gap: 12px;\n",
              "    }\n",
              "\n",
              "    .colab-df-convert {\n",
              "      background-color: #E8F0FE;\n",
              "      border: none;\n",
              "      border-radius: 50%;\n",
              "      cursor: pointer;\n",
              "      display: none;\n",
              "      fill: #1967D2;\n",
              "      height: 32px;\n",
              "      padding: 0 0 0 0;\n",
              "      width: 32px;\n",
              "    }\n",
              "\n",
              "    .colab-df-convert:hover {\n",
              "      background-color: #E2EBFA;\n",
              "      box-shadow: 0px 1px 2px rgba(60, 64, 67, 0.3), 0px 1px 3px 1px rgba(60, 64, 67, 0.15);\n",
              "      fill: #174EA6;\n",
              "    }\n",
              "\n",
              "    .colab-df-buttons div {\n",
              "      margin-bottom: 4px;\n",
              "    }\n",
              "\n",
              "    [theme=dark] .colab-df-convert {\n",
              "      background-color: #3B4455;\n",
              "      fill: #D2E3FC;\n",
              "    }\n",
              "\n",
              "    [theme=dark] .colab-df-convert:hover {\n",
              "      background-color: #434B5C;\n",
              "      box-shadow: 0px 1px 3px 1px rgba(0, 0, 0, 0.15);\n",
              "      filter: drop-shadow(0px 1px 2px rgba(0, 0, 0, 0.3));\n",
              "      fill: #FFFFFF;\n",
              "    }\n",
              "  </style>\n",
              "\n",
              "    <script>\n",
              "      const buttonEl =\n",
              "        document.querySelector('#df-2d041a4e-786d-4b07-bf85-8c74049ed0f0 button.colab-df-convert');\n",
              "      buttonEl.style.display =\n",
              "        google.colab.kernel.accessAllowed ? 'block' : 'none';\n",
              "\n",
              "      async function convertToInteractive(key) {\n",
              "        const element = document.querySelector('#df-2d041a4e-786d-4b07-bf85-8c74049ed0f0');\n",
              "        const dataTable =\n",
              "          await google.colab.kernel.invokeFunction('convertToInteractive',\n",
              "                                                    [key], {});\n",
              "        if (!dataTable) return;\n",
              "\n",
              "        const docLinkHtml = 'Like what you see? Visit the ' +\n",
              "          '<a target=\"_blank\" href=https://colab.research.google.com/notebooks/data_table.ipynb>data table notebook</a>'\n",
              "          + ' to learn more about interactive tables.';\n",
              "        element.innerHTML = '';\n",
              "        dataTable['output_type'] = 'display_data';\n",
              "        await google.colab.output.renderOutput(dataTable, element);\n",
              "        const docLink = document.createElement('div');\n",
              "        docLink.innerHTML = docLinkHtml;\n",
              "        element.appendChild(docLink);\n",
              "      }\n",
              "    </script>\n",
              "  </div>\n",
              "\n",
              "\n",
              "<div id=\"df-2c5fda34-a7be-4de9-b36a-4df0164bbd2c\">\n",
              "  <button class=\"colab-df-quickchart\" onclick=\"quickchart('df-2c5fda34-a7be-4de9-b36a-4df0164bbd2c')\"\n",
              "            title=\"Suggest charts\"\n",
              "            style=\"display:none;\">\n",
              "\n",
              "<svg xmlns=\"http://www.w3.org/2000/svg\" height=\"24px\"viewBox=\"0 0 24 24\"\n",
              "     width=\"24px\">\n",
              "    <g>\n",
              "        <path d=\"M19 3H5c-1.1 0-2 .9-2 2v14c0 1.1.9 2 2 2h14c1.1 0 2-.9 2-2V5c0-1.1-.9-2-2-2zM9 17H7v-7h2v7zm4 0h-2V7h2v10zm4 0h-2v-4h2v4z\"/>\n",
              "    </g>\n",
              "</svg>\n",
              "  </button>\n",
              "\n",
              "<style>\n",
              "  .colab-df-quickchart {\n",
              "      --bg-color: #E8F0FE;\n",
              "      --fill-color: #1967D2;\n",
              "      --hover-bg-color: #E2EBFA;\n",
              "      --hover-fill-color: #174EA6;\n",
              "      --disabled-fill-color: #AAA;\n",
              "      --disabled-bg-color: #DDD;\n",
              "  }\n",
              "\n",
              "  [theme=dark] .colab-df-quickchart {\n",
              "      --bg-color: #3B4455;\n",
              "      --fill-color: #D2E3FC;\n",
              "      --hover-bg-color: #434B5C;\n",
              "      --hover-fill-color: #FFFFFF;\n",
              "      --disabled-bg-color: #3B4455;\n",
              "      --disabled-fill-color: #666;\n",
              "  }\n",
              "\n",
              "  .colab-df-quickchart {\n",
              "    background-color: var(--bg-color);\n",
              "    border: none;\n",
              "    border-radius: 50%;\n",
              "    cursor: pointer;\n",
              "    display: none;\n",
              "    fill: var(--fill-color);\n",
              "    height: 32px;\n",
              "    padding: 0;\n",
              "    width: 32px;\n",
              "  }\n",
              "\n",
              "  .colab-df-quickchart:hover {\n",
              "    background-color: var(--hover-bg-color);\n",
              "    box-shadow: 0 1px 2px rgba(60, 64, 67, 0.3), 0 1px 3px 1px rgba(60, 64, 67, 0.15);\n",
              "    fill: var(--button-hover-fill-color);\n",
              "  }\n",
              "\n",
              "  .colab-df-quickchart-complete:disabled,\n",
              "  .colab-df-quickchart-complete:disabled:hover {\n",
              "    background-color: var(--disabled-bg-color);\n",
              "    fill: var(--disabled-fill-color);\n",
              "    box-shadow: none;\n",
              "  }\n",
              "\n",
              "  .colab-df-spinner {\n",
              "    border: 2px solid var(--fill-color);\n",
              "    border-color: transparent;\n",
              "    border-bottom-color: var(--fill-color);\n",
              "    animation:\n",
              "      spin 1s steps(1) infinite;\n",
              "  }\n",
              "\n",
              "  @keyframes spin {\n",
              "    0% {\n",
              "      border-color: transparent;\n",
              "      border-bottom-color: var(--fill-color);\n",
              "      border-left-color: var(--fill-color);\n",
              "    }\n",
              "    20% {\n",
              "      border-color: transparent;\n",
              "      border-left-color: var(--fill-color);\n",
              "      border-top-color: var(--fill-color);\n",
              "    }\n",
              "    30% {\n",
              "      border-color: transparent;\n",
              "      border-left-color: var(--fill-color);\n",
              "      border-top-color: var(--fill-color);\n",
              "      border-right-color: var(--fill-color);\n",
              "    }\n",
              "    40% {\n",
              "      border-color: transparent;\n",
              "      border-right-color: var(--fill-color);\n",
              "      border-top-color: var(--fill-color);\n",
              "    }\n",
              "    60% {\n",
              "      border-color: transparent;\n",
              "      border-right-color: var(--fill-color);\n",
              "    }\n",
              "    80% {\n",
              "      border-color: transparent;\n",
              "      border-right-color: var(--fill-color);\n",
              "      border-bottom-color: var(--fill-color);\n",
              "    }\n",
              "    90% {\n",
              "      border-color: transparent;\n",
              "      border-bottom-color: var(--fill-color);\n",
              "    }\n",
              "  }\n",
              "</style>\n",
              "\n",
              "  <script>\n",
              "    async function quickchart(key) {\n",
              "      const quickchartButtonEl =\n",
              "        document.querySelector('#' + key + ' button');\n",
              "      quickchartButtonEl.disabled = true;  // To prevent multiple clicks.\n",
              "      quickchartButtonEl.classList.add('colab-df-spinner');\n",
              "      try {\n",
              "        const charts = await google.colab.kernel.invokeFunction(\n",
              "            'suggestCharts', [key], {});\n",
              "      } catch (error) {\n",
              "        console.error('Error during call to suggestCharts:', error);\n",
              "      }\n",
              "      quickchartButtonEl.classList.remove('colab-df-spinner');\n",
              "      quickchartButtonEl.classList.add('colab-df-quickchart-complete');\n",
              "    }\n",
              "    (() => {\n",
              "      let quickchartButtonEl =\n",
              "        document.querySelector('#df-2c5fda34-a7be-4de9-b36a-4df0164bbd2c button');\n",
              "      quickchartButtonEl.style.display =\n",
              "        google.colab.kernel.accessAllowed ? 'block' : 'none';\n",
              "    })();\n",
              "  </script>\n",
              "</div>\n",
              "\n",
              "    </div>\n",
              "  </div>\n"
            ],
            "application/vnd.google.colaboratory.intrinsic+json": {
              "type": "dataframe",
              "variable_name": "df",
              "summary": "{\n  \"name\": \"df\",\n  \"rows\": 10,\n  \"fields\": [\n    {\n      \"column\": \"question\",\n      \"properties\": {\n        \"dtype\": \"string\",\n        \"num_unique_values\": 9,\n        \"samples\": [\n          \"What are the provisions concerning the Sellers' Representative?\",\n          \"What is the purpose of the document mentioned in the context?\",\n          \"What is the content of Section 6.02?\"\n        ],\n        \"semantic_type\": \"\",\n        \"description\": \"\"\n      }\n    },\n    {\n      \"column\": \"contexts\",\n      \"properties\": {\n        \"dtype\": \"string\",\n        \"num_unique_values\": 10,\n        \"samples\": [\n          \"Section\\n9.02\\nSuccession\\nand\\nAssignment;\\nNo\\nThird-Party\\nBeneficiaries\\n46\\nSection\\n9.03\\nAmendments\\nand\\nWaivers\\n46\\nSection\\n9.04\\nProvisions\\nConcerning\\nthe\\nSellers\\u2019\\nRepresentative\\n47\\nSection\\n9.05\\nEntire\\nAgreement\\n48\\nSection\\n9.06\\nCounterparts;\\nFacsimile\\nSignature\\n48\\nSection\\n9.07\\nSeverability\\n49\\nSection\\n9.08\\nGoverning\\nLaw\\n49\\nSection\\n9.09\\nJurisdiction;\\nVenue;\\nService\\nof\\nProcess.\\n49\\nSection\\n9.10\\nSpecific\\nPerformance\\n50\\nSection\\n9.11\\nWaiver\\nof\\nJury\\nTrial\\n50\\nSection\\n9.12\\nNo\\nRecourse\\n50\\n-\\n3\\n-\\n112923184_5\",\n          \"until\\na\\ndefinitive\\nwritten\\nagreement\\nis\\nexecuted\\nand\\ndelivered\\nby\\neach\\nof\\nthe\\nparties \\nhereto.\\nThis\\ndocument\\nshall\\nbe\\nkept\\nconfidential\\npursuant\\nto\\nthe\\nterms\\nof\\nthe\\nConfidentiality \\nAgreement\\nentered\\ninto\\nby\\nthe\\nparties\\nand,\\nif\\napplicable,\\nits\\naffiliates\\nwith\\nrespect\\nto\\nthe\\nsubject \\nmatter\\nhereof.]\\n112923184_5\",\n          \"Section\\n3.19\\nLabor\\nMatters\\n37\\nSection\\n3.20\\nLitigation;\\nGovernment\\nOrders\\n37\\nSection\\n3.21\\nInsurance\\n38\\nSection\\n3.22\\nNo\\nBrokers\\n38\\nSection\\n3.23\\nFull\\nDisclosure\\n38\\nARTICLE\\nIV\\nINDIVIDUAL\\nREPRESENT ATIONS\\nAND\\nWARRANTIES\\nOF\\nTHE \\nSELLERS.\\n38\\nSection\\n4.01\\nOrganization\\n39\\nSection\\n4.02\\nPower\\nand\\nAuthorization\\n39\\nSection\\n4.03\\nAuthorization\\nof\\nGovernmental\\nAuthorities\\n39\\nSection\\n4.04\\nNoncontravention\\n39\\nSection\\n4.05\\nTitle\\n39\\nSection\\n4.06\\nNo\\nBrokers\\n40\\nARTICLE\\nV\\nREPRESENT ATIONS\\nAND\\nWARRANTIES\\nOF\\nTHE\\nBUYER.\"\n        ],\n        \"semantic_type\": \"\",\n        \"description\": \"\"\n      }\n    },\n    {\n      \"column\": \"ground_thruths\",\n      \"properties\": {\n        \"dtype\": \"string\",\n        \"num_unique_values\": 10,\n        \"samples\": [\n          \"The provided context does not contain the specific provisions concerning the Sellers' Representative. It only indicates that such provisions exist in Section 9.04 of the document referenced. To provide an accurate response regarding the Sellers' Representative, the actual text from Section 9.04 would be required.\",\n          \"The purpose of the document mentioned in the context is to serve as a preliminary agreement or understanding between the parties involved, which will remain in effect until a definitive written agreement is executed and delivered by each of the parties. Additionally, the document outlines an obligation to keep its contents confidential in accordance with a previously entered Confidentiality Agreement related to the subject matter of the document.\",\n          \"The context appears to be an excerpt from a legal document, likely a purchase agreement or a similar contract, which outlines various sections that pertain to representations, warranties, and other legal matters relevant to a transaction between a buyer and a seller. The sections mentioned include labor matters, litigation and government orders, insurance, broker involvement, full disclosure, and individual representations and warranties of the sellers and the buyer. These sections are standard in such contracts and are designed to provide clear information about the responsibilities, risks, and the legal standing of both parties involved in the transaction.\"\n        ],\n        \"semantic_type\": \"\",\n        \"description\": \"\"\n      }\n    },\n    {\n      \"column\": \"answer\",\n      \"properties\": {\n        \"dtype\": \"string\",\n        \"num_unique_values\": 10,\n        \"samples\": [\n          \"Sections mentioned in the provided context are:\\n1. Section 3.11 - Intellectual Property\\n2. Section 3.12 - Legal Compliance; Illegal Payments; Permits\\n3. Section 3.13 - Tax Matters\\n4. Section 3.14 - Employee Benefit Plans\\n5. Section 3.15 - Environmental Matters\\n6. Section 3.16 - Contracts\\n7. Section 3.17 - Related Party Transactions\\n8. Section 3.18 - Customers and Suppliers\\n9. Section 3.19 - Labor Matters\\n10. Section 3.20 - Litigation; Government Orders\\n11. Section 3.21 - Insurance\\n12. Section 3.22 - No Brokers\\n13. Section 3.23 - Full Disclosure\\n14. Section 4.01 - Organization\\n15. Section 4.02 - Power and Authorization\\n16. Section 4.03 - Authorization of Governmental Authorities\\n17. Section 4.04 - Noncontravention\\n18. Section 4.05 - Title\\n19. Section 4.06 - No Brokers\\n20. Section IV.08 - Governing Law\\n\\nThese are the sections mentioned in the provided context.\",\n          \"Answer: The purpose of the document in the provided context is to outline an agreement between parties regarding various legal matters, contracts, and the jurisdiction in which the agreement will be enforced. It includes provisions related to service of process, confidentiality, employees and benefits, contractual obligations, environmental matters, tax matters, governing law, and dispute resolution. The document aims to establish the terms and conditions under which the parties will conduct business and handle any potential disputes that may arise.\",\n          \"The context provided is a document related to a contract, possibly involving multiple parties and various legal terms and conditions. The document contains information about legal requirements, contractual obligations, jurisdiction, venue, governing laws, and other relevant legal aspects related to the contract. It also includes details about labor matters, intellectual property rights, financial statements, and compliance with laws and regulations.\"\n        ],\n        \"semantic_type\": \"\",\n        \"description\": \"\"\n      }\n    }\n  ]\n}"
            }
          },
          "metadata": {},
          "execution_count": 177
        }
      ]
    },
    {
      "cell_type": "code",
      "source": [
        "type(df['question'])"
      ],
      "metadata": {
        "colab": {
          "base_uri": "https://localhost:8080/",
          "height": 204
        },
        "id": "tg-7h_D_l2YS",
        "outputId": "c33b97e2-5ac3-4aee-8f3a-f2e3061e68c5"
      },
      "execution_count": 178,
      "outputs": [
        {
          "output_type": "execute_result",
          "data": {
            "text/plain": [
              "pandas.core.series.Series"
            ],
            "text/html": [
              "<div style=\"max-width:800px; border: 1px solid var(--colab-border-color);\"><style>\n",
              "      pre.function-repr-contents {\n",
              "        overflow-x: auto;\n",
              "        padding: 8px 12px;\n",
              "        max-height: 500px;\n",
              "      }\n",
              "\n",
              "      pre.function-repr-contents.function-repr-contents-collapsed {\n",
              "        cursor: pointer;\n",
              "        max-height: 100px;\n",
              "      }\n",
              "    </style>\n",
              "    <pre style=\"white-space: initial; background:\n",
              "         var(--colab-secondary-surface-color); padding: 8px 12px;\n",
              "         border-bottom: 1px solid var(--colab-border-color);\"><b>pandas.core.series.Series</b><br/>def __init__(data=None, index=None, dtype: Dtype | None=None, name=None, copy: bool=False, fastpath: bool=False) -&gt; None</pre><pre class=\"function-repr-contents function-repr-contents-collapsed\" style=\"\"><a class=\"filepath\" style=\"display:none\" href=\"#\">/usr/local/lib/python3.10/dist-packages/pandas/core/series.py</a>One-dimensional ndarray with axis labels (including time series).\n",
              "\n",
              "Labels need not be unique but must be a hashable type. The object\n",
              "supports both integer- and label-based indexing and provides a host of\n",
              "methods for performing operations involving the index. Statistical\n",
              "methods from ndarray have been overridden to automatically exclude\n",
              "missing data (currently represented as NaN).\n",
              "\n",
              "Operations between Series (+, -, /, \\*, \\*\\*) align values based on their\n",
              "associated index values-- they need not be the same length. The result\n",
              "index will be the sorted union of the two indexes.\n",
              "\n",
              "Parameters\n",
              "----------\n",
              "data : array-like, Iterable, dict, or scalar value\n",
              "    Contains data stored in Series. If data is a dict, argument order is\n",
              "    maintained.\n",
              "index : array-like or Index (1d)\n",
              "    Values must be hashable and have the same length as `data`.\n",
              "    Non-unique index values are allowed. Will default to\n",
              "    RangeIndex (0, 1, 2, ..., n) if not provided. If data is dict-like\n",
              "    and index is None, then the keys in the data are used as the index. If the\n",
              "    index is not None, the resulting Series is reindexed with the index values.\n",
              "dtype : str, numpy.dtype, or ExtensionDtype, optional\n",
              "    Data type for the output Series. If not specified, this will be\n",
              "    inferred from `data`.\n",
              "    See the :ref:`user guide &lt;basics.dtypes&gt;` for more usages.\n",
              "name : str, optional\n",
              "    The name to give to the Series.\n",
              "copy : bool, default False\n",
              "    Copy input data. Only affects Series or 1d ndarray input. See examples.\n",
              "\n",
              "Notes\n",
              "-----\n",
              "Please reference the :ref:`User Guide &lt;basics.series&gt;` for more information.\n",
              "\n",
              "Examples\n",
              "--------\n",
              "Constructing Series from a dictionary with an Index specified\n",
              "\n",
              "&gt;&gt;&gt; d = {&#x27;a&#x27;: 1, &#x27;b&#x27;: 2, &#x27;c&#x27;: 3}\n",
              "&gt;&gt;&gt; ser = pd.Series(data=d, index=[&#x27;a&#x27;, &#x27;b&#x27;, &#x27;c&#x27;])\n",
              "&gt;&gt;&gt; ser\n",
              "a   1\n",
              "b   2\n",
              "c   3\n",
              "dtype: int64\n",
              "\n",
              "The keys of the dictionary match with the Index values, hence the Index\n",
              "values have no effect.\n",
              "\n",
              "&gt;&gt;&gt; d = {&#x27;a&#x27;: 1, &#x27;b&#x27;: 2, &#x27;c&#x27;: 3}\n",
              "&gt;&gt;&gt; ser = pd.Series(data=d, index=[&#x27;x&#x27;, &#x27;y&#x27;, &#x27;z&#x27;])\n",
              "&gt;&gt;&gt; ser\n",
              "x   NaN\n",
              "y   NaN\n",
              "z   NaN\n",
              "dtype: float64\n",
              "\n",
              "Note that the Index is first build with the keys from the dictionary.\n",
              "After this the Series is reindexed with the given Index values, hence we\n",
              "get all NaN as a result.\n",
              "\n",
              "Constructing Series from a list with `copy=False`.\n",
              "\n",
              "&gt;&gt;&gt; r = [1, 2]\n",
              "&gt;&gt;&gt; ser = pd.Series(r, copy=False)\n",
              "&gt;&gt;&gt; ser.iloc[0] = 999\n",
              "&gt;&gt;&gt; r\n",
              "[1, 2]\n",
              "&gt;&gt;&gt; ser\n",
              "0    999\n",
              "1      2\n",
              "dtype: int64\n",
              "\n",
              "Due to input data type the Series has a `copy` of\n",
              "the original data even though `copy=False`, so\n",
              "the data is unchanged.\n",
              "\n",
              "Constructing Series from a 1d ndarray with `copy=False`.\n",
              "\n",
              "&gt;&gt;&gt; r = np.array([1, 2])\n",
              "&gt;&gt;&gt; ser = pd.Series(r, copy=False)\n",
              "&gt;&gt;&gt; ser.iloc[0] = 999\n",
              "&gt;&gt;&gt; r\n",
              "array([999,   2])\n",
              "&gt;&gt;&gt; ser\n",
              "0    999\n",
              "1      2\n",
              "dtype: int64\n",
              "\n",
              "Due to input data type the Series has a `view` on\n",
              "the original data, so\n",
              "the data is changed as well.</pre>\n",
              "      <script>\n",
              "      if (google.colab.kernel.accessAllowed && google.colab.files && google.colab.files.view) {\n",
              "        for (const element of document.querySelectorAll('.filepath')) {\n",
              "          element.style.display = 'block'\n",
              "          element.onclick = (event) => {\n",
              "            event.preventDefault();\n",
              "            event.stopPropagation();\n",
              "            google.colab.files.view(element.textContent, 216);\n",
              "          };\n",
              "        }\n",
              "      }\n",
              "      for (const element of document.querySelectorAll('.function-repr-contents')) {\n",
              "        element.onclick = (event) => {\n",
              "          event.preventDefault();\n",
              "          event.stopPropagation();\n",
              "          element.classList.toggle('function-repr-contents-collapsed');\n",
              "        };\n",
              "      }\n",
              "      </script>\n",
              "      </div>"
            ]
          },
          "metadata": {},
          "execution_count": 178
        }
      ]
    },
    {
      "cell_type": "code",
      "source": [
        "from datasets import Dataset\n",
        "\n",
        "\n",
        "\n",
        "ragas_dataset = Dataset.from_csv('ragas_data.csv')"
      ],
      "metadata": {
        "id": "Zx1WJddXXXjk",
        "colab": {
          "base_uri": "https://localhost:8080/",
          "height": 49,
          "referenced_widgets": [
            "6cb9b94de4da442fbf0040f5f15c1368",
            "44ce2fdd4a4b4404a5574ed6f56ea0c7",
            "d49f43ae30be44078570816a0348ed9f",
            "b5e29547a0d54d3a9f8d20a5a679d7cd",
            "a0cc073b05e142d189884ef0e252dcb0",
            "2e097e33d3394642980cb18d858aad04",
            "774db141320a48bd8745137dc48ce3f4",
            "9f43a5a8af2d4c4c985ba87212524bbb",
            "4d93f916102c4d28ac6ab5787a41665e",
            "ce48da3e7492444c90263d85435d1529",
            "3e1e2e335ac849df8f6e69dd74c77cbf"
          ]
        },
        "outputId": "7d6646e0-3a6d-4b76-dc28-f2760ea31149"
      },
      "execution_count": 179,
      "outputs": [
        {
          "output_type": "display_data",
          "data": {
            "text/plain": [
              "Generating train split: 0 examples [00:00, ? examples/s]"
            ],
            "application/vnd.jupyter.widget-view+json": {
              "version_major": 2,
              "version_minor": 0,
              "model_id": "6cb9b94de4da442fbf0040f5f15c1368"
            }
          },
          "metadata": {}
        }
      ]
    },
    {
      "cell_type": "code",
      "source": [
        "ragas_dataset"
      ],
      "metadata": {
        "colab": {
          "base_uri": "https://localhost:8080/"
        },
        "id": "QWxVq-cqYvHs",
        "outputId": "2cba5152-5d80-4a28-d307-93834a028bb5"
      },
      "execution_count": 180,
      "outputs": [
        {
          "output_type": "execute_result",
          "data": {
            "text/plain": [
              "Dataset({\n",
              "    features: ['question', 'contexts', 'ground_thruths', 'answer'],\n",
              "    num_rows: 10\n",
              "})"
            ]
          },
          "metadata": {},
          "execution_count": 180
        }
      ]
    },
    {
      "cell_type": "markdown",
      "source": [
        "## Evaluation Using RAGAS"
      ],
      "metadata": {
        "id": "t6ArrVUM_ECA"
      }
    },
    {
      "cell_type": "code",
      "source": [
        "from ragas.metrics import (\n",
        "    answer_relevancy,\n",
        "    faithfulness,\n",
        "    context_recall,\n",
        "    context_precision,\n",
        "    context_relevancy,\n",
        "    answer_correctness,\n",
        "    answer_similarity\n",
        ")"
      ],
      "metadata": {
        "id": "LYfMEaaODWV1"
      },
      "execution_count": 181,
      "outputs": []
    },
    {
      "cell_type": "code",
      "source": [
        "from ragas import evaluate\n",
        "def evaluate_ragas_dataset(ragas_dataset):\n",
        "  result = evaluate(\n",
        "    ragas_dataset,\n",
        "    metrics=[\n",
        "        context_precision,\n",
        "        faithfulness,\n",
        "        answer_relevancy,\n",
        "        context_recall,\n",
        "        context_relevancy,\n",
        "        answer_correctness,\n",
        "        answer_similarity\n",
        "    ],\n",
        "  )\n",
        "  return result"
      ],
      "metadata": {
        "id": "sDsHdPxuYAYO"
      },
      "execution_count": 182,
      "outputs": []
    },
    {
      "cell_type": "code",
      "source": [
        "basic_qa_ragas_dataset.to_csv(\"basic_qa_ragas_dataset.csv\")"
      ],
      "metadata": {
        "colab": {
          "base_uri": "https://localhost:8080/",
          "height": 66,
          "referenced_widgets": [
            "89a48ce522db4cf081c7180f42f9ea9d",
            "fe30627e6a1f456284d98a556af84e2c",
            "34d67e4be67946409433857b9e3982ca",
            "24c969f9bcdc4a22909796f79e7e5a74",
            "6e832ec0502247f7a0dc7f57a8832347",
            "884a59e9b1124d77865491b31873dc64",
            "8e03a8cb1775432cb3eb7142f1dd4474",
            "2e29b762b534401cacb58983bd43d442",
            "4d616cd46cf442268efeaabc4285e8eb",
            "7c9eb472f4ad40d1b78b32be861e2da7",
            "5cff315930d445b29cbffec32f4bdea0"
          ]
        },
        "id": "H_Xk00Sks4co",
        "outputId": "7de9889a-6178-4dc5-b3e8-9cc2a3a516c3"
      },
      "execution_count": 183,
      "outputs": [
        {
          "output_type": "display_data",
          "data": {
            "text/plain": [
              "Creating CSV from Arrow format:   0%|          | 0/1 [00:00<?, ?ba/s]"
            ],
            "application/vnd.jupyter.widget-view+json": {
              "version_major": 2,
              "version_minor": 0,
              "model_id": "89a48ce522db4cf081c7180f42f9ea9d"
            }
          },
          "metadata": {}
        },
        {
          "output_type": "execute_result",
          "data": {
            "text/plain": [
              "245493"
            ]
          },
          "metadata": {},
          "execution_count": 183
        }
      ]
    },
    {
      "cell_type": "code",
      "source": [
        "basic_qa_result = evaluate_ragas_dataset(basic_qa_ragas_dataset)"
      ],
      "metadata": {
        "colab": {
          "base_uri": "https://localhost:8080/",
          "height": 86,
          "referenced_widgets": [
            "ff7fa0d2f9d64de293ba60719b676237",
            "ee8ba9f03b774b7bae866e27841d9d5e",
            "7ec1ccc3451b4323b4ca07f8267149b1",
            "23884b5ea60d4bcf8d693bfb11074997",
            "40c9acd19ec340a18fc7181b0e3cf909",
            "3e9d09c0db0a418cbe69aa62aafac452",
            "542cc7b938cc40c1809c6ec70710d415",
            "92a8223a8aec4bf2b53278bbdfff7d7f",
            "8101615165af4864aa33ff149957e30b",
            "9db4fbf25f914714b394725dd945d758",
            "49e01ea881c64e1ab4a46e9de686fabd"
          ]
        },
        "id": "ATGb4MCPlsb4",
        "outputId": "a3435f19-0f07-4b52-bb10-35a0392c696d"
      },
      "execution_count": 184,
      "outputs": [
        {
          "output_type": "stream",
          "name": "stderr",
          "text": [
            "WARNING:ragas.validation:passing column names as 'ground_truths' is deprecated and will be removed in the next version, please use 'ground_truth' instead. Note that `ground_truth` should be of type string and not Sequence[string] like `ground_truths`\n"
          ]
        },
        {
          "output_type": "display_data",
          "data": {
            "text/plain": [
              "Evaluating:   0%|          | 0/70 [00:00<?, ?it/s]"
            ],
            "application/vnd.jupyter.widget-view+json": {
              "version_major": 2,
              "version_minor": 0,
              "model_id": "ff7fa0d2f9d64de293ba60719b676237"
            }
          },
          "metadata": {}
        }
      ]
    },
    {
      "cell_type": "code",
      "source": [
        "basic_qa_result"
      ],
      "metadata": {
        "id": "-274vSiru2E5",
        "outputId": "6cb24a5f-73f4-4ca6-9d44-9ea8fadb6589",
        "colab": {
          "base_uri": "https://localhost:8080/"
        }
      },
      "execution_count": 186,
      "outputs": [
        {
          "output_type": "execute_result",
          "data": {
            "text/plain": [
              "{'context_precision': 0.2034, 'faithfulness': 1.0000, 'answer_relevancy': 0.6939, 'context_recall': 0.8500, 'context_relevancy': 0.0032, 'answer_correctness': 0.6101, 'answer_similarity': 0.9095}"
            ]
          },
          "metadata": {},
          "execution_count": 186
        }
      ]
    }
  ]
}